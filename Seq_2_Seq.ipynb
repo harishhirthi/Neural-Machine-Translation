{
 "cells": [
  {
   "cell_type": "code",
   "execution_count": null,
   "metadata": {
    "colab": {
     "base_uri": "https://localhost:8080/",
     "height": 374
    },
    "id": "wAPE1DRza1xD",
    "outputId": "8b94efdd-b91c-45e7-b838-927b3c82d3bf"
   },
   "outputs": [
    {
     "name": "stdout",
     "output_type": "stream",
     "text": [
      "Collecting pyunpack\n",
      "  Downloading https://files.pythonhosted.org/packages/83/29/020436b1d8e96e5f26fa282b9c3c13a3b456a36b9ea2edc87c5fed008369/pyunpack-0.2.2-py2.py3-none-any.whl\n",
      "Collecting entrypoint2\n",
      "  Downloading https://files.pythonhosted.org/packages/c2/ca/00c8767568924e5c2209da99b6abdeeed9d11cbae2a713d54d041b092a09/entrypoint2-0.2.3-py2.py3-none-any.whl\n",
      "Collecting easyprocess\n",
      "  Downloading https://files.pythonhosted.org/packages/48/3c/75573613641c90c6d094059ac28adb748560d99bd27ee6f80cce398f404e/EasyProcess-0.3-py2.py3-none-any.whl\n",
      "Collecting argparse\n",
      "  Downloading https://files.pythonhosted.org/packages/f2/94/3af39d34be01a24a6e65433d19e107099374224905f1e0cc6bbe1fd22a2f/argparse-1.4.0-py2.py3-none-any.whl\n",
      "Installing collected packages: argparse, entrypoint2, easyprocess, pyunpack\n",
      "Successfully installed argparse-1.4.0 easyprocess-0.3 entrypoint2-0.2.3 pyunpack-0.2.2\n"
     ]
    },
    {
     "data": {
      "application/vnd.colab-display-data+json": {
       "pip_warning": {
        "packages": [
         "argparse"
        ]
       }
      }
     },
     "metadata": {
      "tags": []
     },
     "output_type": "display_data"
    },
    {
     "name": "stdout",
     "output_type": "stream",
     "text": [
      "Collecting patool\n",
      "\u001b[?25l  Downloading https://files.pythonhosted.org/packages/43/94/52243ddff508780dd2d8110964320ab4851134a55ab102285b46e740f76a/patool-1.12-py2.py3-none-any.whl (77kB)\n",
      "\r",
      "\u001b[K     |████▎                           | 10kB 15.5MB/s eta 0:00:01\r",
      "\u001b[K     |████████▌                       | 20kB 4.7MB/s eta 0:00:01\r",
      "\u001b[K     |████████████▊                   | 30kB 5.4MB/s eta 0:00:01\r",
      "\u001b[K     |█████████████████               | 40kB 6.4MB/s eta 0:00:01\r",
      "\u001b[K     |█████████████████████▏          | 51kB 5.3MB/s eta 0:00:01\r",
      "\u001b[K     |█████████████████████████▍      | 61kB 5.8MB/s eta 0:00:01\r",
      "\u001b[K     |█████████████████████████████▋  | 71kB 6.1MB/s eta 0:00:01\r",
      "\u001b[K     |████████████████████████████████| 81kB 4.0MB/s \n",
      "\u001b[?25hInstalling collected packages: patool\n",
      "Successfully installed patool-1.12\n"
     ]
    }
   ],
   "source": [
    "!pip install pyunpack\n",
    "!pip install patool"
   ]
  },
  {
   "cell_type": "code",
   "execution_count": null,
   "metadata": {
    "id": "PVujXUtnJI-Q"
   },
   "outputs": [],
   "source": [
    "from pyunpack import Archive"
   ]
  },
  {
   "cell_type": "code",
   "execution_count": null,
   "metadata": {
    "id": "QpvLZrsQJI2t"
   },
   "outputs": [],
   "source": [
    "Archive('/content/drive/My Drive/LSTM/glove.6B.100d.rar').extractall('/content')"
   ]
  },
  {
   "cell_type": "code",
   "execution_count": null,
   "metadata": {
    "colab": {
     "base_uri": "https://localhost:8080/",
     "height": 34
    },
    "id": "W_YOdAyNXFuK",
    "outputId": "5cba1121-793b-44eb-9122-f1a407d46c68"
   },
   "outputs": [
    {
     "data": {
      "text/plain": [
       "True"
      ]
     },
     "execution_count": 4,
     "metadata": {
      "tags": []
     },
     "output_type": "execute_result"
    }
   ],
   "source": [
    "import tensorflow as tf\n",
    "import os\n",
    "tf.compat.v1.enable_eager_execution()\n",
    "tf.keras.backend.clear_session()\n",
    "from tensorflow.keras.layers import Input, Softmax, RNN, Dense, Embedding, LSTM\n",
    "from tensorflow.keras.models import Model\n",
    "import numpy as np\n",
    "import re\n",
    "import pandas as pd\n",
    "from tensorflow.keras.preprocessing.text import Tokenizer\n",
    "from tensorflow.keras.preprocessing.sequence import pad_sequences\n",
    "import matplotlib.pyplot as plt\n",
    "import matplotlib.ticker as ticker\n",
    "import warnings\n",
    "warnings.filterwarnings('ignore')\n",
    "import nltk.translate.bleu_score as bleu\n",
    "from sklearn.model_selection import train_test_split\n",
    "\n",
    "tf.executing_eagerly()"
   ]
  },
  {
   "cell_type": "markdown",
   "metadata": {
    "id": "y5t6QJwTVEWm"
   },
   "source": [
    "# Data Preparation"
   ]
  },
  {
   "cell_type": "code",
   "execution_count": null,
   "metadata": {
    "colab": {
     "base_uri": "https://localhost:8080/",
     "height": 34
    },
    "id": "Z-vwwOSkYrow",
    "outputId": "94a3c6d3-abe6-4387-d35c-e469b4cd3443"
   },
   "outputs": [
    {
     "data": {
      "text/plain": [
       "True"
      ]
     },
     "execution_count": 5,
     "metadata": {
      "tags": []
     },
     "output_type": "execute_result"
    }
   ],
   "source": [
    "file = open('/content/drive/My Drive/LSTM/ita.txt', 'r', encoding = 'utf8')\n",
    "text = file.read()\n",
    "file.close()\n",
    "file.closed"
   ]
  },
  {
   "cell_type": "code",
   "execution_count": null,
   "metadata": {
    "id": "XO4uA2qZYqs1"
   },
   "outputs": [],
   "source": [
    "English = []\n",
    "Italian = []\n",
    "i = 0\n",
    "for line in text.split('\\n'):\n",
    "    #print(line)\n",
    "    try:\n",
    "        sent = (line.split('\\t')[:2])\n",
    "        English.append(sent[0])\n",
    "        Italian.append(sent[1])\n",
    "    except:\n",
    "        continue"
   ]
  },
  {
   "cell_type": "code",
   "execution_count": null,
   "metadata": {
    "colab": {
     "base_uri": "https://localhost:8080/",
     "height": 34
    },
    "id": "5OVMPysbYmvg",
    "outputId": "34d090a8-156d-460d-886d-bc6d5d0ca1ae"
   },
   "outputs": [
    {
     "data": {
      "text/plain": [
       "(341554, 341554)"
      ]
     },
     "execution_count": 7,
     "metadata": {
      "tags": []
     },
     "output_type": "execute_result"
    }
   ],
   "source": [
    "del English[-1]\n",
    "len(English), len(Italian)"
   ]
  },
  {
   "cell_type": "code",
   "execution_count": null,
   "metadata": {
    "id": "pOYUFXYnYlgv"
   },
   "outputs": [],
   "source": [
    "def decontractions(phrase):\n",
    "    \"\"\"decontracted takes text and convert contractions into natural form.\n",
    "     ref: https://stackoverflow.com/questions/19790188/expanding-english-language-contractions-in-python/47091490#47091490\"\"\"\n",
    "    # specific\n",
    "    phrase = re.sub(r\"won\\'t\", \"will not\", phrase)\n",
    "    phrase = re.sub(r\"can\\'t\", \"can not\", phrase)\n",
    "    phrase = re.sub(r\"won\\’t\", \"will not\", phrase)\n",
    "    phrase = re.sub(r\"can\\’t\", \"can not\", phrase)\n",
    "\n",
    "    # general\n",
    "    phrase = re.sub(r\"n\\'t\", \" not\", phrase)\n",
    "    phrase = re.sub(r\"\\'re\", \" are\", phrase)\n",
    "    phrase = re.sub(r\"\\'s\", \" is\", phrase)\n",
    "    phrase = re.sub(r\"\\'d\", \" would\", phrase)\n",
    "    phrase = re.sub(r\"\\'ll\", \" will\", phrase)\n",
    "    phrase = re.sub(r\"\\'t\", \" not\", phrase)\n",
    "    phrase = re.sub(r\"\\'ve\", \" have\", phrase)\n",
    "    phrase = re.sub(r\"\\'m\", \" am\", phrase)\n",
    "    return phrase\n",
    "    \n",
    "def preprocess_Eng(text): # Preprocessing of English sentences\n",
    "    txt = text.lower()\n",
    "    txt = decontractions(txt)\n",
    "    txt = re.sub('[^A-Za-z0-9 ]+', '', txt)\n",
    "    txt = txt.strip()\n",
    "    return txt\n",
    "\n",
    "def preprocess_Ita(txt): # Preprocessing of Italian sentences\n",
    "    text = txt.lower()\n",
    "    text = decontractions(text)\n",
    "    text = re.sub('[$)\\?\"’.°!;\\'€%:,(/]', '', text)\n",
    "    text = re.sub('\\u200b', ' ', text)\n",
    "    text = re.sub('\\xa0', ' ', text)\n",
    "    text = re.sub('-', ' ', text)\n",
    "    text = text.strip()\n",
    "    text = '<start> ' + text + ' <eos>' # Appending start and eos tokens at start and end of the italian sentences.\n",
    "    return text"
   ]
  },
  {
   "cell_type": "code",
   "execution_count": null,
   "metadata": {
    "colab": {
     "base_uri": "https://localhost:8080/",
     "height": 134
    },
    "id": "GOf0MHhfY7rN",
    "outputId": "8a9a4e88-9bda-4151-daae-dabca5263ab1"
   },
   "outputs": [
    {
     "name": "stdout",
     "output_type": "stream",
     "text": [
      "    Italian English\n",
      "0     Ciao!     Hi.\n",
      "1    Corri!    Run!\n",
      "2    Corra!    Run!\n",
      "3  Correte!    Run!\n",
      "4      Chi?    Who?\n"
     ]
    },
    {
     "data": {
      "text/plain": [
       "341554"
      ]
     },
     "execution_count": 9,
     "metadata": {
      "tags": []
     },
     "output_type": "execute_result"
    }
   ],
   "source": [
    "# Creating the dataframe of Italian and English sentences\n",
    "Data = pd.DataFrame(list(zip(Italian, English)), columns = ['Italian', 'English'])\n",
    "print(Data.head())\n",
    "len(Data)"
   ]
  },
  {
   "cell_type": "code",
   "execution_count": null,
   "metadata": {
    "id": "KDXoun_eY-Qs"
   },
   "outputs": [],
   "source": [
    "# Preprocessing of sentences.\n",
    "Data['Italian'] = Data['Italian'].apply(lambda row: preprocess_Ita(row))\n",
    "Data['English'] = Data['English'].apply(lambda row: preprocess_Eng(row))\n",
    "\n",
    "Data['Italian_len'] = Data['Italian'].apply(lambda row: len(row.split()) - 2)\n",
    "Data['Eng_len'] = Data['English'].apply(lambda row: len(row.split()))"
   ]
  },
  {
   "cell_type": "code",
   "execution_count": null,
   "metadata": {
    "colab": {
     "base_uri": "https://localhost:8080/",
     "height": 34
    },
    "id": "3Uws4caDY_it",
    "outputId": "55697c91-1488-45d0-ced0-5477d7d22756"
   },
   "outputs": [
    {
     "data": {
      "text/plain": [
       "(101, 92)"
      ]
     },
     "execution_count": 11,
     "metadata": {
      "tags": []
     },
     "output_type": "execute_result"
    }
   ],
   "source": [
    "max(Data['Eng_len']), max(Data['Italian_len'])"
   ]
  },
  {
   "cell_type": "code",
   "execution_count": null,
   "metadata": {
    "colab": {
     "base_uri": "https://localhost:8080/",
     "height": 554
    },
    "id": "Ckle_FylZBPw",
    "outputId": "5a80e469-ad9f-4fab-c010-cf151efcef3e"
   },
   "outputs": [
    {
     "name": "stdout",
     "output_type": "stream",
     "text": [
      "0 1.0\n",
      "10 3.0\n",
      "20 4.0\n",
      "30 4.0\n",
      "40 5.0\n",
      "50 5.0\n",
      "60 6.0\n",
      "70 6.0\n",
      "80 7.0\n",
      "90 8.0\n",
      "100 92.0\n",
      "90 8.0\n",
      "91 8.0\n",
      "92 8.0\n",
      "93 9.0\n",
      "94 9.0\n",
      "95 9.0\n",
      "96 9.0\n",
      "97 10.0\n",
      "98 11.0\n",
      "99 12.0\n",
      "100 92.0\n",
      "99.1 12.0\n",
      "99.2 12.0\n",
      "99.3 12.0\n",
      "99.4 13.0\n",
      "99.5 13.0\n",
      "99.6 14.0\n",
      "99.7 15.0\n",
      "99.8 16.0\n",
      "99.9 20.0\n",
      "100 92.0\n"
     ]
    }
   ],
   "source": [
    "for i in range(0,101,10):\n",
    "    print(i,np.percentile(Data['Italian_len'], i))\n",
    "for i in range(90,101):\n",
    "    print(i,np.percentile(Data['Italian_len'], i))\n",
    "for i in [99.1,99.2,99.3,99.4,99.5,99.6,99.7,99.8,99.9,100]:\n",
    "    print(i,np.percentile(Data['Italian_len'], i))"
   ]
  },
  {
   "cell_type": "code",
   "execution_count": null,
   "metadata": {
    "colab": {
     "base_uri": "https://localhost:8080/",
     "height": 554
    },
    "id": "zqOjZ01mZD_q",
    "outputId": "6efa055c-4b07-48c1-fe22-cbe239083878"
   },
   "outputs": [
    {
     "name": "stdout",
     "output_type": "stream",
     "text": [
      "0 1.0\n",
      "10 4.0\n",
      "20 4.0\n",
      "30 5.0\n",
      "40 5.0\n",
      "50 6.0\n",
      "60 6.0\n",
      "70 7.0\n",
      "80 7.0\n",
      "90 8.0\n",
      "100 101.0\n",
      "90 8.0\n",
      "91 9.0\n",
      "92 9.0\n",
      "93 9.0\n",
      "94 9.0\n",
      "95 9.0\n",
      "96 10.0\n",
      "97 10.0\n",
      "98 11.0\n",
      "99 12.0\n",
      "100 101.0\n",
      "99.1 12.0\n",
      "99.2 13.0\n",
      "99.3 13.0\n",
      "99.4 13.0\n",
      "99.5 14.0\n",
      "99.6 14.0\n",
      "99.7 15.0\n",
      "99.8 16.0\n",
      "99.9 20.0\n",
      "100 101.0\n"
     ]
    }
   ],
   "source": [
    "for i in range(0,101,10):\n",
    "    print(i,np.percentile(Data['Eng_len'], i))\n",
    "for i in range(90,101):\n",
    "    print(i,np.percentile(Data['Eng_len'], i))\n",
    "for i in [99.1,99.2,99.3,99.4,99.5,99.6,99.7,99.8,99.9,100]:\n",
    "    print(i,np.percentile(Data['Eng_len'], i))"
   ]
  },
  {
   "cell_type": "markdown",
   "metadata": {
    "id": "k5G00VzKo3EE"
   },
   "source": [
    "\n",
    "\n",
    "> From the above percentile values, 99 percentile of sentences have length of 20 both in Italian and English sentences. Thus, for this example we are going to use the sentences with the maximum length of 20 words for simplicity.\n",
    "\n"
   ]
  },
  {
   "cell_type": "code",
   "execution_count": null,
   "metadata": {
    "colab": {
     "base_uri": "https://localhost:8080/",
     "height": 34
    },
    "id": "_6ljMa5vYwJa",
    "outputId": "f0b21618-f644-4631-b73a-b86e0b1ac0a7"
   },
   "outputs": [
    {
     "data": {
      "text/plain": [
       "341248"
      ]
     },
     "execution_count": 14,
     "metadata": {
      "tags": []
     },
     "output_type": "execute_result"
    }
   ],
   "source": [
    "# Getting the sentence of maximum length 20\n",
    "Data = Data[Data['Italian_len'] <= 20]\n",
    "len(Data)"
   ]
  },
  {
   "cell_type": "code",
   "execution_count": null,
   "metadata": {
    "colab": {
     "base_uri": "https://localhost:8080/",
     "height": 34
    },
    "id": "bnt_zFQKYwf7",
    "outputId": "37f39bdd-1377-4866-b1e3-621e40cbced2"
   },
   "outputs": [
    {
     "data": {
      "text/plain": [
       "341207"
      ]
     },
     "execution_count": 15,
     "metadata": {
      "tags": []
     },
     "output_type": "execute_result"
    }
   ],
   "source": [
    "# Getting the sentence of maximum length 20\n",
    "Data = Data[Data['Eng_len'] <= 20]\n",
    "len(Data)"
   ]
  },
  {
   "cell_type": "code",
   "execution_count": null,
   "metadata": {
    "id": "t_HUE0IWYwi0"
   },
   "outputs": [],
   "source": [
    "# Since teacher forcing method is used, a separate input for decoder as \"Decoder_in\" and the overall output as \"Decoder_out\".\n",
    "# For Decoder_in sentences <start> and <eos> tokens are appended.\n",
    "# For Decoder_out sentences <eos> token is appended.\n",
    "Data['Decoder_in'] = Data['English'].apply(lambda row: '<start> ' + row + ' <eos>')\n",
    "Data['Decoder_out'] = Data['English'].apply(lambda row: row + ' <eos>')"
   ]
  },
  {
   "cell_type": "code",
   "execution_count": null,
   "metadata": {
    "colab": {
     "base_uri": "https://localhost:8080/",
     "height": 195
    },
    "id": "e1nHmyVZYwYe",
    "outputId": "7fb9d43d-c8f1-4e51-b927-31cba628a60e"
   },
   "outputs": [
    {
     "data": {
      "text/html": [
       "<div>\n",
       "<style scoped>\n",
       "    .dataframe tbody tr th:only-of-type {\n",
       "        vertical-align: middle;\n",
       "    }\n",
       "\n",
       "    .dataframe tbody tr th {\n",
       "        vertical-align: top;\n",
       "    }\n",
       "\n",
       "    .dataframe thead th {\n",
       "        text-align: right;\n",
       "    }\n",
       "</style>\n",
       "<table border=\"1\" class=\"dataframe\">\n",
       "  <thead>\n",
       "    <tr style=\"text-align: right;\">\n",
       "      <th></th>\n",
       "      <th>Italian</th>\n",
       "      <th>English</th>\n",
       "      <th>Italian_len</th>\n",
       "      <th>Eng_len</th>\n",
       "      <th>Decoder_in</th>\n",
       "      <th>Decoder_out</th>\n",
       "    </tr>\n",
       "  </thead>\n",
       "  <tbody>\n",
       "    <tr>\n",
       "      <th>0</th>\n",
       "      <td>&lt;start&gt; ciao &lt;eos&gt;</td>\n",
       "      <td>hi</td>\n",
       "      <td>1</td>\n",
       "      <td>1</td>\n",
       "      <td>&lt;start&gt; hi &lt;eos&gt;</td>\n",
       "      <td>hi &lt;eos&gt;</td>\n",
       "    </tr>\n",
       "    <tr>\n",
       "      <th>1</th>\n",
       "      <td>&lt;start&gt; corri &lt;eos&gt;</td>\n",
       "      <td>run</td>\n",
       "      <td>1</td>\n",
       "      <td>1</td>\n",
       "      <td>&lt;start&gt; run &lt;eos&gt;</td>\n",
       "      <td>run &lt;eos&gt;</td>\n",
       "    </tr>\n",
       "    <tr>\n",
       "      <th>2</th>\n",
       "      <td>&lt;start&gt; corra &lt;eos&gt;</td>\n",
       "      <td>run</td>\n",
       "      <td>1</td>\n",
       "      <td>1</td>\n",
       "      <td>&lt;start&gt; run &lt;eos&gt;</td>\n",
       "      <td>run &lt;eos&gt;</td>\n",
       "    </tr>\n",
       "    <tr>\n",
       "      <th>3</th>\n",
       "      <td>&lt;start&gt; correte &lt;eos&gt;</td>\n",
       "      <td>run</td>\n",
       "      <td>1</td>\n",
       "      <td>1</td>\n",
       "      <td>&lt;start&gt; run &lt;eos&gt;</td>\n",
       "      <td>run &lt;eos&gt;</td>\n",
       "    </tr>\n",
       "    <tr>\n",
       "      <th>4</th>\n",
       "      <td>&lt;start&gt; chi &lt;eos&gt;</td>\n",
       "      <td>who</td>\n",
       "      <td>1</td>\n",
       "      <td>1</td>\n",
       "      <td>&lt;start&gt; who &lt;eos&gt;</td>\n",
       "      <td>who &lt;eos&gt;</td>\n",
       "    </tr>\n",
       "  </tbody>\n",
       "</table>\n",
       "</div>"
      ],
      "text/plain": [
       "                 Italian English  ...         Decoder_in  Decoder_out\n",
       "0     <start> ciao <eos>      hi  ...   <start> hi <eos>     hi <eos>\n",
       "1    <start> corri <eos>     run  ...  <start> run <eos>    run <eos>\n",
       "2    <start> corra <eos>     run  ...  <start> run <eos>    run <eos>\n",
       "3  <start> correte <eos>     run  ...  <start> run <eos>    run <eos>\n",
       "4      <start> chi <eos>     who  ...  <start> who <eos>    who <eos>\n",
       "\n",
       "[5 rows x 6 columns]"
      ]
     },
     "execution_count": 17,
     "metadata": {
      "tags": []
     },
     "output_type": "execute_result"
    }
   ],
   "source": [
    "Data.reset_index(drop=True, inplace = True)\n",
    "Data.head()"
   ]
  },
  {
   "cell_type": "code",
   "execution_count": null,
   "metadata": {
    "colab": {
     "base_uri": "https://localhost:8080/",
     "height": 494
    },
    "id": "W3cX0PKIYwS4",
    "outputId": "a814e5fe-f60c-4c67-d806-e880fab65930"
   },
   "outputs": [
    {
     "data": {
      "text/html": [
       "<div>\n",
       "<style scoped>\n",
       "    .dataframe tbody tr th:only-of-type {\n",
       "        vertical-align: middle;\n",
       "    }\n",
       "\n",
       "    .dataframe tbody tr th {\n",
       "        vertical-align: top;\n",
       "    }\n",
       "\n",
       "    .dataframe thead th {\n",
       "        text-align: right;\n",
       "    }\n",
       "</style>\n",
       "<table border=\"1\" class=\"dataframe\">\n",
       "  <thead>\n",
       "    <tr style=\"text-align: right;\">\n",
       "      <th></th>\n",
       "      <th>Italian</th>\n",
       "      <th>English</th>\n",
       "      <th>Italian_len</th>\n",
       "      <th>Eng_len</th>\n",
       "      <th>Decoder_in</th>\n",
       "      <th>Decoder_out</th>\n",
       "    </tr>\n",
       "  </thead>\n",
       "  <tbody>\n",
       "    <tr>\n",
       "      <th>214503</th>\n",
       "      <td>&lt;start&gt; tom ha molta paura dei serpenti &lt;eos&gt;</td>\n",
       "      <td>tom is very afraid of snakes</td>\n",
       "      <td>6</td>\n",
       "      <td>6</td>\n",
       "      <td>&lt;start&gt; tom is very afraid of snakes &lt;eos&gt;</td>\n",
       "      <td>tom is very afraid of snakes &lt;eos&gt;</td>\n",
       "    </tr>\n",
       "    <tr>\n",
       "      <th>339457</th>\n",
       "      <td>&lt;start&gt; noi potevamo vedere ciò che pensavamo ...</td>\n",
       "      <td>we could see what we thought was a pirate ship...</td>\n",
       "      <td>13</td>\n",
       "      <td>13</td>\n",
       "      <td>&lt;start&gt; we could see what we thought was a pir...</td>\n",
       "      <td>we could see what we thought was a pirate ship...</td>\n",
       "    </tr>\n",
       "    <tr>\n",
       "      <th>132962</th>\n",
       "      <td>&lt;start&gt; volevo essere con te &lt;eos&gt;</td>\n",
       "      <td>i wanted to be with you</td>\n",
       "      <td>4</td>\n",
       "      <td>6</td>\n",
       "      <td>&lt;start&gt; i wanted to be with you &lt;eos&gt;</td>\n",
       "      <td>i wanted to be with you &lt;eos&gt;</td>\n",
       "    </tr>\n",
       "    <tr>\n",
       "      <th>311669</th>\n",
       "      <td>&lt;start&gt; perché stai indossando una t shirt ros...</td>\n",
       "      <td>why are you wearing a pink tshirt tom</td>\n",
       "      <td>8</td>\n",
       "      <td>8</td>\n",
       "      <td>&lt;start&gt; why are you wearing a pink tshirt tom ...</td>\n",
       "      <td>why are you wearing a pink tshirt tom &lt;eos&gt;</td>\n",
       "    </tr>\n",
       "    <tr>\n",
       "      <th>188198</th>\n",
       "      <td>&lt;start&gt; non dovevi dire di sì &lt;eos&gt;</td>\n",
       "      <td>you did not have to say yes</td>\n",
       "      <td>5</td>\n",
       "      <td>7</td>\n",
       "      <td>&lt;start&gt; you did not have to say yes &lt;eos&gt;</td>\n",
       "      <td>you did not have to say yes &lt;eos&gt;</td>\n",
       "    </tr>\n",
       "    <tr>\n",
       "      <th>309251</th>\n",
       "      <td>&lt;start&gt; mi voglio sdraiare e riposare per un p...</td>\n",
       "      <td>i want to lie down and rest for a while</td>\n",
       "      <td>8</td>\n",
       "      <td>10</td>\n",
       "      <td>&lt;start&gt; i want to lie down and rest for a whil...</td>\n",
       "      <td>i want to lie down and rest for a while &lt;eos&gt;</td>\n",
       "    </tr>\n",
       "    <tr>\n",
       "      <th>117607</th>\n",
       "      <td>&lt;start&gt; dissi a tom che lo odiavo &lt;eos&gt;</td>\n",
       "      <td>i told tom i hated him</td>\n",
       "      <td>6</td>\n",
       "      <td>6</td>\n",
       "      <td>&lt;start&gt; i told tom i hated him &lt;eos&gt;</td>\n",
       "      <td>i told tom i hated him &lt;eos&gt;</td>\n",
       "    </tr>\n",
       "    <tr>\n",
       "      <th>25711</th>\n",
       "      <td>&lt;start&gt; odio la mia casa &lt;eos&gt;</td>\n",
       "      <td>i hate my house</td>\n",
       "      <td>4</td>\n",
       "      <td>4</td>\n",
       "      <td>&lt;start&gt; i hate my house &lt;eos&gt;</td>\n",
       "      <td>i hate my house &lt;eos&gt;</td>\n",
       "    </tr>\n",
       "    <tr>\n",
       "      <th>247692</th>\n",
       "      <td>&lt;start&gt; non voglio mangiare di nuovo là &lt;eos&gt;</td>\n",
       "      <td>i do not want to eat there again</td>\n",
       "      <td>6</td>\n",
       "      <td>8</td>\n",
       "      <td>&lt;start&gt; i do not want to eat there again &lt;eos&gt;</td>\n",
       "      <td>i do not want to eat there again &lt;eos&gt;</td>\n",
       "    </tr>\n",
       "    <tr>\n",
       "      <th>266614</th>\n",
       "      <td>&lt;start&gt; non lo farà qua vero &lt;eos&gt;</td>\n",
       "      <td>you will not do that here will you</td>\n",
       "      <td>5</td>\n",
       "      <td>8</td>\n",
       "      <td>&lt;start&gt; you will not do that here will you &lt;eos&gt;</td>\n",
       "      <td>you will not do that here will you &lt;eos&gt;</td>\n",
       "    </tr>\n",
       "  </tbody>\n",
       "</table>\n",
       "</div>"
      ],
      "text/plain": [
       "                                                  Italian  ...                                        Decoder_out\n",
       "214503      <start> tom ha molta paura dei serpenti <eos>  ...                 tom is very afraid of snakes <eos>\n",
       "339457  <start> noi potevamo vedere ciò che pensavamo ...  ...  we could see what we thought was a pirate ship...\n",
       "132962                 <start> volevo essere con te <eos>  ...                      i wanted to be with you <eos>\n",
       "311669  <start> perché stai indossando una t shirt ros...  ...        why are you wearing a pink tshirt tom <eos>\n",
       "188198                <start> non dovevi dire di sì <eos>  ...                  you did not have to say yes <eos>\n",
       "309251  <start> mi voglio sdraiare e riposare per un p...  ...      i want to lie down and rest for a while <eos>\n",
       "117607            <start> dissi a tom che lo odiavo <eos>  ...                       i told tom i hated him <eos>\n",
       "25711                      <start> odio la mia casa <eos>  ...                              i hate my house <eos>\n",
       "247692      <start> non voglio mangiare di nuovo là <eos>  ...             i do not want to eat there again <eos>\n",
       "266614                 <start> non lo farà qua vero <eos>  ...           you will not do that here will you <eos>\n",
       "\n",
       "[10 rows x 6 columns]"
      ]
     },
     "execution_count": 18,
     "metadata": {
      "tags": []
     },
     "output_type": "execute_result"
    }
   ],
   "source": [
    "Data.sample(10)"
   ]
  },
  {
   "cell_type": "code",
   "execution_count": null,
   "metadata": {
    "colab": {
     "base_uri": "https://localhost:8080/",
     "height": 34
    },
    "id": "jTdS86jtXyyg",
    "outputId": "3fb1b520-4046-470e-ee60-f7eaabcc0f53"
   },
   "outputs": [
    {
     "data": {
      "text/plain": [
       "((272965, 6), (68242, 6))"
      ]
     },
     "execution_count": 19,
     "metadata": {
      "tags": []
     },
     "output_type": "execute_result"
    }
   ],
   "source": [
    "# Splitting the data into train and validation data(Test data).\n",
    "train, validation = train_test_split(Data, test_size=0.2)\n",
    "train.reset_index(drop=True, inplace = True)\n",
    "validation.reset_index(drop=True, inplace = True)\n",
    "train.shape, validation.shape"
   ]
  },
  {
   "cell_type": "code",
   "execution_count": null,
   "metadata": {
    "id": "1h4AJbM8YwMr"
   },
   "outputs": [],
   "source": [
    "# This function is to create tokenizer for the respctive language sentences.\n",
    "def Tokenizing(inp):\n",
    "    Token = Tokenizer(filters = \"\", oov_token = '<UNK>')\n",
    "    Token.fit_on_texts(inp)\n",
    "    \n",
    "    values = Token.texts_to_sequences(inp)\n",
    "    values = pad_sequences(values, padding = 'post')\n",
    "    \n",
    "    return Token, values"
   ]
  },
  {
   "cell_type": "code",
   "execution_count": null,
   "metadata": {
    "colab": {
     "base_uri": "https://localhost:8080/",
     "height": 34
    },
    "id": "wxGTX7X7Z8-Q",
    "outputId": "257d5f50-d403-4f1d-b148-1332b8c11cde"
   },
   "outputs": [
    {
     "data": {
      "text/plain": [
       "12801"
      ]
     },
     "execution_count": 21,
     "metadata": {
      "tags": []
     },
     "output_type": "execute_result"
    }
   ],
   "source": [
    "# English tokenizer on train data.\n",
    "eng_token, _ = Tokenizing(train['Decoder_in'])\n",
    "eng_vocab_size = len(eng_token.word_index)\n",
    "eng_vocab_size"
   ]
  },
  {
   "cell_type": "code",
   "execution_count": null,
   "metadata": {
    "colab": {
     "base_uri": "https://localhost:8080/",
     "height": 1000
    },
    "id": "zprOVVzqZ5Ye",
    "outputId": "0d1c1a70-d628-4ce4-ef00-8b34c3cb9d15"
   },
   "outputs": [
    {
     "data": {
      "text/plain": [
       "{'<UNK>': 1,\n",
       " '<start>': 2,\n",
       " '<eos>': 3,\n",
       " 'i': 4,\n",
       " 'you': 5,\n",
       " 'tom': 6,\n",
       " 'to': 7,\n",
       " 'is': 8,\n",
       " 'not': 9,\n",
       " 'the': 10,\n",
       " 'a': 11,\n",
       " 'do': 12,\n",
       " 'are': 13,\n",
       " 'have': 14,\n",
       " 'it': 15,\n",
       " 'that': 16,\n",
       " 'he': 17,\n",
       " 'was': 18,\n",
       " 'am': 19,\n",
       " 'in': 20,\n",
       " 'we': 21,\n",
       " 'me': 22,\n",
       " 'will': 23,\n",
       " 'did': 24,\n",
       " 'of': 25,\n",
       " 'this': 26,\n",
       " 'be': 27,\n",
       " 'for': 28,\n",
       " 'can': 29,\n",
       " 'what': 30,\n",
       " 'my': 31,\n",
       " 'your': 32,\n",
       " 'want': 33,\n",
       " 'mary': 34,\n",
       " 'with': 35,\n",
       " 'like': 36,\n",
       " 'why': 37,\n",
       " 'know': 38,\n",
       " 'she': 39,\n",
       " 'go': 40,\n",
       " 'think': 41,\n",
       " 'his': 42,\n",
       " 'here': 43,\n",
       " 'they': 44,\n",
       " 'at': 45,\n",
       " 'would': 46,\n",
       " 'very': 47,\n",
       " 'on': 48,\n",
       " 'and': 49,\n",
       " 'has': 50,\n",
       " 'how': 51,\n",
       " 'there': 52,\n",
       " 'about': 53,\n",
       " 'does': 54,\n",
       " 'now': 55,\n",
       " 'were': 56,\n",
       " 'all': 57,\n",
       " 'going': 58,\n",
       " 'so': 59,\n",
       " 'should': 60,\n",
       " 'get': 61,\n",
       " 'need': 62,\n",
       " 'help': 63,\n",
       " 'as': 64,\n",
       " 'boston': 65,\n",
       " 'time': 66,\n",
       " 'us': 67,\n",
       " 'him': 68,\n",
       " 'good': 69,\n",
       " 'an': 70,\n",
       " 'had': 71,\n",
       " 'really': 72,\n",
       " 'one': 73,\n",
       " 'tell': 74,\n",
       " 'who': 75,\n",
       " 'never': 76,\n",
       " 'too': 77,\n",
       " 'still': 78,\n",
       " 'where': 79,\n",
       " 'see': 80,\n",
       " 'come': 81,\n",
       " 'been': 82,\n",
       " 'her': 83,\n",
       " 'got': 84,\n",
       " 'up': 85,\n",
       " 'just': 86,\n",
       " 'french': 87,\n",
       " 'anything': 88,\n",
       " 'no': 89,\n",
       " 'from': 90,\n",
       " 'home': 91,\n",
       " 'please': 92,\n",
       " 'much': 93,\n",
       " 'out': 94,\n",
       " 'by': 95,\n",
       " 'said': 96,\n",
       " 'when': 97,\n",
       " 'could': 98,\n",
       " 'work': 99,\n",
       " 'let': 100,\n",
       " 'lot': 101,\n",
       " 'told': 102,\n",
       " 'car': 103,\n",
       " 'something': 104,\n",
       " 'some': 105,\n",
       " 'money': 106,\n",
       " 'busy': 107,\n",
       " 'give': 108,\n",
       " 'back': 109,\n",
       " 'went': 110,\n",
       " 'today': 111,\n",
       " 'if': 112,\n",
       " 'always': 113,\n",
       " 'eat': 114,\n",
       " 'than': 115,\n",
       " 'more': 116,\n",
       " 'last': 117,\n",
       " 'love': 118,\n",
       " 'take': 119,\n",
       " 'sure': 120,\n",
       " 'must': 121,\n",
       " 'happy': 122,\n",
       " 'talk': 123,\n",
       " 'look': 124,\n",
       " 'only': 125,\n",
       " 'leave': 126,\n",
       " 'right': 127,\n",
       " 'day': 128,\n",
       " 'new': 129,\n",
       " 'book': 130,\n",
       " 'say': 131,\n",
       " 'tomorrow': 132,\n",
       " 'three': 133,\n",
       " 'wanted': 134,\n",
       " 'many': 135,\n",
       " 'buy': 136,\n",
       " 'make': 137,\n",
       " 'stay': 138,\n",
       " 'school': 139,\n",
       " 'any': 140,\n",
       " 'thought': 141,\n",
       " 'live': 142,\n",
       " 'ever': 143,\n",
       " 'play': 144,\n",
       " 'made': 145,\n",
       " 'friends': 146,\n",
       " 'them': 147,\n",
       " 'our': 148,\n",
       " 'well': 149,\n",
       " 'everything': 150,\n",
       " 'doing': 151,\n",
       " 'find': 152,\n",
       " 'people': 153,\n",
       " 'room': 154,\n",
       " 'house': 155,\n",
       " 'speak': 156,\n",
       " 'yet': 157,\n",
       " 'read': 158,\n",
       " 'but': 159,\n",
       " 'nothing': 160,\n",
       " 'better': 161,\n",
       " 'yesterday': 162,\n",
       " 'wants': 163,\n",
       " 'feel': 164,\n",
       " 'asked': 165,\n",
       " 'job': 166,\n",
       " 'tired': 167,\n",
       " 'saw': 168,\n",
       " 'every': 169,\n",
       " 'stop': 170,\n",
       " 'call': 171,\n",
       " 'little': 172,\n",
       " 'hate': 173,\n",
       " 'problem': 174,\n",
       " 'used': 175,\n",
       " 'ready': 176,\n",
       " 'already': 177,\n",
       " 'ask': 178,\n",
       " 'next': 179,\n",
       " 'done': 180,\n",
       " 'teacher': 181,\n",
       " 'australia': 182,\n",
       " 'old': 183,\n",
       " 'try': 184,\n",
       " 'lost': 185,\n",
       " 'friend': 186,\n",
       " 'left': 187,\n",
       " 'alone': 188,\n",
       " 'seen': 189,\n",
       " 'may': 190,\n",
       " 'these': 191,\n",
       " 'hope': 192,\n",
       " 'two': 193,\n",
       " 'father': 194,\n",
       " 'late': 195,\n",
       " 'believe': 196,\n",
       " 'again': 197,\n",
       " 'wrong': 198,\n",
       " 'understand': 199,\n",
       " 'or': 200,\n",
       " 'night': 201,\n",
       " 'before': 202,\n",
       " 'long': 203,\n",
       " 'everyone': 204,\n",
       " 'name': 205,\n",
       " 'down': 206,\n",
       " 'morning': 207,\n",
       " 'put': 208,\n",
       " 'dog': 209,\n",
       " 'often': 210,\n",
       " 'married': 211,\n",
       " 'gave': 212,\n",
       " 'man': 213,\n",
       " 'wait': 214,\n",
       " 'things': 215,\n",
       " 'study': 216,\n",
       " 'years': 217,\n",
       " 'both': 218,\n",
       " 'afraid': 219,\n",
       " 'bought': 220,\n",
       " 'tonight': 221,\n",
       " 'coffee': 222,\n",
       " 'use': 223,\n",
       " 'party': 224,\n",
       " 'off': 225,\n",
       " 'anymore': 226,\n",
       " 'into': 227,\n",
       " 'knew': 228,\n",
       " 'angry': 229,\n",
       " 'came': 230,\n",
       " 'found': 231,\n",
       " 'looks': 232,\n",
       " 'knows': 233,\n",
       " 'took': 234,\n",
       " 'way': 235,\n",
       " 'drink': 236,\n",
       " 'tried': 237,\n",
       " 'children': 238,\n",
       " 'proud': 239,\n",
       " 'happened': 240,\n",
       " 'week': 241,\n",
       " 'seems': 242,\n",
       " 'mother': 243,\n",
       " 'first': 244,\n",
       " 'even': 245,\n",
       " 'answer': 246,\n",
       " 'life': 247,\n",
       " 'keep': 248,\n",
       " 'idea': 249,\n",
       " 'soon': 250,\n",
       " 'hard': 251,\n",
       " 'heard': 252,\n",
       " 'without': 253,\n",
       " 'being': 254,\n",
       " 'together': 255,\n",
       " 'worried': 256,\n",
       " 'early': 257,\n",
       " 'english': 258,\n",
       " 'looking': 259,\n",
       " 'fun': 260,\n",
       " 'same': 261,\n",
       " 'plan': 262,\n",
       " 'seem': 263,\n",
       " 'away': 264,\n",
       " 'almost': 265,\n",
       " 'pretty': 266,\n",
       " 'anyone': 267,\n",
       " 'enough': 268,\n",
       " 'might': 269,\n",
       " 'open': 270,\n",
       " 'thing': 271,\n",
       " 'kind': 272,\n",
       " 'another': 273,\n",
       " 'year': 274,\n",
       " 'likes': 275,\n",
       " 'working': 276,\n",
       " 'christmas': 277,\n",
       " 'waiting': 278,\n",
       " 'hear': 279,\n",
       " 'over': 280,\n",
       " 'other': 281,\n",
       " 'able': 282,\n",
       " 'best': 283,\n",
       " 'pay': 284,\n",
       " 'dinner': 285,\n",
       " 'died': 286,\n",
       " 'bad': 287,\n",
       " 'sleep': 288,\n",
       " 'question': 289,\n",
       " 'surprised': 290,\n",
       " 'hurt': 291,\n",
       " 'door': 292,\n",
       " 'after': 293,\n",
       " 'says': 294,\n",
       " 'family': 295,\n",
       " 'learn': 296,\n",
       " 'books': 297,\n",
       " 'talking': 298,\n",
       " 'favorite': 299,\n",
       " 'write': 300,\n",
       " 'happen': 301,\n",
       " 'true': 302,\n",
       " 'which': 303,\n",
       " 'change': 304,\n",
       " 'sorry': 305,\n",
       " 'wish': 306,\n",
       " 'water': 307,\n",
       " 'everybody': 308,\n",
       " 'parents': 309,\n",
       " 'lunch': 310,\n",
       " 'stupid': 311,\n",
       " 'food': 312,\n",
       " 'met': 313,\n",
       " 'truth': 314,\n",
       " 'watch': 315,\n",
       " 'lives': 316,\n",
       " 'brother': 317,\n",
       " 'person': 318,\n",
       " 'interested': 319,\n",
       " 'looked': 320,\n",
       " 'sick': 321,\n",
       " 'big': 322,\n",
       " 'rich': 323,\n",
       " 'coming': 324,\n",
       " 'someone': 325,\n",
       " 'remember': 326,\n",
       " 'those': 327,\n",
       " 'young': 328,\n",
       " 'walk': 329,\n",
       " 'nice': 330,\n",
       " 'started': 331,\n",
       " 'win': 332,\n",
       " 'beautiful': 333,\n",
       " 'else': 334,\n",
       " 'letter': 335,\n",
       " 'such': 336,\n",
       " 'trying': 337,\n",
       " 'girlfriend': 338,\n",
       " 'drive': 339,\n",
       " 'their': 340,\n",
       " 'bed': 341,\n",
       " 'sister': 342,\n",
       " 'cold': 343,\n",
       " 'care': 344,\n",
       " 'arrived': 345,\n",
       " 'worry': 346,\n",
       " 'doctor': 347,\n",
       " 'train': 348,\n",
       " 'listen': 349,\n",
       " 'quite': 350,\n",
       " 'place': 351,\n",
       " 'getting': 352,\n",
       " 'turn': 353,\n",
       " 'hungry': 354,\n",
       " 'meet': 355,\n",
       " 'forget': 356,\n",
       " 'sing': 357,\n",
       " 'show': 358,\n",
       " 'free': 359,\n",
       " 'playing': 360,\n",
       " 'swim': 361,\n",
       " 'called': 362,\n",
       " 'days': 363,\n",
       " 'needs': 364,\n",
       " 'killed': 365,\n",
       " 'few': 366,\n",
       " 'start': 367,\n",
       " 'phone': 368,\n",
       " 'nobody': 369,\n",
       " 'trust': 370,\n",
       " 'bus': 371,\n",
       " 'mistake': 372,\n",
       " 'yours': 373,\n",
       " 'because': 374,\n",
       " 'myself': 375,\n",
       " 'mine': 376,\n",
       " 'mind': 377,\n",
       " 'summer': 378,\n",
       " 'music': 379,\n",
       " 'great': 380,\n",
       " 'son': 381,\n",
       " 'studying': 382,\n",
       " 'once': 383,\n",
       " 'drunk': 384,\n",
       " 'probably': 385,\n",
       " 'difficult': 386,\n",
       " 'finished': 387,\n",
       " 'bit': 388,\n",
       " 'usually': 389,\n",
       " 'ate': 390,\n",
       " 'different': 391,\n",
       " 'easy': 392,\n",
       " 'beer': 393,\n",
       " 'reading': 394,\n",
       " 'himself': 395,\n",
       " 'girl': 396,\n",
       " 'tv': 397,\n",
       " 'movie': 398,\n",
       " 'paid': 399,\n",
       " 'important': 400,\n",
       " 'questions': 401,\n",
       " 'while': 402,\n",
       " 'far': 403,\n",
       " 'ago': 404,\n",
       " 'cat': 405,\n",
       " 'lucky': 406,\n",
       " 'ok': 407,\n",
       " 'story': 408,\n",
       " 'around': 409,\n",
       " 'decided': 410,\n",
       " 'living': 411,\n",
       " 'having': 412,\n",
       " 'park': 413,\n",
       " 'die': 414,\n",
       " 'nervous': 415,\n",
       " 'tennis': 416,\n",
       " 'wife': 417,\n",
       " 'meeting': 418,\n",
       " 'picture': 419,\n",
       " 'dance': 420,\n",
       " 'bring': 421,\n",
       " 'visit': 422,\n",
       " 'maybe': 423,\n",
       " 'eating': 424,\n",
       " 'serious': 425,\n",
       " 'thank': 426,\n",
       " 'forgot': 427,\n",
       " 'spent': 428,\n",
       " 'monday': 429,\n",
       " 'boy': 430,\n",
       " 'police': 431,\n",
       " 'hand': 432,\n",
       " 'afternoon': 433,\n",
       " 'homework': 434,\n",
       " 'office': 435,\n",
       " 'tea': 436,\n",
       " 'hours': 437,\n",
       " 'born': 438,\n",
       " 'helped': 439,\n",
       " 'kill': 440,\n",
       " 'interesting': 441,\n",
       " 'japan': 442,\n",
       " 'broke': 443,\n",
       " 'wonder': 444,\n",
       " 'times': 445,\n",
       " 'changed': 446,\n",
       " 'child': 447,\n",
       " 'gone': 448,\n",
       " 'became': 449,\n",
       " 'works': 450,\n",
       " 'minutes': 451,\n",
       " 'hotel': 452,\n",
       " 'anybody': 453,\n",
       " 'accident': 454,\n",
       " 'fell': 455,\n",
       " 'scared': 456,\n",
       " 'agree': 457,\n",
       " 'wrote': 458,\n",
       " 'explain': 459,\n",
       " 'safe': 460,\n",
       " 'hair': 461,\n",
       " 'eaten': 462,\n",
       " 'later': 463,\n",
       " 'teach': 464,\n",
       " 'yourself': 465,\n",
       " 'wine': 466,\n",
       " 'shoes': 467,\n",
       " 'team': 468,\n",
       " 'rain': 469,\n",
       " 'hands': 470,\n",
       " 'lose': 471,\n",
       " 'red': 472,\n",
       " 'station': 473,\n",
       " 'near': 474,\n",
       " 'won': 475,\n",
       " 'small': 476,\n",
       " 'students': 477,\n",
       " 'country': 478,\n",
       " 'trouble': 479,\n",
       " 'bicycle': 480,\n",
       " 'miss': 481,\n",
       " 'watching': 482,\n",
       " 'world': 483,\n",
       " 'word': 484,\n",
       " 'fish': 485,\n",
       " 'game': 486,\n",
       " 'city': 487,\n",
       " 'liked': 488,\n",
       " 'swimming': 489,\n",
       " 'window': 490,\n",
       " 'ten': 491,\n",
       " 'seemed': 492,\n",
       " 'boyfriend': 493,\n",
       " 'perfect': 494,\n",
       " 'breakfast': 495,\n",
       " 'began': 496,\n",
       " 'song': 497,\n",
       " 'thirty': 498,\n",
       " 'sit': 499,\n",
       " 'longer': 500,\n",
       " 'talked': 501,\n",
       " 'invited': 502,\n",
       " 'since': 503,\n",
       " 'felt': 504,\n",
       " 'supposed': 505,\n",
       " 'thinks': 506,\n",
       " 'smoking': 507,\n",
       " 'kept': 508,\n",
       " 'each': 509,\n",
       " 'dead': 510,\n",
       " 'pen': 511,\n",
       " 'evening': 512,\n",
       " 'against': 513,\n",
       " 'run': 514,\n",
       " 'spend': 515,\n",
       " 'month': 516,\n",
       " 'exactly': 517,\n",
       " 'golf': 518,\n",
       " 'fast': 519,\n",
       " 'most': 520,\n",
       " 'played': 521,\n",
       " 'price': 522,\n",
       " 'news': 523,\n",
       " 'milk': 524,\n",
       " 'possible': 525,\n",
       " 'touch': 526,\n",
       " 'cook': 527,\n",
       " 'lie': 528,\n",
       " 'clean': 529,\n",
       " 'jealous': 530,\n",
       " 'table': 531,\n",
       " 'lived': 532,\n",
       " 'john': 533,\n",
       " 'key': 534,\n",
       " 'honest': 535,\n",
       " 'kiss': 536,\n",
       " 'problems': 537,\n",
       " 'number': 538,\n",
       " 'wearing': 539,\n",
       " 'thinking': 540,\n",
       " 'making': 541,\n",
       " 'real': 542,\n",
       " 'fine': 543,\n",
       " 'weekend': 544,\n",
       " 'hurry': 545,\n",
       " 'town': 546,\n",
       " 'older': 547,\n",
       " '230': 548,\n",
       " 'strange': 549,\n",
       " 'worked': 550,\n",
       " 'mad': 551,\n",
       " 'funny': 552,\n",
       " 'asleep': 553,\n",
       " 'loves': 554,\n",
       " 'advice': 555,\n",
       " 'hot': 556,\n",
       " 'woman': 557,\n",
       " 'secret': 558,\n",
       " 'high': 559,\n",
       " 'enjoy': 560,\n",
       " 'learned': 561,\n",
       " 'close': 562,\n",
       " 'sound': 563,\n",
       " 'send': 564,\n",
       " 'rather': 565,\n",
       " 'mean': 566,\n",
       " 'own': 567,\n",
       " 'makes': 568,\n",
       " 'stopped': 569,\n",
       " 'guy': 570,\n",
       " 'expensive': 571,\n",
       " 'umbrella': 572,\n",
       " 'stayed': 573,\n",
       " 'likely': 574,\n",
       " 'outside': 575,\n",
       " 'crazy': 576,\n",
       " 'turned': 577,\n",
       " 'five': 578,\n",
       " 'appreciate': 579,\n",
       " 'finish': 580,\n",
       " 'canadian': 581,\n",
       " 'river': 582,\n",
       " 'student': 583,\n",
       " 'famous': 584,\n",
       " 'until': 585,\n",
       " 'fix': 586,\n",
       " 'sad': 587,\n",
       " 'message': 588,\n",
       " 'hour': 589,\n",
       " 'dangerous': 590,\n",
       " 'lying': 591,\n",
       " 'fire': 592,\n",
       " 'cut': 593,\n",
       " 'tall': 594,\n",
       " 'apple': 595,\n",
       " 'basketball': 596,\n",
       " 'under': 597,\n",
       " 'library': 598,\n",
       " 'restaurant': 599,\n",
       " 'japanese': 600,\n",
       " 'careful': 601,\n",
       " 'age': 602,\n",
       " 'sometimes': 603,\n",
       " 'hat': 604,\n",
       " 'class': 605,\n",
       " 'plans': 606,\n",
       " 'goes': 607,\n",
       " 'cannot': 608,\n",
       " 'taking': 609,\n",
       " 'daughter': 610,\n",
       " 'glad': 611,\n",
       " 'weather': 612,\n",
       " 'become': 613,\n",
       " 'eyes': 614,\n",
       " 'willing': 615,\n",
       " 'dollars': 616,\n",
       " 'mistakes': 617,\n",
       " 'light': 618,\n",
       " 'present': 619,\n",
       " 'reason': 620,\n",
       " 'guess': 621,\n",
       " 'test': 622,\n",
       " 'matter': 623,\n",
       " 'opinion': 624,\n",
       " 'computer': 625,\n",
       " 'leaving': 626,\n",
       " 'promise': 627,\n",
       " 'sunday': 628,\n",
       " 'follow': 629,\n",
       " 'blame': 630,\n",
       " 'part': 631,\n",
       " 'missed': 632,\n",
       " 'flowers': 633,\n",
       " 'full': 634,\n",
       " 'box': 635,\n",
       " 'hospital': 636,\n",
       " 'tree': 637,\n",
       " 'piano': 638,\n",
       " 'prepared': 639,\n",
       " 'dogs': 640,\n",
       " 'glasses': 641,\n",
       " 'clothes': 642,\n",
       " 'behind': 643,\n",
       " 'moment': 644,\n",
       " 'move': 645,\n",
       " 'information': 646,\n",
       " 'prefer': 647,\n",
       " 'lied': 648,\n",
       " 'cry': 649,\n",
       " 'order': 650,\n",
       " 'studied': 651,\n",
       " 'sell': 652,\n",
       " 'store': 653,\n",
       " 'needed': 654,\n",
       " 'welcome': 655,\n",
       " 'uncle': 656,\n",
       " 'expect': 657,\n",
       " 'waited': 658,\n",
       " 'actually': 659,\n",
       " 'inside': 660,\n",
       " 'wear': 661,\n",
       " 'accept': 662,\n",
       " 'fat': 663,\n",
       " 'apologize': 664,\n",
       " 'somebody': 665,\n",
       " 'curious': 666,\n",
       " 'speaking': 667,\n",
       " 'pizza': 668,\n",
       " 'quickly': 669,\n",
       " 'break': 670,\n",
       " 'strong': 671,\n",
       " 'weight': 672,\n",
       " 'baseball': 673,\n",
       " 'thanks': 674,\n",
       " 'cost': 675,\n",
       " 'drinking': 676,\n",
       " 'saying': 677,\n",
       " 'loved': 678,\n",
       " 'church': 679,\n",
       " 'minute': 680,\n",
       " 'chance': 681,\n",
       " 'then': 682,\n",
       " 'confused': 683,\n",
       " 'ran': 684,\n",
       " 'comes': 685,\n",
       " 'cup': 686,\n",
       " 'rest': 687,\n",
       " 'movies': 688,\n",
       " 'vacation': 689,\n",
       " 'attention': 690,\n",
       " 'sent': 691,\n",
       " 'short': 692,\n",
       " 'birthday': 693,\n",
       " 'writing': 694,\n",
       " 'protect': 695,\n",
       " 'quit': 696,\n",
       " 'telling': 697,\n",
       " 'smoke': 698,\n",
       " 'owe': 699,\n",
       " 'language': 700,\n",
       " 'wake': 701,\n",
       " 'business': 702,\n",
       " 'trip': 703,\n",
       " 'caught': 704,\n",
       " 'feeling': 705,\n",
       " 'black': 706,\n",
       " 'dream': 707,\n",
       " 'taught': 708,\n",
       " 'knife': 709,\n",
       " 'concert': 710,\n",
       " 'war': 711,\n",
       " 'pass': 712,\n",
       " 'showed': 713,\n",
       " 'terrible': 714,\n",
       " 'learning': 715,\n",
       " 'large': 716,\n",
       " 'dark': 717,\n",
       " 'white': 718,\n",
       " 'excuse': 719,\n",
       " 'report': 720,\n",
       " 'satisfied': 721,\n",
       " 'bored': 722,\n",
       " 'desk': 723,\n",
       " 'death': 724,\n",
       " 'listening': 725,\n",
       " 'convinced': 726,\n",
       " 'several': 727,\n",
       " 'cake': 728,\n",
       " 'list': 729,\n",
       " 'gets': 730,\n",
       " 'waste': 731,\n",
       " 'guitar': 732,\n",
       " 'decision': 733,\n",
       " 'sugar': 734,\n",
       " 'dress': 735,\n",
       " 'guilty': 736,\n",
       " 'brought': 737,\n",
       " 'save': 738,\n",
       " 'others': 739,\n",
       " 'second': 740,\n",
       " 'ride': 741,\n",
       " 'smart': 742,\n",
       " 'disappointed': 743,\n",
       " 'cats': 744,\n",
       " 'closed': 745,\n",
       " 'drank': 746,\n",
       " 'glass': 747,\n",
       " 'plane': 748,\n",
       " 'awake': 749,\n",
       " 'hit': 750,\n",
       " 'zoo': 751,\n",
       " 'patient': 752,\n",
       " 'radio': 753,\n",
       " 'offer': 754,\n",
       " 'company': 755,\n",
       " 'abroad': 756,\n",
       " 'street': 757,\n",
       " 'catch': 758,\n",
       " 'jail': 759,\n",
       " 'tokyo': 760,\n",
       " 'paper': 761,\n",
       " 'visited': 762,\n",
       " 'special': 763,\n",
       " 'singing': 764,\n",
       " 'keys': 765,\n",
       " 'horse': 766,\n",
       " 'bag': 767,\n",
       " 'six': 768,\n",
       " 'whole': 769,\n",
       " 'happening': 770,\n",
       " 'speaks': 771,\n",
       " 'kissed': 772,\n",
       " 'choice': 773,\n",
       " 'return': 774,\n",
       " 'bread': 775,\n",
       " 'planning': 776,\n",
       " 'lawyer': 777,\n",
       " 'hated': 778,\n",
       " 'blue': 779,\n",
       " 'fishing': 780,\n",
       " 'camera': 781,\n",
       " 'crying': 782,\n",
       " 'shy': 783,\n",
       " 'afford': 784,\n",
       " 'happens': 785,\n",
       " 'garden': 786,\n",
       " 'meat': 787,\n",
       " 'borrow': 788,\n",
       " 'soccer': 789,\n",
       " 'during': 790,\n",
       " 'helping': 791,\n",
       " 'ice': 792,\n",
       " 'dictionary': 793,\n",
       " 'through': 794,\n",
       " 'situation': 795,\n",
       " 'arrested': 796,\n",
       " 'address': 797,\n",
       " 'plays': 798,\n",
       " 'women': 799,\n",
       " 'between': 800,\n",
       " 'decide': 801,\n",
       " 'heart': 802,\n",
       " 'hide': 803,\n",
       " 'walking': 804,\n",
       " 'bank': 805,\n",
       " 'end': 806,\n",
       " 'excited': 807,\n",
       " 'husband': 808,\n",
       " 'player': 809,\n",
       " 'spoke': 810,\n",
       " 'running': 811,\n",
       " 'recently': 812,\n",
       " 'stole': 813,\n",
       " 'refused': 814,\n",
       " 'younger': 815,\n",
       " 'sign': 816,\n",
       " 'snow': 817,\n",
       " 'months': 818,\n",
       " 'check': 819,\n",
       " 'promised': 820,\n",
       " 'travel': 821,\n",
       " 'somewhere': 822,\n",
       " 'written': 823,\n",
       " 'shopping': 824,\n",
       " 'join': 825,\n",
       " 'fired': 826,\n",
       " 'control': 827,\n",
       " 'begin': 828,\n",
       " 'fault': 829,\n",
       " 'surprise': 830,\n",
       " 'dancing': 831,\n",
       " 'whose': 832,\n",
       " 'sat': 833,\n",
       " 'solve': 834,\n",
       " 'alive': 835,\n",
       " 'laughing': 836,\n",
       " 'arrive': 837,\n",
       " 'advised': 838,\n",
       " 'beach': 839,\n",
       " 'rules': 840,\n",
       " 'gun': 841,\n",
       " 'translate': 842,\n",
       " 'apartment': 843,\n",
       " 'laughed': 844,\n",
       " 'baby': 845,\n",
       " 'twice': 846,\n",
       " 'along': 847,\n",
       " 'wash': 848,\n",
       " 'apples': 849,\n",
       " 'opened': 850,\n",
       " 'sleeping': 851,\n",
       " 'anywhere': 852,\n",
       " 'joke': 853,\n",
       " 'respect': 854,\n",
       " 'poor': 855,\n",
       " 'favor': 856,\n",
       " 'extremely': 857,\n",
       " 'broken': 858,\n",
       " 'upset': 859,\n",
       " 'medicine': 860,\n",
       " 'oclock': 861,\n",
       " 'known': 862,\n",
       " 'prison': 863,\n",
       " 'future': 864,\n",
       " 'stand': 865,\n",
       " 'noise': 866,\n",
       " 'impressed': 867,\n",
       " 'common': 868,\n",
       " 'half': 869,\n",
       " 'cooking': 870,\n",
       " 'lots': 871,\n",
       " 'cars': 872,\n",
       " 'unhappy': 873,\n",
       " 'college': 874,\n",
       " 'ticket': 875,\n",
       " 'languages': 876,\n",
       " 'exam': 877,\n",
       " 'soup': 878,\n",
       " 'wonderful': 879,\n",
       " 'eggs': 880,\n",
       " 'stuff': 881,\n",
       " 'bridge': 882,\n",
       " 'taken': 883,\n",
       " 'finally': 884,\n",
       " 'raining': 885,\n",
       " 'tie': 886,\n",
       " 'hates': 887,\n",
       " 'asking': 888,\n",
       " 'men': 889,\n",
       " 'telephone': 890,\n",
       " 'also': 891,\n",
       " 'shut': 892,\n",
       " 'smile': 893,\n",
       " 'fruit': 894,\n",
       " 'correct': 895,\n",
       " 'face': 896,\n",
       " 'voice': 897,\n",
       " 'quiet': 898,\n",
       " 'fight': 899,\n",
       " 'worse': 900,\n",
       " 'bill': 901,\n",
       " 'football': 902,\n",
       " 'driver': 903,\n",
       " 'annoying': 904,\n",
       " 'front': 905,\n",
       " 'staying': 906,\n",
       " 'head': 907,\n",
       " 'sense': 908,\n",
       " 'count': 909,\n",
       " 'hiding': 910,\n",
       " 'moved': 911,\n",
       " 'shot': 912,\n",
       " 'kitchen': 913,\n",
       " 'choose': 914,\n",
       " 'floor': 915,\n",
       " 'coat': 916,\n",
       " 'returned': 917,\n",
       " 'london': 918,\n",
       " 'depressed': 919,\n",
       " 'sleepy': 920,\n",
       " 'walked': 921,\n",
       " 'gift': 922,\n",
       " 'stolen': 923,\n",
       " 'taxi': 924,\n",
       " 'pain': 925,\n",
       " 'project': 926,\n",
       " 'ordered': 927,\n",
       " 'lend': 928,\n",
       " 'marry': 929,\n",
       " 'girls': 930,\n",
       " 'boss': 931,\n",
       " 'building': 932,\n",
       " 'deserve': 933,\n",
       " 'color': 934,\n",
       " 'recognize': 935,\n",
       " 'america': 936,\n",
       " 'forgive': 937,\n",
       " 'shop': 938,\n",
       " 'brothers': 939,\n",
       " 'blind': 940,\n",
       " 'handsome': 941,\n",
       " 'popular': 942,\n",
       " 'yes': 943,\n",
       " 'hey': 944,\n",
       " 'brave': 945,\n",
       " 'sandwich': 946,\n",
       " 'vote': 947,\n",
       " 'rice': 948,\n",
       " 'dressed': 949,\n",
       " 'four': 950,\n",
       " 'whether': 951,\n",
       " 'eats': 952,\n",
       " 'passed': 953,\n",
       " 'ideas': 954,\n",
       " 'fly': 955,\n",
       " 'necessary': 956,\n",
       " 'obviously': 957,\n",
       " 'teeth': 958,\n",
       " 'innocent': 959,\n",
       " 'accepted': 960,\n",
       " 'calm': 961,\n",
       " 'embarrassed': 962,\n",
       " 'novel': 963,\n",
       " 'bottle': 964,\n",
       " 'sounds': 965,\n",
       " 'air': 966,\n",
       " 'worth': 967,\n",
       " 'washed': 968,\n",
       " 'road': 969,\n",
       " 'wedding': 970,\n",
       " 'risk': 971,\n",
       " 'driving': 972,\n",
       " 'ship': 973,\n",
       " 'thirsty': 974,\n",
       " 'laugh': 975,\n",
       " 'truck': 976,\n",
       " 'doubt': 977,\n",
       " 'normal': 978,\n",
       " 'carefully': 979,\n",
       " 'sports': 980,\n",
       " 'danger': 981,\n",
       " 'slow': 982,\n",
       " 'slowly': 983,\n",
       " 'pictures': 984,\n",
       " 'chinese': 985,\n",
       " 'october': 986,\n",
       " 'sitting': 987,\n",
       " 'lazy': 988,\n",
       " 'certain': 989,\n",
       " 'drinks': 990,\n",
       " 'less': 991,\n",
       " 'words': 992,\n",
       " 'shirt': 993,\n",
       " 'kids': 994,\n",
       " 'consider': 995,\n",
       " 'received': 996,\n",
       " 'airport': 997,\n",
       " 'immediately': 998,\n",
       " 'grew': 999,\n",
       " 'share': 1000,\n",
       " ...}"
      ]
     },
     "execution_count": 22,
     "metadata": {
      "tags": []
     },
     "output_type": "execute_result"
    }
   ],
   "source": [
    "eng_token.word_index"
   ]
  },
  {
   "cell_type": "code",
   "execution_count": null,
   "metadata": {
    "colab": {
     "base_uri": "https://localhost:8080/",
     "height": 34
    },
    "id": "IaEyuGAAZ-7f",
    "outputId": "8aad907e-6285-47a2-e0ce-0932aa28c2a5"
   },
   "outputs": [
    {
     "data": {
      "text/plain": [
       "26102"
      ]
     },
     "execution_count": 23,
     "metadata": {
      "tags": []
     },
     "output_type": "execute_result"
    }
   ],
   "source": [
    "# Italian tokenizer on train data.\n",
    "ita_token, _ = Tokenizing(train['Italian'])\n",
    "ita_vocab_size = len(ita_token.word_index)\n",
    "ita_vocab_size"
   ]
  },
  {
   "cell_type": "code",
   "execution_count": null,
   "metadata": {
    "colab": {
     "base_uri": "https://localhost:8080/",
     "height": 1000
    },
    "id": "xPUY63u9aAun",
    "outputId": "6cf868a7-5c58-4b71-b617-9cff69aeada0"
   },
   "outputs": [
    {
     "data": {
      "text/plain": [
       "{'<UNK>': 1,\n",
       " '<start>': 2,\n",
       " '<eos>': 3,\n",
       " 'tom': 4,\n",
       " 'non': 5,\n",
       " 'è': 6,\n",
       " 'di': 7,\n",
       " 'a': 8,\n",
       " 'che': 9,\n",
       " 'io': 10,\n",
       " 'la': 11,\n",
       " 'il': 12,\n",
       " 'ha': 13,\n",
       " 'un': 14,\n",
       " 'sono': 15,\n",
       " 'per': 16,\n",
       " 'in': 17,\n",
       " 'mi': 18,\n",
       " 'ho': 19,\n",
       " 'una': 20,\n",
       " 'con': 21,\n",
       " 'lei': 22,\n",
       " 'mary': 23,\n",
       " 'perché': 24,\n",
       " 'molto': 25,\n",
       " 'le': 26,\n",
       " 'questo': 27,\n",
       " 'lo': 28,\n",
       " 'da': 29,\n",
       " 'si': 30,\n",
       " 'i': 31,\n",
       " 'era': 32,\n",
       " 'lui': 33,\n",
       " 'voi': 34,\n",
       " 'noi': 35,\n",
       " 'più': 36,\n",
       " 'cosa': 37,\n",
       " 'essere': 38,\n",
       " 'sei': 39,\n",
       " 'e': 40,\n",
       " 'me': 41,\n",
       " 'tu': 42,\n",
       " 'sta': 43,\n",
       " 'qui': 44,\n",
       " 'vero': 45,\n",
       " 'fare': 46,\n",
       " 'suo': 47,\n",
       " 'ci': 48,\n",
       " 'mai': 49,\n",
       " 'come': 50,\n",
       " 'voglio': 51,\n",
       " 'mio': 52,\n",
       " 'così': 53,\n",
       " 'sia': 54,\n",
       " 'ancora': 55,\n",
       " 'penso': 56,\n",
       " 'casa': 57,\n",
       " 'del': 58,\n",
       " 'siete': 59,\n",
       " 'questa': 60,\n",
       " 'detto': 61,\n",
       " 'andare': 62,\n",
       " 'mia': 63,\n",
       " 'sua': 64,\n",
       " 'al': 65,\n",
       " 'hai': 66,\n",
       " 'fatto': 67,\n",
       " 'piace': 68,\n",
       " 'boston': 69,\n",
       " 'avete': 70,\n",
       " 'ti': 71,\n",
       " 'siamo': 72,\n",
       " 'quello': 73,\n",
       " 'posso': 74,\n",
       " 'stato': 75,\n",
       " 'loro': 76,\n",
       " 'vi': 77,\n",
       " 'alla': 78,\n",
       " 'abbiamo': 79,\n",
       " 'tutto': 80,\n",
       " 'tutti': 81,\n",
       " 'se': 82,\n",
       " 'ora': 83,\n",
       " 'francese': 84,\n",
       " 'so': 85,\n",
       " 'qualcosa': 86,\n",
       " 'vuole': 87,\n",
       " 'dei': 88,\n",
       " 'troppo': 89,\n",
       " 'po': 90,\n",
       " 'chi': 91,\n",
       " 'sto': 92,\n",
       " 'quando': 93,\n",
       " 'della': 94,\n",
       " 'gli': 95,\n",
       " 'ero': 96,\n",
       " 'sembra': 97,\n",
       " 'solo': 98,\n",
       " 'bisogno': 99,\n",
       " 'lavoro': 100,\n",
       " 'farlo': 101,\n",
       " 'sempre': 102,\n",
       " 'dove': 103,\n",
       " 'può': 104,\n",
       " 'parlare': 105,\n",
       " 'oggi': 106,\n",
       " 'te': 107,\n",
       " 'bene': 108,\n",
       " 'tempo': 109,\n",
       " 'adesso': 110,\n",
       " 'cè': 111,\n",
       " 'davvero': 112,\n",
       " 'ne': 113,\n",
       " 'visto': 114,\n",
       " 'nel': 115,\n",
       " 'ad': 116,\n",
       " 'delle': 117,\n",
       " 'niente': 118,\n",
       " 'hanno': 119,\n",
       " 'devo': 120,\n",
       " 'sa': 121,\n",
       " 'nulla': 122,\n",
       " 'tuo': 123,\n",
       " 'sarà': 124,\n",
       " 'libro': 125,\n",
       " 'deve': 126,\n",
       " 'tre': 127,\n",
       " 'stata': 128,\n",
       " 'nessuno': 129,\n",
       " 'fa': 130,\n",
       " 'già': 131,\n",
       " 'ieri': 132,\n",
       " 'quella': 133,\n",
       " 'nella': 134,\n",
       " 'favore': 135,\n",
       " 'domani': 136,\n",
       " 'piacere': 137,\n",
       " 'giorno': 138,\n",
       " 'tua': 139,\n",
       " 'felice': 140,\n",
       " 'prima': 141,\n",
       " 'quanto': 142,\n",
       " 'scuola': 143,\n",
       " 'due': 144,\n",
       " 'vorrei': 145,\n",
       " 'dire': 146,\n",
       " 'vostro': 147,\n",
       " 'cui': 148,\n",
       " 'ogni': 149,\n",
       " 'riesco': 150,\n",
       " 'soldi': 151,\n",
       " 'quel': 152,\n",
       " 'veramente': 153,\n",
       " 'problema': 154,\n",
       " 'state': 155,\n",
       " 'uno': 156,\n",
       " 'mangiare': 157,\n",
       " 'presto': 158,\n",
       " 'andato': 159,\n",
       " 'sicuro': 160,\n",
       " 'macchina': 161,\n",
       " 'qua': 162,\n",
       " 'vedere': 163,\n",
       " 'pensavo': 164,\n",
       " 'lì': 165,\n",
       " 'lho': 166,\n",
       " 'suoi': 167,\n",
       " 'voleva': 168,\n",
       " 'alle': 169,\n",
       " 'aveva': 170,\n",
       " 'vostra': 171,\n",
       " 'qualcuno': 172,\n",
       " 'avere': 173,\n",
       " 'nuovo': 174,\n",
       " 'volta': 175,\n",
       " 'lha': 176,\n",
       " 'qualche': 177,\n",
       " 'miei': 178,\n",
       " 'anni': 179,\n",
       " 'padre': 180,\n",
       " 'meglio': 181,\n",
       " 'stai': 182,\n",
       " 'qual': 183,\n",
       " 'pensa': 184,\n",
       " 'o': 185,\n",
       " 'parte': 186,\n",
       " 'letto': 187,\n",
       " 'fosse': 188,\n",
       " 'cose': 189,\n",
       " 'aiutare': 190,\n",
       " 'comprato': 191,\n",
       " 'vuoi': 192,\n",
       " 'su': 193,\n",
       " 'dovrebbe': 194,\n",
       " 'senza': 195,\n",
       " 'disse': 196,\n",
       " 'facendo': 197,\n",
       " 'stava': 198,\n",
       " 'settimana': 199,\n",
       " 'spesso': 200,\n",
       " 'grande': 201,\n",
       " 'ciò': 202,\n",
       " 'sul': 203,\n",
       " 'tutte': 204,\n",
       " 'va': 205,\n",
       " 'cane': 206,\n",
       " 'dobbiamo': 207,\n",
       " 'altro': 208,\n",
       " 'persone': 209,\n",
       " 'dalla': 210,\n",
       " 'molti': 211,\n",
       " 'piuttosto': 212,\n",
       " 'puoi': 213,\n",
       " 'successo': 214,\n",
       " 'volete': 215,\n",
       " 'caffè': 216,\n",
       " 'denaro': 217,\n",
       " 'abbia': 218,\n",
       " 'paura': 219,\n",
       " 'chiesto': 220,\n",
       " 'stanza': 221,\n",
       " 'vita': 222,\n",
       " 'spero': 223,\n",
       " 'fuori': 224,\n",
       " 'australia': 225,\n",
       " 'possiamo': 226,\n",
       " 'erano': 227,\n",
       " 'festa': 228,\n",
       " 'abbastanza': 229,\n",
       " 'appena': 230,\n",
       " 'devi': 231,\n",
       " 'sentito': 232,\n",
       " 'dice': 233,\n",
       " 'sarò': 234,\n",
       " 'quasi': 235,\n",
       " 'dovuto': 236,\n",
       " 'perso': 237,\n",
       " 'stanno': 238,\n",
       " 'aiuto': 239,\n",
       " 'odio': 240,\n",
       " 'potrebbe': 241,\n",
       " 'piano': 242,\n",
       " 'venire': 243,\n",
       " 'nome': 244,\n",
       " 'lavorare': 245,\n",
       " 'riesce': 246,\n",
       " 'prendere': 247,\n",
       " 'madre': 248,\n",
       " 'male': 249,\n",
       " 'sicura': 250,\n",
       " 'notte': 251,\n",
       " 'ritardo': 252,\n",
       " 'dato': 253,\n",
       " 'amici': 254,\n",
       " 'amo': 255,\n",
       " 'studiare': 256,\n",
       " 'leggere': 257,\n",
       " 'dal': 258,\n",
       " 'ragione': 259,\n",
       " 'molte': 260,\n",
       " 'finito': 261,\n",
       " 'piacciono': 262,\n",
       " 'difficile': 263,\n",
       " 'dovete': 264,\n",
       " 'porta': 265,\n",
       " 'avuto': 266,\n",
       " 'bravo': 267,\n",
       " 'amico': 268,\n",
       " 'mangiato': 269,\n",
       " 'trovato': 270,\n",
       " 'sapere': 271,\n",
       " 'pensi': 272,\n",
       " 'natale': 273,\n",
       " 'comprare': 274,\n",
       " 'volevo': 275,\n",
       " 'potete': 276,\n",
       " 'momento': 277,\n",
       " 'dovè': 278,\n",
       " 'sarebbe': 279,\n",
       " 'volte': 280,\n",
       " 'avevo': 281,\n",
       " 'buona': 282,\n",
       " 'anche': 283,\n",
       " 'preso': 284,\n",
       " 'domanda': 285,\n",
       " 'sembrava': 286,\n",
       " 'dopo': 287,\n",
       " 'sera': 288,\n",
       " 'città': 289,\n",
       " 'queste': 290,\n",
       " 'degli': 291,\n",
       " 'cercando': 292,\n",
       " 'sulla': 293,\n",
       " 'grado': 294,\n",
       " 'fu': 295,\n",
       " 'scorsa': 296,\n",
       " 'sapevo': 297,\n",
       " 'sai': 298,\n",
       " 'stavo': 299,\n",
       " 'andata': 300,\n",
       " 'stanco': 301,\n",
       " 'trovare': 302,\n",
       " 'serve': 303,\n",
       " 'pensate': 304,\n",
       " 'giocare': 305,\n",
       " 'ragazza': 306,\n",
       " 'però': 307,\n",
       " 'intenzione': 308,\n",
       " 'famiglia': 309,\n",
       " 'posto': 310,\n",
       " 'sento': 311,\n",
       " 'genitori': 312,\n",
       " 'nuotare': 313,\n",
       " 'idea': 314,\n",
       " 'stiamo': 315,\n",
       " 'riguardo': 316,\n",
       " 'ma': 317,\n",
       " 'nostro': 318,\n",
       " 'persona': 319,\n",
       " 'libri': 320,\n",
       " 'probabilmente': 321,\n",
       " 'tardi': 322,\n",
       " 'tanto': 323,\n",
       " 'dovrei': 324,\n",
       " 'questi': 325,\n",
       " 'quale': 326,\n",
       " 'soltanto': 327,\n",
       " 'aver': 328,\n",
       " 'nuova': 329,\n",
       " 'arrabbiato': 330,\n",
       " 'fino': 331,\n",
       " 'fratello': 332,\n",
       " 'buon': 333,\n",
       " 'solamente': 334,\n",
       " 'conosco': 335,\n",
       " 'impegnato': 336,\n",
       " 'cibo': 337,\n",
       " 'sapete': 338,\n",
       " 'mattina': 339,\n",
       " 'nostra': 340,\n",
       " 'sue': 341,\n",
       " 'parlato': 342,\n",
       " 'verità': 343,\n",
       " 'divertente': 344,\n",
       " 'lettera': 345,\n",
       " 'stia': 346,\n",
       " 'faccia': 347,\n",
       " 'occupato': 348,\n",
       " 'film': 349,\n",
       " 'mie': 350,\n",
       " 'via': 351,\n",
       " 'sola': 352,\n",
       " 'aspettare': 353,\n",
       " 'cena': 354,\n",
       " 'giovane': 355,\n",
       " 'imparare': 356,\n",
       " 'telefono': 357,\n",
       " 'amiche': 358,\n",
       " 'piacerebbe': 359,\n",
       " 'vivere': 360,\n",
       " 'no': 361,\n",
       " 'storia': 362,\n",
       " 'andando': 363,\n",
       " 'sorella': 364,\n",
       " 'insegnante': 365,\n",
       " 'figlio': 366,\n",
       " 'forse': 367,\n",
       " 'assieme': 368,\n",
       " 'fece': 369,\n",
       " 'ai': 370,\n",
       " 'parla': 371,\n",
       " 'stasera': 372,\n",
       " 'andate': 373,\n",
       " 'modo': 374,\n",
       " 'daccordo': 375,\n",
       " 'morto': 376,\n",
       " 'tipo': 377,\n",
       " 'pronto': 378,\n",
       " 'bere': 379,\n",
       " 'stati': 380,\n",
       " 'aspettando': 381,\n",
       " 'dovresti': 382,\n",
       " 'treno': 383,\n",
       " 'sapeva': 384,\n",
       " 'venuto': 385,\n",
       " 'bambini': 386,\n",
       " 'dovremmo': 387,\n",
       " 'facile': 388,\n",
       " 'uomo': 389,\n",
       " 'musica': 390,\n",
       " 'dormire': 391,\n",
       " 'dispiace': 392,\n",
       " 'errore': 393,\n",
       " 'eravamo': 394,\n",
       " 'bella': 395,\n",
       " 'tutta': 396,\n",
       " 'avrebbe': 397,\n",
       " 'parlando': 398,\n",
       " 'provato': 399,\n",
       " 'vicino': 400,\n",
       " 'cantare': 401,\n",
       " 'chiave': 402,\n",
       " 'camera': 403,\n",
       " 'cosè': 404,\n",
       " 'dentro': 405,\n",
       " 'farò': 406,\n",
       " 'scorso': 407,\n",
       " 'ragazzo': 408,\n",
       " 'risposta': 409,\n",
       " 'giorni': 410,\n",
       " 'vive': 411,\n",
       " 'birra': 412,\n",
       " 'farà': 413,\n",
       " 'dica': 414,\n",
       " 'quanti': 415,\n",
       " 'migliore': 416,\n",
       " 'lunedì': 417,\n",
       " 'dovreste': 418,\n",
       " 'guidare': 419,\n",
       " 'tra': 420,\n",
       " 'piedi': 421,\n",
       " 'grazie': 422,\n",
       " 'vado': 423,\n",
       " 'stessa': 424,\n",
       " 'viene': 425,\n",
       " 'scritto': 426,\n",
       " 'giusto': 427,\n",
       " 'problemi': 428,\n",
       " 'suonare': 429,\n",
       " 'prossima': 430,\n",
       " 'lasciato': 431,\n",
       " 'preferito': 432,\n",
       " 'sbagliato': 433,\n",
       " 'gente': 434,\n",
       " 'figli': 435,\n",
       " 'stesso': 436,\n",
       " 'avrei': 437,\n",
       " 'preoccupato': 438,\n",
       " 'fame': 439,\n",
       " 'moglie': 440,\n",
       " 'possibile': 441,\n",
       " 'entrambi': 442,\n",
       " 'mano': 443,\n",
       " 'alto': 444,\n",
       " 'forte': 445,\n",
       " 'deciso': 446,\n",
       " 'pomeriggio': 447,\n",
       " 'capelli': 448,\n",
       " 'potrei': 449,\n",
       " 'dottore': 450,\n",
       " 'polizia': 451,\n",
       " 'stare': 452,\n",
       " 'importante': 453,\n",
       " 'compiti': 454,\n",
       " 'inglese': 455,\n",
       " 'unaltra': 456,\n",
       " 'tè': 457,\n",
       " 'ore': 458,\n",
       " 'tennis': 459,\n",
       " 'strada': 460,\n",
       " 'fumare': 461,\n",
       " 'sembri': 462,\n",
       " 'uscire': 463,\n",
       " 'chiamato': 464,\n",
       " 'sarei': 465,\n",
       " 'tuoi': 466,\n",
       " 'vada': 467,\n",
       " 'attenzione': 468,\n",
       " 'restare': 469,\n",
       " 'ricco': 470,\n",
       " 'primo': 471,\n",
       " 'giappone': 472,\n",
       " 'arrivato': 473,\n",
       " 'genere': 474,\n",
       " 'chiedo': 475,\n",
       " 'foto': 476,\n",
       " 'pronta': 477,\n",
       " 'vogliamo': 478,\n",
       " 'andiamo': 479,\n",
       " 'andrò': 480,\n",
       " 'squadra': 481,\n",
       " 'felici': 482,\n",
       " 'quante': 483,\n",
       " 'scarpe': 484,\n",
       " 'prossimo': 485,\n",
       " 'siate': 486,\n",
       " 'sotto': 487,\n",
       " 'sentire': 488,\n",
       " 'voglia': 489,\n",
       " 'tv': 490,\n",
       " 'dieci': 491,\n",
       " 'domande': 492,\n",
       " 'interessante': 493,\n",
       " 'eri': 494,\n",
       " 'sembrate': 495,\n",
       " 'impegnata': 496,\n",
       " 'stanca': 497,\n",
       " 'fine': 498,\n",
       " 'dia': 499,\n",
       " 'occupata': 500,\n",
       " 'scrivere': 501,\n",
       " 'nei': 502,\n",
       " 'andò': 503,\n",
       " 'verrà': 504,\n",
       " 'vinto': 505,\n",
       " 'dare': 506,\n",
       " 'intelligente': 507,\n",
       " 'ce': 508,\n",
       " 'vino': 509,\n",
       " 'buono': 510,\n",
       " 'gatto': 511,\n",
       " 'farla': 512,\n",
       " 'imparato': 513,\n",
       " 'iniziato': 514,\n",
       " 'sorpreso': 515,\n",
       " 'eravate': 516,\n",
       " 'lanno': 517,\n",
       " 'chiese': 518,\n",
       " 'auto': 519,\n",
       " 'sposato': 520,\n",
       " 'canzone': 521,\n",
       " 'lavora': 522,\n",
       " 'proprio': 523,\n",
       " 'stazione': 524,\n",
       " 'andrà': 525,\n",
       " 'vostri': 526,\n",
       " 'mani': 527,\n",
       " 'passato': 528,\n",
       " 'abita': 529,\n",
       " 'amica': 530,\n",
       " 'lungo': 531,\n",
       " 'colazione': 532,\n",
       " 'importa': 533,\n",
       " 'freddo': 534,\n",
       " 'gentile': 535,\n",
       " 'finestra': 536,\n",
       " 'conosce': 537,\n",
       " 'mese': 538,\n",
       " 'faccio': 539,\n",
       " 'pranzo': 540,\n",
       " 'solito': 541,\n",
       " 'vista': 542,\n",
       " 'ama': 543,\n",
       " 'parola': 544,\n",
       " 'domenica': 545,\n",
       " 'stupido': 546,\n",
       " 'esattamente': 547,\n",
       " 'andati': 548,\n",
       " 'vedo': 549,\n",
       " 'dicendo': 550,\n",
       " 'là': 551,\n",
       " 'mentre': 552,\n",
       " 'fatta': 553,\n",
       " 'golf': 554,\n",
       " 'latte': 555,\n",
       " 'dollari': 556,\n",
       " 'partire': 557,\n",
       " 'donna': 558,\n",
       " 'ecco': 559,\n",
       " 'capire': 560,\n",
       " 'altri': 561,\n",
       " 'tornare': 562,\n",
       " 'venuta': 563,\n",
       " 'fai': 564,\n",
       " 'bello': 565,\n",
       " 'parco': 566,\n",
       " 'rimanere': 567,\n",
       " 'molta': 568,\n",
       " 'strano': 569,\n",
       " 'numero': 570,\n",
       " 'lavorando': 571,\n",
       " 'regalo': 572,\n",
       " 'messo': 573,\n",
       " 'negozio': 574,\n",
       " 'brava': 575,\n",
       " 'interessato': 576,\n",
       " 'john': 577,\n",
       " 'li': 578,\n",
       " 'vorrebbe': 579,\n",
       " 'vincere': 580,\n",
       " 'prezzo': 581,\n",
       " 'credo': 582,\n",
       " 'capisco': 583,\n",
       " 'fate': 584,\n",
       " 'guardare': 585,\n",
       " 'vecchio': 586,\n",
       " 'basta': 587,\n",
       " 'bambino': 588,\n",
       " 'cinque': 589,\n",
       " 'cosha': 590,\n",
       " 'mondo': 591,\n",
       " 'duramente': 592,\n",
       " 'neanche': 593,\n",
       " 'occhi': 594,\n",
       " 'minuti': 595,\n",
       " 'comè': 596,\n",
       " 'ricevuto': 597,\n",
       " 'venne': 598,\n",
       " 'chiedere': 599,\n",
       " 'diede': 600,\n",
       " 'quelle': 601,\n",
       " 'prestito': 602,\n",
       " 'computer': 603,\n",
       " 'provare': 604,\n",
       " 'studenti': 605,\n",
       " 'testa': 606,\n",
       " 'linglese': 607,\n",
       " 'immediatamente': 608,\n",
       " 'ucciso': 609,\n",
       " 'fiume': 610,\n",
       " 'sorpresa': 611,\n",
       " 'semplicemente': 612,\n",
       " 'guardando': 613,\n",
       " 'perdere': 614,\n",
       " 'cappello': 615,\n",
       " 'veloce': 616,\n",
       " 'vai': 617,\n",
       " 'tavolo': 618,\n",
       " 'figlia': 619,\n",
       " 'fossi': 620,\n",
       " 'aiutato': 621,\n",
       " 'ristorante': 622,\n",
       " 'ufficio': 623,\n",
       " 'messaggio': 624,\n",
       " 'arrabbiata': 625,\n",
       " 'biblioteca': 626,\n",
       " 'lhai': 627,\n",
       " 'riunione': 628,\n",
       " 'gioco': 629,\n",
       " 'entrambe': 630,\n",
       " 'caldo': 631,\n",
       " 'pagato': 632,\n",
       " 'bici': 633,\n",
       " 'impiego': 634,\n",
       " 'paese': 635,\n",
       " 'vivo': 636,\n",
       " 'errori': 637,\n",
       " 'minuto': 638,\n",
       " 'dite': 639,\n",
       " 'occhiali': 640,\n",
       " 'mentito': 641,\n",
       " 'tornato': 642,\n",
       " 'piaciuto': 643,\n",
       " 'pagare': 644,\n",
       " 'luomo': 645,\n",
       " 'cambiare': 646,\n",
       " 'rispondere': 647,\n",
       " 'vestiti': 648,\n",
       " 'partita': 649,\n",
       " 'usare': 650,\n",
       " 'automobile': 651,\n",
       " 'contro': 652,\n",
       " 'quindi': 653,\n",
       " 'morire': 654,\n",
       " 'cera': 655,\n",
       " 'sappiamo': 656,\n",
       " 'conto': 657,\n",
       " 'vogliono': 658,\n",
       " 'piccolo': 659,\n",
       " 'vestito': 660,\n",
       " 'sole': 661,\n",
       " 'calcio': 662,\n",
       " 'cucinare': 663,\n",
       " 'viaggio': 664,\n",
       " 'torta': 665,\n",
       " 'stamattina': 666,\n",
       " 'lontano': 667,\n",
       " 'permesso': 668,\n",
       " 'chiamare': 669,\n",
       " 'cambiato': 670,\n",
       " 'smettere': 671,\n",
       " 'indossando': 672,\n",
       " 'provando': 673,\n",
       " 'giornata': 674,\n",
       " 'riso': 675,\n",
       " 'serio': 676,\n",
       " 'ritorno': 677,\n",
       " 'fiori': 678,\n",
       " 'pesce': 679,\n",
       " 'canadese': 680,\n",
       " 'morte': 681,\n",
       " 'caso': 682,\n",
       " 'classe': 683,\n",
       " 'pensare': 684,\n",
       " 'diventare': 685,\n",
       " 'professore': 686,\n",
       " 'lasciare': 687,\n",
       " 'scatola': 688,\n",
       " 'mangia': 689,\n",
       " 'completamente': 690,\n",
       " 'insieme': 691,\n",
       " 'triste': 692,\n",
       " 'libero': 693,\n",
       " 'entrare': 694,\n",
       " 'segreto': 695,\n",
       " 'conosciuto': 696,\n",
       " 'meno': 697,\n",
       " 'cani': 698,\n",
       " 'ragazzi': 699,\n",
       " 'bevuto': 700,\n",
       " 'cominciato': 701,\n",
       " 'stanotte': 702,\n",
       " 'alcuna': 703,\n",
       " 'prigione': 704,\n",
       " 'pensando': 705,\n",
       " 'malato': 706,\n",
       " 'preoccupata': 707,\n",
       " 'realtà': 708,\n",
       " 'zio': 709,\n",
       " 'lasci': 710,\n",
       " 'vidi': 711,\n",
       " 'finire': 712,\n",
       " 'portato': 713,\n",
       " 'lultima': 714,\n",
       " 'consiglio': 715,\n",
       " 'terribile': 716,\n",
       " 'voce': 717,\n",
       " 'venga': 718,\n",
       " 'nemmeno': 719,\n",
       " 'lingua': 720,\n",
       " 'mela': 721,\n",
       " 'durante': 722,\n",
       " 'studiando': 723,\n",
       " 'pizza': 724,\n",
       " 'bagno': 725,\n",
       " 'alcun': 726,\n",
       " 'credere': 727,\n",
       " 'baseball': 728,\n",
       " 'sacco': 729,\n",
       " 'circa': 730,\n",
       " 'autobus': 731,\n",
       " 'anno': 732,\n",
       " 'allo': 733,\n",
       " 'dimenticato': 734,\n",
       " 'piani': 735,\n",
       " 'chiesa': 736,\n",
       " 'peso': 737,\n",
       " 'rubato': 738,\n",
       " 'colpa': 739,\n",
       " 'nervoso': 740,\n",
       " 'carne': 741,\n",
       " 'rapidamente': 742,\n",
       " 'alcune': 743,\n",
       " 'chiama': 744,\n",
       " 'odia': 745,\n",
       " 'vorresti': 746,\n",
       " 'potuto': 747,\n",
       " 'ombrello': 748,\n",
       " 'studiato': 749,\n",
       " 'ferito': 750,\n",
       " 'compleanno': 751,\n",
       " 'diverse': 752,\n",
       " 'facciamo': 753,\n",
       " 'vera': 754,\n",
       " 'piangere': 755,\n",
       " 'estate': 756,\n",
       " 'sopra': 757,\n",
       " 'giapponese': 758,\n",
       " 'incontrato': 759,\n",
       " 'fortunato': 760,\n",
       " 'potresti': 761,\n",
       " 'aspetto': 762,\n",
       " 'alta': 763,\n",
       " 'tazza': 764,\n",
       " 'guerra': 765,\n",
       " 'sì': 766,\n",
       " 'apprezzo': 767,\n",
       " 'decisione': 768,\n",
       " 'coltello': 769,\n",
       " 'sanno': 770,\n",
       " 'borsa': 771,\n",
       " 'riuscite': 772,\n",
       " 'età': 773,\n",
       " 'legge': 774,\n",
       " 'concerto': 775,\n",
       " 'saremo': 776,\n",
       " 'opinione': 777,\n",
       " 'orologio': 778,\n",
       " 'ballare': 779,\n",
       " 'vorreste': 780,\n",
       " 'rotto': 781,\n",
       " 'stupida': 782,\n",
       " 'camminare': 783,\n",
       " 'rosso': 784,\n",
       " 'unora': 785,\n",
       " 'tue': 786,\n",
       " 'qualsiasi': 787,\n",
       " 'qualunque': 788,\n",
       " 'zucchero': 789,\n",
       " 'fiero': 790,\n",
       " 'dammi': 791,\n",
       " 'mele': 792,\n",
       " 'mezza': 793,\n",
       " 'lunico': 794,\n",
       " 'arrivata': 795,\n",
       " 'solitamente': 796,\n",
       " 'indietro': 797,\n",
       " 'preparato': 798,\n",
       " 'nessuna': 799,\n",
       " 'chitarra': 800,\n",
       " 'radio': 801,\n",
       " 'pensava': 802,\n",
       " 'chiavi': 803,\n",
       " 'preferirei': 804,\n",
       " 'zoo': 805,\n",
       " 'bicicletta': 806,\n",
       " 'siano': 807,\n",
       " 'studente': 808,\n",
       " 'vostre': 809,\n",
       " 'giardino': 810,\n",
       " 'pistola': 811,\n",
       " 'vieni': 812,\n",
       " 'farei': 813,\n",
       " 'perse': 814,\n",
       " 'visitare': 815,\n",
       " 'guarda': 816,\n",
       " 'dirlo': 817,\n",
       " 'cucina': 818,\n",
       " 'possa': 819,\n",
       " 'piaceva': 820,\n",
       " 'riesci': 821,\n",
       " 'unauto': 822,\n",
       " 'velocemente': 823,\n",
       " 'voluto': 824,\n",
       " 'rapporto': 825,\n",
       " 'cercato': 826,\n",
       " 'preferita': 827,\n",
       " 'sarai': 828,\n",
       " 'possono': 829,\n",
       " 'torto': 830,\n",
       " 'tokyo': 831,\n",
       " 'secondo': 832,\n",
       " 'lesame': 833,\n",
       " 'perfetto': 834,\n",
       " 'correre': 835,\n",
       " 'guai': 836,\n",
       " 'trenta': 837,\n",
       " 'ricordo': 838,\n",
       " 'neppure': 839,\n",
       " 'ascoltare': 840,\n",
       " 'dietro': 841,\n",
       " 'gatti': 842,\n",
       " 'cavallo': 843,\n",
       " 'carta': 844,\n",
       " 'stavano': 845,\n",
       " 'pane': 846,\n",
       " 'ridere': 847,\n",
       " 'lavorato': 848,\n",
       " 'orgoglioso': 849,\n",
       " 'aiuterà': 850,\n",
       " 'piacerà': 851,\n",
       " 'vacanza': 852,\n",
       " 'prenderò': 853,\n",
       " 'scelta': 854,\n",
       " 'marito': 855,\n",
       " 'altre': 856,\n",
       " 'punto': 857,\n",
       " 'succedendo': 858,\n",
       " 'aiutarmi': 859,\n",
       " 'immagino': 860,\n",
       " 'capo': 861,\n",
       " 'diverso': 862,\n",
       " 'allestero': 863,\n",
       " 'fidanzata': 864,\n",
       " 'guardato': 865,\n",
       " 'taxi': 866,\n",
       " 'fotografica': 867,\n",
       " 'pericoloso': 868,\n",
       " 'senso': 869,\n",
       " 'scrivania': 870,\n",
       " 'invitato': 871,\n",
       " 'biro': 872,\n",
       " 'doveva': 873,\n",
       " 'dizionario': 874,\n",
       " 'situazione': 875,\n",
       " 'donne': 876,\n",
       " 'ubriaco': 877,\n",
       " 'dormito': 878,\n",
       " 'vecchia': 879,\n",
       " 'danzare': 880,\n",
       " 'datemi': 881,\n",
       " 'morosa': 882,\n",
       " 'rumore': 883,\n",
       " 'salute': 884,\n",
       " 'unautomobile': 885,\n",
       " 'darò': 886,\n",
       " 'nato': 887,\n",
       " 've': 888,\n",
       " 'colpevole': 889,\n",
       " 'sicuramente': 890,\n",
       " 'bicchiere': 891,\n",
       " 'risolvere': 892,\n",
       " 'mangio': 893,\n",
       " 'questione': 894,\n",
       " 'quali': 895,\n",
       " 'temo': 896,\n",
       " 'onesto': 897,\n",
       " 'mentendo': 898,\n",
       " 'luce': 899,\n",
       " 'sarete': 900,\n",
       " 'potreste': 901,\n",
       " 'aspettato': 902,\n",
       " 'aperto': 903,\n",
       " 'venendo': 904,\n",
       " 'mesi': 905,\n",
       " 'avvocato': 906,\n",
       " 'alcuni': 907,\n",
       " 'incidente': 908,\n",
       " 'dai': 909,\n",
       " 'pioggia': 910,\n",
       " 'sandwich': 911,\n",
       " 'parli': 912,\n",
       " 'sposata': 913,\n",
       " 'grandi': 914,\n",
       " 'venite': 915,\n",
       " 'crede': 916,\n",
       " 'penna': 917,\n",
       " 'farebbe': 918,\n",
       " 'dirò': 919,\n",
       " 'spiaggia': 920,\n",
       " 'pensato': 921,\n",
       " 'spaventato': 922,\n",
       " 'notizia': 923,\n",
       " 'dormendo': 924,\n",
       " 'manca': 925,\n",
       " 'dacqua': 926,\n",
       " 'vengo': 927,\n",
       " 'prese': 928,\n",
       " 'funziona': 929,\n",
       " 'bel': 930,\n",
       " 'suona': 931,\n",
       " 'riusciamo': 932,\n",
       " 'estremamente': 933,\n",
       " 'avrà': 934,\n",
       " 'chiuso': 935,\n",
       " 'conosci': 936,\n",
       " 'affari': 937,\n",
       " 'arrivare': 938,\n",
       " 'medicina': 939,\n",
       " 'biglietto': 940,\n",
       " 'guardi': 941,\n",
       " 'riusciva': 942,\n",
       " 'regole': 943,\n",
       " 'nostri': 944,\n",
       " 'abituato': 945,\n",
       " 'morì': 946,\n",
       " 'neve': 947,\n",
       " 'passeggiata': 948,\n",
       " 'giocato': 949,\n",
       " 'lunica': 950,\n",
       " 'futuro': 951,\n",
       " 'smesso': 952,\n",
       " 'raramente': 953,\n",
       " 'weekend': 954,\n",
       " 'risposto': 955,\n",
       " 'feci': 956,\n",
       " 'diventato': 957,\n",
       " 'anziano': 958,\n",
       " 'infelice': 959,\n",
       " 'progetto': 960,\n",
       " 'notizie': 961,\n",
       " 'beve': 962,\n",
       " 'capito': 963,\n",
       " 'banca': 964,\n",
       " 'guida': 965,\n",
       " 'insegnato': 966,\n",
       " 'famoso': 967,\n",
       " 'fronte': 968,\n",
       " 'comune': 969,\n",
       " 'lentamente': 970,\n",
       " 'studio': 971,\n",
       " 'piccola': 972,\n",
       " 'conoscete': 973,\n",
       " 'laltro': 974,\n",
       " 'carina': 975,\n",
       " 'paziente': 976,\n",
       " 'riparare': 977,\n",
       " 'informazioni': 978,\n",
       " 'interessata': 979,\n",
       " 'ricca': 980,\n",
       " 'aiutarla': 981,\n",
       " 'verso': 982,\n",
       " 'allora': 983,\n",
       " 'preferisco': 984,\n",
       " 'cura': 985,\n",
       " 'conoscere': 986,\n",
       " 'baciato': 987,\n",
       " 'innamorato': 988,\n",
       " 'uova': 989,\n",
       " 'giro': 990,\n",
       " 'lingue': 991,\n",
       " 'accanto': 992,\n",
       " 'speciale': 993,\n",
       " 'stesse': 994,\n",
       " 'vicina': 995,\n",
       " 'visitato': 996,\n",
       " 'fotografia': 997,\n",
       " 'ponte': 998,\n",
       " 'vederla': 999,\n",
       " 'blu': 1000,\n",
       " ...}"
      ]
     },
     "execution_count": 24,
     "metadata": {
      "tags": []
     },
     "output_type": "execute_result"
    }
   ],
   "source": [
    "ita_token.word_index"
   ]
  },
  {
   "cell_type": "code",
   "execution_count": null,
   "metadata": {
    "colab": {
     "base_uri": "https://localhost:8080/",
     "height": 34
    },
    "id": "UixTKsczaCho",
    "outputId": "0f810935-b997-420c-fe39-e3ac937b03b9"
   },
   "outputs": [
    {
     "name": "stdout",
     "output_type": "stream",
     "text": [
      "Loaded 400000 word vectors.\n"
     ]
    }
   ],
   "source": [
    "# Ref: https://machinelearningmastery.com/use-word-embedding-layers-deep-learning-keras/\n",
    "# Getting the pre-trained embeddings.\n",
    "embeddings_index = dict()\n",
    "f = open('glove.6B.100d.txt', encoding=\"utf8\")\n",
    "for line in f:\n",
    "    values = line.split()\n",
    "    word = values[0]\n",
    "    coefs = np.asarray(values[1:], dtype='float32')\n",
    "    embeddings_index[word] = coefs\n",
    "f.close()\n",
    "print('Loaded %s word vectors.' % len(embeddings_index))"
   ]
  },
  {
   "cell_type": "code",
   "execution_count": null,
   "metadata": {
    "id": "nFiQ3TP3YwHU"
   },
   "outputs": [],
   "source": [
    "# create a weight matrix for words in training english sentences.\n",
    "embedding_matrix = np.zeros((eng_vocab_size + 1, 100))\n",
    "for word, i in eng_token.word_index.items():\n",
    "    embedding_vector = embeddings_index.get(word)\n",
    "    if embedding_vector is not None:\n",
    "        embedding_matrix[i] = embedding_vector"
   ]
  },
  {
   "cell_type": "code",
   "execution_count": null,
   "metadata": {
    "id": "oqXj8J-haJrx"
   },
   "outputs": [],
   "source": [
    "# Creating the batch dataset for train and validation.\n",
    "class Dataset:\n",
    "    def __init__(self, data, tknizer_ita, tknizer_eng, max_len):\n",
    "        self.encoder_inps = data['Italian'].values\n",
    "        self.decoder_inps = data['Decoder_in'].values\n",
    "        self.decoder_outs = data['Decoder_out'].values\n",
    "        self.tknizer_eng = tknizer_eng\n",
    "        self.tknizer_ita = tknizer_ita\n",
    "        self.max_len = max_len\n",
    "\n",
    "    def __getitem__(self, i):\n",
    "        self.encoder_seq = self.tknizer_ita.texts_to_sequences([self.encoder_inps[i]]) # need to pass list of values\n",
    "        self.decoder_inp_seq = self.tknizer_eng.texts_to_sequences([self.decoder_inps[i]])\n",
    "        self.decoder_out_seq = self.tknizer_eng.texts_to_sequences([self.decoder_outs[i]])\n",
    "\n",
    "        self.encoder_seq = pad_sequences(self.encoder_seq, maxlen=self.max_len, dtype='int32', padding='post')\n",
    "        self.decoder_inp_seq = pad_sequences(self.decoder_inp_seq, maxlen=self.max_len, dtype='int32', padding='post')\n",
    "        self.decoder_out_seq = pad_sequences(self.decoder_out_seq, maxlen=self.max_len, dtype='int32', padding='post')\n",
    "        return self.encoder_seq, self.decoder_inp_seq, self.decoder_out_seq\n",
    "\n",
    "    def __len__(self): # your model.fit_gen requires this function\n",
    "        return len(self.encoder_inps)\n",
    "\n",
    "    \n",
    "class Dataloder(tf.keras.utils.Sequence):    \n",
    "    def __init__(self, dataset, batch_size=1):\n",
    "        self.dataset = dataset\n",
    "        self.batch_size = batch_size\n",
    "        self.indexes = np.arange(len(self.dataset.encoder_inps))\n",
    "\n",
    "\n",
    "    def __getitem__(self, i):\n",
    "        start = i * self.batch_size\n",
    "        stop = (i + 1) * self.batch_size\n",
    "        data = []\n",
    "        for j in range(start, stop):\n",
    "            data.append(self.dataset[j])\n",
    "\n",
    "        batch = [np.squeeze(np.stack(samples, axis=1), axis=0) for samples in zip(*data)]\n",
    "        # we are creating data like ([italian, english_inp], english_out) these are already converted into seq\n",
    "        return tuple([[batch[0],batch[1]],batch[2]])\n",
    "\n",
    "    def __len__(self):  # your model.fit_gen requires this function\n",
    "        return len(self.indexes) // self.batch_size\n",
    "\n",
    "    def on_epoch_end(self):\n",
    "        self.indexes = np.random.permutation(self.indexes)"
   ]
  },
  {
   "cell_type": "code",
   "execution_count": null,
   "metadata": {
    "colab": {
     "base_uri": "https://localhost:8080/",
     "height": 34
    },
    "id": "qSfUCd6GaL80",
    "outputId": "af47f27e-1bec-46c0-faf6-df9078e626d6"
   },
   "outputs": [
    {
     "name": "stdout",
     "output_type": "stream",
     "text": [
      "(1024, 20) (1024, 20) (1024, 20)\n"
     ]
    }
   ],
   "source": [
    "# Creating a batch dataset for train and test.\n",
    "train_dataset = Dataset(train, ita_token, eng_token, 20)\n",
    "test_dataset  = Dataset(validation, ita_token, eng_token, 20)\n",
    "\n",
    "train_dataloader = Dataloder(train_dataset, batch_size=1024)\n",
    "test_dataloader = Dataloder(test_dataset, batch_size=1024)\n",
    "\n",
    "print(train_dataloader[0][0][0].shape, train_dataloader[0][0][1].shape, train_dataloader[0][1].shape)"
   ]
  },
  {
   "cell_type": "code",
   "execution_count": null,
   "metadata": {
    "colab": {
     "base_uri": "https://localhost:8080/",
     "height": 370
    },
    "id": "beCB4mi6BXg1",
    "outputId": "2421f287-77c4-410e-85cf-77e8c7fef54c"
   },
   "outputs": [
    {
     "data": {
      "text/plain": [
       "([array([[   2,   34, 1200, ...,    0,    0,    0],\n",
       "         [   2,   11,  141, ...,    3,    0,    0],\n",
       "         [   2,   92, 2791, ...,    0,    0,    0],\n",
       "         ...,\n",
       "         [   2,    4,   97, ...,    0,    0,    0],\n",
       "         [   2,   10,   96, ...,    0,    0,    0],\n",
       "         [   2,   27,    6, ...,    0,    0,    0]], dtype=int32),\n",
       "  array([[  2,   5, 156, ...,   0,   0,   0],\n",
       "         [  2,  10, 244, ...,   3,   0,   0],\n",
       "         [  2,   4,  19, ...,   0,   0,   0],\n",
       "         ...,\n",
       "         [  2,   6, 232, ...,   0,   0,   0],\n",
       "         [  2,   4,  18, ...,   0,   0,   0],\n",
       "         [  2,  26,   8, ...,   0,   0,   0]], dtype=int32)],\n",
       " array([[   5,  156, 3027, ...,    0,    0,    0],\n",
       "        [  10,  244,  271, ...,    0,    0,    0],\n",
       "        [   4,   19, 1138, ...,    0,    0,    0],\n",
       "        ...,\n",
       "        [   6,  232,   47, ...,    0,    0,    0],\n",
       "        [   4,   18, 4367, ...,    0,    0,    0],\n",
       "        [  26,    8,  517, ...,    0,    0,    0]], dtype=int32))"
      ]
     },
     "execution_count": 29,
     "metadata": {
      "tags": []
     },
     "output_type": "execute_result"
    }
   ],
   "source": [
    "test_dataloader[0]"
   ]
  },
  {
   "cell_type": "markdown",
   "metadata": {
    "id": "iAwy3n2JwcRF"
   },
   "source": [
    "# Simple Encoder-Decoder"
   ]
  },
  {
   "cell_type": "code",
   "execution_count": null,
   "metadata": {
    "id": "rYV6K1DsaXf8"
   },
   "outputs": [],
   "source": [
    "# Encoder Architecture\n",
    "tf.keras.backend.clear_session()\n",
    "class Encoder(Model):\n",
    "    def __init__(self, vocab_size, embed_size, units, input_len):\n",
    "        super(Encoder, self).__init__()\n",
    "        self.vocab_size = vocab_size + 1\n",
    "        self.embed_dim = embed_size\n",
    "        self.input_length = input_len\n",
    "        self.lstm_units = units\n",
    "        self.lstm_output = 0\n",
    "        self.lstm_state_h = 0\n",
    "        self.lstm_state_c = 0\n",
    "        self.embeddings = Embedding(input_dim = self.vocab_size, output_dim = self.embed_dim,\n",
    "                                  mask_zero=True, input_length = self.input_length, name = 'Encoder_Emb_Layer')\n",
    "        self.lstm = LSTM(units = self.lstm_units, return_sequences = True,\n",
    "                        return_state = True, name = 'Encoder_LSTM_Layer')\n",
    "    \n",
    "    def call(self, input_sentence, hidden, training = True):\n",
    "        #print('Encoder === I/p shape before Embedding : ', input_sentence.shape)\n",
    "        input_emb = self.embeddings(input_sentence)\n",
    "        #print('Encoder === I/p shape after Embedding : ', input_emb.shape)\n",
    "        self.lstm_output, self.lstm_state_h, self.lstm_state_c = self.lstm(input_emb, initial_state = hidden)\n",
    "        return self.lstm_output, self.lstm_state_h, self.lstm_state_c\n",
    "    \n",
    "    def get_states(self):\n",
    "        return self.lstm_state_h, self.lstm_state_c\n",
    "    \n",
    "    def initialize_states(self,batch_size):\n",
    "        self.lstm_state_h = tf.zeros((batch_size, self.lstm_units))\n",
    "        self.lstm_state_c = tf.zeros((batch_size, self.lstm_units))\n",
    "        return [self.lstm_state_h, self.lstm_state_c ]"
   ]
  },
  {
   "cell_type": "code",
   "execution_count": null,
   "metadata": {
    "id": "0aFJ2ansaXlu"
   },
   "outputs": [],
   "source": [
    "# Decoder Architecture\n",
    "class Decoder(Model):\n",
    "    def __init__(self, vocab_size, embed_size, units, output_len, emb_matrix):\n",
    "        super(Decoder, self).__init__()\n",
    "        self.vocab_size = vocab_size + 1\n",
    "        self.embed_dim = embed_size\n",
    "        self.output_length = output_len\n",
    "        self.lstm_units = units\n",
    "        self.matrix = emb_matrix\n",
    "\n",
    "        self.embeddings = Embedding(input_dim = self.vocab_size, output_dim = self.embed_dim,\n",
    "                                  mask_zero=True, input_length = self.output_length, weights=[self.matrix], trainable=False,\n",
    "                                    name = 'Decoder_Emb_Layer') # Using pre-trained embedding matrix obtained from glove.\n",
    "        self.lstm = LSTM(units = self.lstm_units, return_sequences = True,\n",
    "                        return_state = True, name = 'Decoder_LSTM_Layer')\n",
    "    \n",
    "    def call(self, output_sentences, state):\n",
    "        #print('Decoder === I/p shape before Embedding : ', output_sentences.shape)\n",
    "        output_emb = self.embeddings(output_sentences)\n",
    "        #print('Decoder === I/p shape after Embedding : ', output_emb.shape)\n",
    "        lstm_output, decoder_h, decoder_c = self.lstm(output_emb, initial_state = state)\n",
    "        return lstm_output, decoder_h, decoder_c\n",
    "    "
   ]
  },
  {
   "cell_type": "code",
   "execution_count": null,
   "metadata": {
    "id": "Z-1QTimdaXiq"
   },
   "outputs": [],
   "source": [
    "# Creating the overall model architecture\n",
    "class ED(Model):\n",
    "    def __init__(self, ip_vocab_size, ip_embed_size, input_len, units, op_vocab_size, op_embed_size, output_len, batch_size, emb_matrix):\n",
    "        super(ED, self).__init__() \n",
    "        self.batch_size = batch_size\n",
    "        self.encoder = Encoder(vocab_size = ip_vocab_size, embed_size = ip_embed_size, \n",
    "                                units = units, input_len = input_len)\n",
    "        self.decoder = Decoder(vocab_size = op_vocab_size, embed_size = op_embed_size, \n",
    "                                units = units, output_len = output_len, emb_matrix = emb_matrix)\n",
    "        self.dense = Dense(units = op_vocab_size, activation = 'softmax')\n",
    "    \n",
    "    def call(self, data):\n",
    "        initial_state = self.encoder.initialize_states(self.batch_size)\n",
    "        lang1, lang2 = data[0], data[1]\n",
    "        #print(\"=\"*20, \"ENCODER\", \"=\"*20)\n",
    "        encoder_output, encoder_h, encoder_c = self.encoder(lang1, initial_state) # Encoder\n",
    "        #print(\"-\"*27)\n",
    "        #print(\"ENCODER ==> OUTPUT SHAPE\",encoder_output.shape)\n",
    "        #print(\"ENCODER ==> HIDDEN STATE SHAPE\",encoder_h.shape)\n",
    "        #print(\"ENCODER ==> CELL STATE SHAPE\", encoder_c.shape)\n",
    "        #print(\"=\"*20, \"DECODER\", \"=\"*20)\n",
    "        decoder_output, decoder_h, decoder_c  = self.decoder(lang2, [encoder_h, encoder_c]) # Decoder\n",
    "        output = self.dense(decoder_output) # Dense\n",
    "        #print(\"-\"*27)\n",
    "        #print(\"FINAL OUTPUT SHAPE\",output.shape)\n",
    "        #print(\"=\"*50)\n",
    "        return output"
   ]
  },
  {
   "cell_type": "code",
   "execution_count": null,
   "metadata": {
    "id": "RcPDeXXvaXdU"
   },
   "outputs": [],
   "source": [
    "tf.keras.backend.clear_session()\n",
    "model1  = ED(ip_vocab_size = ita_vocab_size, ip_embed_size = 100, \n",
    "                 input_len = 20, units = 64, op_vocab_size = eng_vocab_size, op_embed_size = 100, output_len = 20,\n",
    "              batch_size = 1024, emb_matrix = embedding_matrix)"
   ]
  },
  {
   "cell_type": "code",
   "execution_count": null,
   "metadata": {
    "id": "pzWSYWYedrt8"
   },
   "outputs": [],
   "source": [
    "# Loss Function\n",
    "loss_object = tf.keras.losses.SparseCategoricalCrossentropy(reduction='none')\n",
    "\n",
    "def loss_function(real, pred):\n",
    "  mask = tf.math.logical_not(tf.math.equal(real, 0))\n",
    "  loss_ = loss_object(real, pred)\n",
    "\n",
    "  mask = tf.cast(mask, dtype=loss_.dtype)\n",
    "  loss_ *= mask\n",
    "\n",
    "  return tf.reduce_mean(loss_)"
   ]
  },
  {
   "cell_type": "code",
   "execution_count": null,
   "metadata": {
    "colab": {
     "base_uri": "https://localhost:8080/",
     "height": 1000
    },
    "id": "lDTgMPwrahVW",
    "outputId": "802646a6-5ba9-45bc-fd5e-e8073a10c3af"
   },
   "outputs": [
    {
     "name": "stdout",
     "output_type": "stream",
     "text": [
      "WARNING:tensorflow:From <ipython-input-35-feb616e288e0>:19: Model.fit_generator (from tensorflow.python.keras.engine.training) is deprecated and will be removed in a future version.\n",
      "Instructions for updating:\n",
      "Please use Model.fit, which supports generators.\n",
      "Epoch 1/50\n",
      "266/266 [==============================] - 227s 854ms/step - loss: 0.7958 - val_loss: 0.7102\n",
      "Epoch 2/50\n",
      "266/266 [==============================] - 221s 832ms/step - loss: 0.6983 - val_loss: 0.6802\n",
      "Epoch 3/50\n",
      "266/266 [==============================] - 222s 834ms/step - loss: 0.6662 - val_loss: 0.6460\n",
      "Epoch 4/50\n",
      "266/266 [==============================] - 225s 846ms/step - loss: 0.6224 - val_loss: 0.5957\n",
      "Epoch 5/50\n",
      "266/266 [==============================] - 228s 858ms/step - loss: 0.5705 - val_loss: 0.5452\n",
      "Epoch 6/50\n",
      "266/266 [==============================] - 224s 841ms/step - loss: 0.5258 - val_loss: 0.5076\n",
      "Epoch 7/50\n",
      "266/266 [==============================] - 224s 842ms/step - loss: 0.4895 - val_loss: 0.4741\n",
      "Epoch 8/50\n",
      "266/266 [==============================] - 229s 859ms/step - loss: 0.4577 - val_loss: 0.4465\n",
      "Epoch 9/50\n",
      "266/266 [==============================] - 226s 849ms/step - loss: 0.4313 - val_loss: 0.4236\n",
      "Epoch 10/50\n",
      "266/266 [==============================] - 222s 833ms/step - loss: 0.4087 - val_loss: 0.4034\n",
      "Epoch 11/50\n",
      "266/266 [==============================] - 222s 835ms/step - loss: 0.3883 - val_loss: 0.3853\n",
      "Epoch 12/50\n",
      "266/266 [==============================] - 225s 846ms/step - loss: 0.3689 - val_loss: 0.3670\n",
      "Epoch 13/50\n",
      "266/266 [==============================] - 226s 848ms/step - loss: 0.3495 - val_loss: 0.3497\n",
      "Epoch 14/50\n",
      "266/266 [==============================] - 222s 834ms/step - loss: 0.3316 - val_loss: 0.3347\n",
      "Epoch 15/50\n",
      "266/266 [==============================] - 222s 836ms/step - loss: 0.3161 - val_loss: 0.3214\n",
      "Epoch 16/50\n",
      "266/266 [==============================] - 225s 847ms/step - loss: 0.3024 - val_loss: 0.3098\n",
      "Epoch 17/50\n",
      "266/266 [==============================] - 226s 848ms/step - loss: 0.2900 - val_loss: 0.2993\n",
      "Epoch 18/50\n",
      "266/266 [==============================] - 222s 834ms/step - loss: 0.2787 - val_loss: 0.2901\n",
      "Epoch 19/50\n",
      "266/266 [==============================] - 222s 836ms/step - loss: 0.2685 - val_loss: 0.2815\n",
      "Epoch 20/50\n",
      "266/266 [==============================] - 225s 848ms/step - loss: 0.2592 - val_loss: 0.2739\n",
      "Epoch 21/50\n",
      "266/266 [==============================] - 226s 849ms/step - loss: 0.2505 - val_loss: 0.2668\n",
      "Epoch 22/50\n",
      "266/266 [==============================] - 222s 835ms/step - loss: 0.2424 - val_loss: 0.2603\n",
      "Epoch 23/50\n",
      "266/266 [==============================] - 223s 838ms/step - loss: 0.2350 - val_loss: 0.2541\n",
      "Epoch 24/50\n",
      "266/266 [==============================] - 226s 849ms/step - loss: 0.2278 - val_loss: 0.2482\n",
      "Epoch 25/50\n",
      "266/266 [==============================] - 226s 850ms/step - loss: 0.2212 - val_loss: 0.2429\n",
      "Epoch 26/50\n",
      "266/266 [==============================] - 222s 835ms/step - loss: 0.2148 - val_loss: 0.2379\n",
      "Epoch 27/50\n",
      "266/266 [==============================] - 223s 837ms/step - loss: 0.2090 - val_loss: 0.2332\n",
      "Epoch 28/50\n",
      "266/266 [==============================] - 226s 850ms/step - loss: 0.2034 - val_loss: 0.2287\n",
      "Epoch 29/50\n",
      "266/266 [==============================] - 226s 850ms/step - loss: 0.1983 - val_loss: 0.2249\n",
      "Epoch 30/50\n",
      "266/266 [==============================] - 222s 836ms/step - loss: 0.1933 - val_loss: 0.2211\n",
      "Epoch 31/50\n",
      "266/266 [==============================] - 223s 837ms/step - loss: 0.1887 - val_loss: 0.2177\n",
      "Epoch 32/50\n",
      "266/266 [==============================] - 226s 850ms/step - loss: 0.1844 - val_loss: 0.2139\n",
      "Epoch 33/50\n",
      "266/266 [==============================] - 227s 853ms/step - loss: 0.1802 - val_loss: 0.2112\n",
      "Epoch 34/50\n",
      "266/266 [==============================] - 223s 836ms/step - loss: 0.1763 - val_loss: 0.2086\n",
      "Epoch 35/50\n",
      "266/266 [==============================] - 223s 838ms/step - loss: 0.1727 - val_loss: 0.2054\n",
      "Epoch 36/50\n",
      "266/266 [==============================] - 227s 852ms/step - loss: 0.1691 - val_loss: 0.2032\n",
      "Epoch 37/50\n",
      "266/266 [==============================] - 228s 856ms/step - loss: 0.1658 - val_loss: 0.2005\n",
      "Epoch 38/50\n",
      "266/266 [==============================] - 223s 838ms/step - loss: 0.1625 - val_loss: 0.1985\n",
      "Epoch 39/50\n",
      "266/266 [==============================] - 223s 839ms/step - loss: 0.1594 - val_loss: 0.1959\n",
      "Epoch 40/50\n",
      "266/266 [==============================] - 226s 849ms/step - loss: 0.1564 - val_loss: 0.1943\n",
      "Epoch 41/50\n",
      "266/266 [==============================] - 226s 850ms/step - loss: 0.1535 - val_loss: 0.1919\n",
      "Epoch 42/50\n",
      "266/266 [==============================] - 222s 836ms/step - loss: 0.1508 - val_loss: 0.1899\n",
      "Epoch 43/50\n",
      "266/266 [==============================] - 223s 837ms/step - loss: 0.1481 - val_loss: 0.1880\n",
      "Epoch 44/50\n",
      "266/266 [==============================] - 226s 848ms/step - loss: 0.1455 - val_loss: 0.1862\n",
      "Epoch 45/50\n",
      "266/266 [==============================] - 226s 851ms/step - loss: 0.1429 - val_loss: 0.1847\n",
      "Epoch 46/50\n",
      "266/266 [==============================] - 222s 835ms/step - loss: 0.1405 - val_loss: 0.1831\n",
      "Epoch 47/50\n",
      "266/266 [==============================] - 223s 837ms/step - loss: 0.1381 - val_loss: 0.1813\n",
      "Epoch 48/50\n",
      "266/266 [==============================] - 226s 851ms/step - loss: 0.1358 - val_loss: 0.1801\n",
      "Epoch 49/50\n",
      "266/266 [==============================] - 227s 854ms/step - loss: 0.1337 - val_loss: 0.1785\n",
      "Epoch 50/50\n",
      "266/266 [==============================] - 223s 838ms/step - loss: 0.1315 - val_loss: 0.1770\n",
      "Model: \"ed\"\n",
      "_________________________________________________________________\n",
      "Layer (type)                 Output Shape              Param #   \n",
      "=================================================================\n",
      "encoder (Encoder)            multiple                  2652540   \n",
      "_________________________________________________________________\n",
      "decoder (Decoder)            multiple                  1322440   \n",
      "_________________________________________________________________\n",
      "dense (Dense)                multiple                  832065    \n",
      "=================================================================\n",
      "Total params: 4,807,045\n",
      "Trainable params: 3,526,845\n",
      "Non-trainable params: 1,280,200\n",
      "_________________________________________________________________\n"
     ]
    }
   ],
   "source": [
    "optimizer = tf.keras.optimizers.Adam()\n",
    "\n",
    "model1.compile(optimizer = optimizer,loss = [loss_function])\n",
    "\n",
    "train_steps = train.shape[0]//1024\n",
    "valid_steps = validation.shape[0]//1024\n",
    "model1.fit_generator(train_dataloader, steps_per_epoch=train_steps, epochs=50, validation_data=test_dataloader, validation_steps=valid_steps)\n",
    "model1.summary()"
   ]
  },
  {
   "cell_type": "code",
   "execution_count": null,
   "metadata": {
    "id": "ENQxNkz87L0x"
   },
   "outputs": [],
   "source": [
    "def Translator(ita, eng_ref):\n",
    "  print(\"=\" * 30, \"Inference\", \"=\" * 30)\n",
    "  test = ita_token.texts_to_sequences([ita])\n",
    "  test = pad_sequences([test[0]], maxlen=20, dtype='int32', padding='post')\n",
    "  test = tf.convert_to_tensor(test)\n",
    "  initial_state = model1.layers[0].initialize_states(1)\n",
    "  enc_output, enc_state_h, enc_state_c = model1.layers[0](test, initial_state)\n",
    "  states_values = [enc_state_h, enc_state_c]\n",
    "  pred = []\n",
    "  cur_vec = tf.expand_dims([eng_token.word_index['<start>']], 0)\n",
    "  print('-'*20,\"started predition\",\"-\"*20)\n",
    "  print(\"at time step 0 the word is 0\")\n",
    "  for i in range(20):\n",
    "      infe_output, state_h, state_c = model1.layers[1](cur_vec, states_values)\n",
    "      infe_output=model1.layers[2](infe_output)\n",
    "      states_values = [state_h, state_c]\n",
    "      # np.argmax(infe_output) will be a single value, which represents the the index of predicted word\n",
    "      # but to pass this data into next time step embedding layer, we are reshaping it into (1,1) shape\n",
    "      cur_vec1 = np.argmax(infe_output)\n",
    "      cur_vec = np.reshape(np.argmax(infe_output), (1, 1))\n",
    "      print(\"at time step\", i, \"the word is \", cur_vec)\n",
    "      pred.append(cur_vec1)\n",
    "      if cur_vec == 3: # To terminate loop when <eos> occurs.\n",
    "        break\n",
    "\n",
    "  print() \n",
    "  print('Italian: ', ita)\n",
    "  print('Eng_ref: ', eng_ref)\n",
    "  result = ''\n",
    "  for i in pred:\n",
    "    if i != 0:\n",
    "      result += eng_token.index_word[i] + ' '\n",
    "  print('Predicted: ', result)\n",
    "  reference = [eng_ref.split()] # the original\n",
    "  translation = result.split() # translated using model\n",
    "  print()\n",
    "  print('BLEU score: {}'.format(bleu.sentence_bleu(reference, translation[:-1]))) # Bleu score claculation\n",
    "\n"
   ]
  },
  {
   "cell_type": "markdown",
   "metadata": {
    "id": "-oLnqsVh49Or"
   },
   "source": [
    "\n",
    "\n",
    "> Sample Outputs\n",
    "\n"
   ]
  },
  {
   "cell_type": "code",
   "execution_count": null,
   "metadata": {
    "colab": {
     "base_uri": "https://localhost:8080/",
     "height": 252
    },
    "id": "GY-E43fBCZKs",
    "outputId": "9e457db4-0897-48fc-8b1b-022db836bad5"
   },
   "outputs": [
    {
     "name": "stdout",
     "output_type": "stream",
     "text": [
      "============================== Inference ==============================\n",
      "-------------------- started predition --------------------\n",
      "at time step 0 the word is 0\n",
      "at time step 0 the word is  [[5]]\n",
      "at time step 1 the word is  [[13]]\n",
      "at time step 2 the word is  [[47]]\n",
      "at time step 3 the word is  [[666]]\n",
      "at time step 4 the word is  [[3]]\n",
      "\n",
      "Italian:  <start> voi siete molto curiosi <eos>\n",
      "Eng_ref:  you are very curious\n",
      "Predicted:  you are very curious <eos> \n",
      "\n",
      "BLEU score: 1.0\n"
     ]
    }
   ],
   "source": [
    "num = 64302\n",
    "Ita = validation['Italian'][num]\n",
    "Eng = validation['English'][num]\n",
    "Translator(Ita, Eng)"
   ]
  },
  {
   "cell_type": "code",
   "execution_count": null,
   "metadata": {
    "colab": {
     "base_uri": "https://localhost:8080/",
     "height": 252
    },
    "id": "Hx6INcypnb-N",
    "outputId": "485b2c4b-4273-48d6-e228-26b789de9d6a"
   },
   "outputs": [
    {
     "name": "stdout",
     "output_type": "stream",
     "text": [
      "============================== Inference ==============================\n",
      "-------------------- started predition --------------------\n",
      "at time step 0 the word is 0\n",
      "at time step 0 the word is  [[100]]\n",
      "at time step 1 the word is  [[22]]\n",
      "at time step 2 the word is  [[26]]\n",
      "at time step 3 the word is  [[1888]]\n",
      "at time step 4 the word is  [[3]]\n",
      "\n",
      "Italian:  <start> tutti utilizzano google <eos>\n",
      "Eng_ref:  everyone uses google\n",
      "Predicted:  let me this opportunity <eos> \n",
      "\n",
      "BLEU score: 0\n"
     ]
    }
   ],
   "source": [
    "num = 1564\n",
    "Ita = validation['Italian'][num]\n",
    "Eng = validation['English'][num]\n",
    "Translator(Ita, Eng)"
   ]
  },
  {
   "cell_type": "code",
   "execution_count": null,
   "metadata": {
    "colab": {
     "base_uri": "https://localhost:8080/",
     "height": 302
    },
    "id": "VBRyUsglS9pt",
    "outputId": "38ada437-1fad-47a2-a731-76e7628b0763"
   },
   "outputs": [
    {
     "name": "stdout",
     "output_type": "stream",
     "text": [
      "============================== Inference ==============================\n",
      "-------------------- started predition --------------------\n",
      "at time step 0 the word is 0\n",
      "at time step 0 the word is  [[218]]\n",
      "at time step 1 the word is  [[6]]\n",
      "at time step 2 the word is  [[49]]\n",
      "at time step 3 the word is  [[34]]\n",
      "at time step 4 the word is  [[13]]\n",
      "at time step 5 the word is  [[47]]\n",
      "at time step 6 the word is  [[354]]\n",
      "at time step 7 the word is  [[3]]\n",
      "\n",
      "Italian:  <start> sia tom che mary hanno molta fame <eos>\n",
      "Eng_ref:  tom and mary are both very hungry\n",
      "Predicted:  both tom and mary are very hungry <eos> \n",
      "\n",
      "BLEU score: 0.5081327481546147\n"
     ]
    }
   ],
   "source": [
    "num = 100\n",
    "Ita = validation['Italian'][num]\n",
    "Eng = validation['English'][num]\n",
    "Translator(Ita, Eng)"
   ]
  },
  {
   "cell_type": "code",
   "execution_count": null,
   "metadata": {
    "colab": {
     "base_uri": "https://localhost:8080/",
     "height": 252
    },
    "id": "JOZoLflnTBuY",
    "outputId": "52d799a7-26bf-48af-f00b-036266692455"
   },
   "outputs": [
    {
     "name": "stdout",
     "output_type": "stream",
     "text": [
      "============================== Inference ==============================\n",
      "-------------------- started predition --------------------\n",
      "at time step 0 the word is 0\n",
      "at time step 0 the word is  [[100]]\n",
      "at time step 1 the word is  [[8]]\n",
      "at time step 2 the word is  [[40]]\n",
      "at time step 3 the word is  [[109]]\n",
      "at time step 4 the word is  [[3]]\n",
      "\n",
      "Italian:  <start> ritorniamo <eos>\n",
      "Eng_ref:  let is turn back\n",
      "Predicted:  let is go back <eos> \n",
      "\n",
      "BLEU score: 0.7071067811865475\n"
     ]
    }
   ],
   "source": [
    "num = 18984\n",
    "Ita = validation['Italian'][num]\n",
    "Eng = validation['English'][num]\n",
    "Translator(Ita, Eng)"
   ]
  },
  {
   "cell_type": "code",
   "execution_count": null,
   "metadata": {
    "colab": {
     "base_uri": "https://localhost:8080/",
     "height": 286
    },
    "id": "asHG-TjFTF3d",
    "outputId": "4bfeefc8-d17c-4360-e6d8-e6bbfec90b76"
   },
   "outputs": [
    {
     "name": "stdout",
     "output_type": "stream",
     "text": [
      "============================== Inference ==============================\n",
      "-------------------- started predition --------------------\n",
      "at time step 0 the word is 0\n",
      "at time step 0 the word is  [[14]]\n",
      "at time step 1 the word is  [[10]]\n",
      "at time step 2 the word is  [[1228]]\n",
      "at time step 3 the word is  [[20]]\n",
      "at time step 4 the word is  [[148]]\n",
      "at time step 5 the word is  [[478]]\n",
      "at time step 6 the word is  [[3]]\n",
      "\n",
      "Italian:  <start> fervono i preparativi per la cerimonia <eos>\n",
      "Eng_ref:  preparations for the ceremony are under way\n",
      "Predicted:  have the interest in our country <eos> \n",
      "\n",
      "BLEU score: 0.5408536609893481\n"
     ]
    }
   ],
   "source": [
    "num = 30000\n",
    "Ita = validation['Italian'][num]\n",
    "Eng = validation['English'][num]\n",
    "Translator(Ita, Eng)"
   ]
  },
  {
   "cell_type": "code",
   "execution_count": null,
   "metadata": {
    "colab": {
     "base_uri": "https://localhost:8080/",
     "height": 286
    },
    "id": "bi7figdCTJXg",
    "outputId": "e2b76d05-6848-45b1-a562-ef53b3c386bb"
   },
   "outputs": [
    {
     "name": "stdout",
     "output_type": "stream",
     "text": [
      "============================== Inference ==============================\n",
      "-------------------- started predition --------------------\n",
      "at time step 0 the word is 0\n",
      "at time step 0 the word is  [[15]]\n",
      "at time step 1 the word is  [[8]]\n",
      "at time step 2 the word is  [[352]]\n",
      "at time step 3 the word is  [[7092]]\n",
      "at time step 4 the word is  [[115]]\n",
      "at time step 5 the word is  [[128]]\n",
      "at time step 6 the word is  [[3]]\n",
      "\n",
      "Italian:  <start> fa più caldo giorno dopo giorno <eos>\n",
      "Eng_ref:  it is getting warmer day by day\n",
      "Predicted:  it is getting hotter than day <eos> \n",
      "\n",
      "BLEU score: 0.43012508513132625\n"
     ]
    }
   ],
   "source": [
    "num = 61\n",
    "Ita = validation['Italian'][num]\n",
    "Eng = validation['English'][num]\n",
    "Translator(Ita, Eng)"
   ]
  },
  {
   "cell_type": "code",
   "execution_count": null,
   "metadata": {
    "colab": {
     "base_uri": "https://localhost:8080/",
     "height": 286
    },
    "id": "gTlqb5W1TM_0",
    "outputId": "3295215b-653c-481c-e0c5-b1278b5a9f8c"
   },
   "outputs": [
    {
     "name": "stdout",
     "output_type": "stream",
     "text": [
      "============================== Inference ==============================\n",
      "-------------------- started predition --------------------\n",
      "at time step 0 the word is 0\n",
      "at time step 0 the word is  [[31]]\n",
      "at time step 1 the word is  [[348]]\n",
      "at time step 2 the word is  [[18]]\n",
      "at time step 3 the word is  [[31]]\n",
      "at time step 4 the word is  [[781]]\n",
      "at time step 5 the word is  [[2020]]\n",
      "at time step 6 the word is  [[3]]\n",
      "\n",
      "Italian:  <start> la mia macchina fotografica è stata rubata sul treno <eos>\n",
      "Eng_ref:  my camera was stolen on the train\n",
      "Predicted:  my train was my camera repaired <eos> \n",
      "\n",
      "BLEU score: 0.5115078115793242\n"
     ]
    }
   ],
   "source": [
    "num = 18\n",
    "Ita = validation['Italian'][num]\n",
    "Eng = validation['English'][num]\n",
    "Translator(Ita, Eng)"
   ]
  },
  {
   "cell_type": "code",
   "execution_count": null,
   "metadata": {
    "colab": {
     "base_uri": "https://localhost:8080/",
     "height": 252
    },
    "id": "tdcHxFCDTbpZ",
    "outputId": "dcfa32cc-7228-4885-ddce-3c73867491fe"
   },
   "outputs": [
    {
     "name": "stdout",
     "output_type": "stream",
     "text": [
      "============================== Inference ==============================\n",
      "-------------------- started predition --------------------\n",
      "at time step 0 the word is 0\n",
      "at time step 0 the word is  [[6]]\n",
      "at time step 1 the word is  [[446]]\n",
      "at time step 2 the word is  [[11]]\n",
      "at time step 3 the word is  [[709]]\n",
      "at time step 4 the word is  [[3]]\n",
      "\n",
      "Italian:  <start> tom cambiò colore <eos>\n",
      "Eng_ref:  tom changed color\n",
      "Predicted:  tom changed a knife <eos> \n",
      "\n",
      "BLEU score: 0.6389431042462724\n"
     ]
    }
   ],
   "source": [
    "num = 60000\n",
    "Ita = validation['Italian'][num]\n",
    "Eng = validation['English'][num]\n",
    "Translator(Ita, Eng)"
   ]
  },
  {
   "cell_type": "code",
   "execution_count": null,
   "metadata": {
    "colab": {
     "base_uri": "https://localhost:8080/",
     "height": 235
    },
    "id": "NT1T5NFUUE9V",
    "outputId": "457c1433-df3f-46a4-c332-4b2f86987c1e"
   },
   "outputs": [
    {
     "name": "stdout",
     "output_type": "stream",
     "text": [
      "============================== Inference ==============================\n",
      "-------------------- started predition --------------------\n",
      "at time step 0 the word is 0\n",
      "at time step 0 the word is  [[15]]\n",
      "at time step 1 the word is  [[8]]\n",
      "at time step 2 the word is  [[549]]\n",
      "at time step 3 the word is  [[3]]\n",
      "\n",
      "Italian:  <start> è strano <eos>\n",
      "Eng_ref:  it is odd\n",
      "Predicted:  it is strange <eos> \n",
      "\n",
      "BLEU score: 0.7598356856515925\n"
     ]
    }
   ],
   "source": [
    "num = 891\n",
    "Ita = validation['Italian'][num]\n",
    "Eng = validation['English'][num]\n",
    "Translator(Ita, Eng)"
   ]
  },
  {
   "cell_type": "code",
   "execution_count": null,
   "metadata": {
    "id": "Bs-s16Skncxm"
   },
   "outputs": [],
   "source": [
    "# Calculating bleu scores for first 100 val data.\n",
    "REF = []\n",
    "PRED = []\n",
    "BLEU = []\n",
    "for i in range(1,101):\n",
    "  Ita = validation['Italian'][i]\n",
    "  Eng = validation['English'][i]\n",
    "  test = ita_token.texts_to_sequences([Ita])\n",
    "  test = pad_sequences([test[0]], maxlen=20, dtype='int32', padding='post')\n",
    "  test = tf.convert_to_tensor(test)\n",
    "  initial_state = model1.layers[0].initialize_states(1)\n",
    "  enc_output, enc_state_h, enc_state_c = model1.layers[0](test, initial_state)\n",
    "  states_values = [enc_state_h, enc_state_c]\n",
    "  pred = []\n",
    "  cur_vec = tf.expand_dims([eng_token.word_index['<start>']], 0)\n",
    "  for i in range(20):\n",
    "      infe_output, state_h, state_c = model1.layers[1](cur_vec, states_values)\n",
    "      infe_output=model1.layers[2](infe_output)\n",
    "      states_values = [state_h, state_c]\n",
    "      # np.argmax(infe_output) will be a single value, which represents the the index of predicted word\n",
    "      # but to pass this data into next time step embedding layer, we are reshaping it into (1,1) shape\n",
    "      cur_vec1 = np.argmax(infe_output)\n",
    "      cur_vec = np.reshape(np.argmax(infe_output), (1, 1))\n",
    "      pred.append(cur_vec1)\n",
    "      if cur_vec == 3:\n",
    "        break\n",
    "\n",
    "  result = ''\n",
    "  for i in pred:\n",
    "    if i != 0:\n",
    "      result += eng_token.index_word[i] + ' '\n",
    "  reference = [Eng.split()] # the original\n",
    "  translation = result.split() # translated using model\n",
    "\n",
    "  b = bleu.sentence_bleu(reference, translation[:-1])\n",
    "  REF.append(Eng)\n",
    "  PRED.append(result)\n",
    "  BLEU.append(b)"
   ]
  },
  {
   "cell_type": "code",
   "execution_count": null,
   "metadata": {
    "colab": {
     "base_uri": "https://localhost:8080/",
     "height": 343
    },
    "id": "Y5I54YtCncxt",
    "outputId": "cc16cd5b-4967-4020-b125-91ff8afa3a4c"
   },
   "outputs": [
    {
     "data": {
      "text/html": [
       "<div>\n",
       "<style scoped>\n",
       "    .dataframe tbody tr th:only-of-type {\n",
       "        vertical-align: middle;\n",
       "    }\n",
       "\n",
       "    .dataframe tbody tr th {\n",
       "        vertical-align: top;\n",
       "    }\n",
       "\n",
       "    .dataframe thead th {\n",
       "        text-align: right;\n",
       "    }\n",
       "</style>\n",
       "<table border=\"1\" class=\"dataframe\">\n",
       "  <thead>\n",
       "    <tr style=\"text-align: right;\">\n",
       "      <th></th>\n",
       "      <th>Reference</th>\n",
       "      <th>Predicited</th>\n",
       "      <th>BLEU_Score</th>\n",
       "    </tr>\n",
       "  </thead>\n",
       "  <tbody>\n",
       "    <tr>\n",
       "      <th>0</th>\n",
       "      <td>the first thing tom does every day when he get...</td>\n",
       "      <td>the doctor what time will you spend when to go...</td>\n",
       "      <td>0.367481</td>\n",
       "    </tr>\n",
       "    <tr>\n",
       "      <th>1</th>\n",
       "      <td>i am beginning to agree with you</td>\n",
       "      <td>i am beginning to agree with you &lt;eos&gt;</td>\n",
       "      <td>1.000000</td>\n",
       "    </tr>\n",
       "    <tr>\n",
       "      <th>2</th>\n",
       "      <td>i feel really lucky right now</td>\n",
       "      <td>i feel really lucky right now &lt;eos&gt;</td>\n",
       "      <td>1.000000</td>\n",
       "    </tr>\n",
       "    <tr>\n",
       "      <th>3</th>\n",
       "      <td>the boy you killed was your son</td>\n",
       "      <td>the boy admitted that boy was a doctor &lt;eos&gt;</td>\n",
       "      <td>0.481098</td>\n",
       "    </tr>\n",
       "    <tr>\n",
       "      <th>4</th>\n",
       "      <td>he changed a few words</td>\n",
       "      <td>he changed a change of the refrigerator &lt;eos&gt;</td>\n",
       "      <td>0.411134</td>\n",
       "    </tr>\n",
       "    <tr>\n",
       "      <th>5</th>\n",
       "      <td>i did not catch their names</td>\n",
       "      <td>i have not understood their names &lt;eos&gt;</td>\n",
       "      <td>0.604275</td>\n",
       "    </tr>\n",
       "    <tr>\n",
       "      <th>6</th>\n",
       "      <td>this is the lady i spoke of yesterday</td>\n",
       "      <td>this was the first person i did not hand &lt;eos&gt;</td>\n",
       "      <td>0.759836</td>\n",
       "    </tr>\n",
       "    <tr>\n",
       "      <th>7</th>\n",
       "      <td>would you like to stay for lunch</td>\n",
       "      <td>would you like to stay at christmas &lt;eos&gt;</td>\n",
       "      <td>0.614788</td>\n",
       "    </tr>\n",
       "    <tr>\n",
       "      <th>8</th>\n",
       "      <td>i know that tom is alone</td>\n",
       "      <td>i know tom is alone &lt;eos&gt;</td>\n",
       "      <td>0.578930</td>\n",
       "    </tr>\n",
       "    <tr>\n",
       "      <th>9</th>\n",
       "      <td>i hate to see children cry</td>\n",
       "      <td>i hate children in the bed &lt;eos&gt;</td>\n",
       "      <td>0.562341</td>\n",
       "    </tr>\n",
       "  </tbody>\n",
       "</table>\n",
       "</div>"
      ],
      "text/plain": [
       "                                           Reference  ... BLEU_Score\n",
       "0  the first thing tom does every day when he get...  ...   0.367481\n",
       "1                   i am beginning to agree with you  ...   1.000000\n",
       "2                      i feel really lucky right now  ...   1.000000\n",
       "3                    the boy you killed was your son  ...   0.481098\n",
       "4                             he changed a few words  ...   0.411134\n",
       "5                        i did not catch their names  ...   0.604275\n",
       "6              this is the lady i spoke of yesterday  ...   0.759836\n",
       "7                   would you like to stay for lunch  ...   0.614788\n",
       "8                           i know that tom is alone  ...   0.578930\n",
       "9                         i hate to see children cry  ...   0.562341\n",
       "\n",
       "[10 rows x 3 columns]"
      ]
     },
     "execution_count": 45,
     "metadata": {
      "tags": []
     },
     "output_type": "execute_result"
    }
   ],
   "source": [
    "OUTPUT = pd.DataFrame(list(zip(REF, PRED, BLEU)), columns = ['Reference', 'Predicited', 'BLEU_Score'])\n",
    "OUTPUT.head(10)"
   ]
  },
  {
   "cell_type": "code",
   "execution_count": null,
   "metadata": {
    "colab": {
     "base_uri": "https://localhost:8080/",
     "height": 34
    },
    "id": "RF_GySNdncx0",
    "outputId": "e69b889f-c8ce-4b17-be16-caaff7aa0d78"
   },
   "outputs": [
    {
     "name": "stdout",
     "output_type": "stream",
     "text": [
      "Average bleu score on 100 validation data: 0.6605\n"
     ]
    }
   ],
   "source": [
    "print(\"Average bleu score on 100 validation data: {:.4f}\".format(np.mean(BLEU)))"
   ]
  },
  {
   "cell_type": "markdown",
   "metadata": {
    "id": "KxHWTRCxthis"
   },
   "source": [
    "# Encoder-Decoder with Attention Architecture"
   ]
  },
  {
   "cell_type": "code",
   "execution_count": null,
   "metadata": {
    "id": "_v9RFhPzthiw"
   },
   "outputs": [],
   "source": [
    "# Encoder Architecture\n",
    "tf.keras.backend.clear_session()\n",
    "class Encoder(Model):\n",
    "    def __init__(self, vocab_size, embed_size, units, input_len):\n",
    "        super(Encoder, self).__init__()\n",
    "        self.vocab_size = vocab_size + 1\n",
    "        self.embed_dim = embed_size\n",
    "        self.input_length = input_len\n",
    "        self.lstm_units = units\n",
    "        self.lstm_output = 0\n",
    "        self.lstm_state_h = 0\n",
    "        self.lstm_state_c = 0\n",
    "        self.embeddings = Embedding(input_dim = self.vocab_size, output_dim = self.embed_dim,\n",
    "                                    input_length = self.input_length, name = 'Encoder_Emb_Layer')\n",
    "        self.lstm = LSTM(units = self.lstm_units, return_sequences = True,\n",
    "                        return_state = True, name = 'Encoder_LSTM_Layer')\n",
    "    \n",
    "    def call(self, input_sentence, hidden, training = True):\n",
    "        #print('Encoder === I/p shape before Embedding : ', input_sentence.shape)\n",
    "        input_emb = self.embeddings(input_sentence)\n",
    "        #print('Encoder === I/p shape after Embedding : ', input_emb.shape)\n",
    "        self.lstm_output, self.lstm_state_h, self.lstm_state_c = self.lstm(input_emb, initial_state = hidden)\n",
    "        return self.lstm_output, self.lstm_state_h, self.lstm_state_c\n",
    "    \n",
    "    def get_states(self):\n",
    "        return self.lstm_state_h, self.lstm_state_c\n",
    "    \n",
    "    def initialize_states(self,batch_size):\n",
    "        self.lstm_state_h = tf.zeros((batch_size, self.lstm_units))\n",
    "        self.lstm_state_c = tf.zeros((batch_size, self.lstm_units))\n",
    "        return [self.lstm_state_h, self.lstm_state_c] "
   ]
  },
  {
   "cell_type": "code",
   "execution_count": null,
   "metadata": {
    "id": "UtsoMQLBthi5"
   },
   "outputs": [],
   "source": [
    "# BahdanauAttention\n",
    "# Ref: https://arxiv.org/pdf/1508.04025.pdf\n",
    "'''\n",
    "      Attention mechanism takes two inputs current step -- decoder_hidden_state and all the encoder_outputs.\n",
    "      * Based on the scoring function we will find the score or similarity between decoder_hidden_state and encoder_output.\n",
    "        Multiply the score function with your encoder_outputs to get the context vector.\n",
    "        Function returns context vector and attention weights(softmax - scores)\n",
    "    '''\n",
    "class Attention(tf.keras.layers.Layer):\n",
    "    def __init__(self, att_func, att_units):\n",
    "        super(Attention, self).__init__()\n",
    "        self.units = att_units\n",
    "        self.func = att_func\n",
    "    \n",
    "    def build(self, input_shape):\n",
    "        if(self.func == 'general'):\n",
    "            self.Wa = self.add_weight(shape=(input_shape[-1], self.units), initializer='glorot_uniform',\n",
    "                               trainable=True)\n",
    "        if(self.func == 'concat'):\n",
    "            self.W1 = self.add_weight(shape=(input_shape[-1], self.units), initializer='glorot_uniform',\n",
    "                               trainable=True)\n",
    "            self.W2 = self.add_weight(shape=(input_shape[-1], self.units), initializer='glorot_uniform',\n",
    "                               trainable=True)\n",
    "            self.va = self.add_weight(shape=(input_shape[-1], 1), initializer='glorot_uniform',\n",
    "                               trainable=True)\n",
    "            #print('W1 shape', self.W1.shape, 'va shape', self.va.shape)\n",
    "    \n",
    "    def call(self, decoder_hidden_state, encoder_output):\n",
    "        query = tf.expand_dims(decoder_hidden_state, axis = 1)\n",
    "        #print('Query shape', query.shape, 'Values shape', encoder_output.shape)\n",
    "        # query: (batch_size, 1, rnn_units)\n",
    "        # encoder_output a.k.a values: (batch_size, max_len, rnn_units)\n",
    "\n",
    "        # Three ways of calculating attention weights\n",
    "        if self.func == 'dot':\n",
    "            scores = tf.matmul(encoder_output, query, transpose_b = True)\n",
    "        \n",
    "        if self.func == 'general':\n",
    "            temp = tf.matmul(encoder_output, self.Wa, transpose_b = True)\n",
    "            scores = tf.matmul(temp, query, transpose_b = True)\n",
    "            \n",
    "        if self.func == 'concat':\n",
    "            temp = tf.matmul(query, self.W1, transpose_b = True) + tf.matmul(encoder_output, self.W2, transpose_b = True)\n",
    "            temp = tf.nn.tanh(temp)\n",
    "            scores = tf.matmul(temp, self.va)\n",
    "        \n",
    "        \n",
    "        attention_weights = tf.nn.softmax(scores, axis = 1)\n",
    "        \n",
    "        context_vector = attention_weights * encoder_output\n",
    "        context_vector = tf.reduce_sum(context_vector, axis=1)\n",
    "\n",
    "        return context_vector, attention_weights\n",
    "            \n",
    "            "
   ]
  },
  {
   "cell_type": "code",
   "execution_count": null,
   "metadata": {
    "id": "jSOZzi8Wthi_"
   },
   "outputs": [],
   "source": [
    "class One_Step_Decoder(tf.keras.Model):\n",
    "    def __init__(self, tar_vocab_size, embedding_dim, input_length, dec_units ,score_fun ,att_units, embedding_matrix):\n",
    "        super(One_Step_Decoder, self).__init__()\n",
    "        # Initialize decoder embedding layer, LSTM and any other objects needed\n",
    "        self.embedding = Embedding(input_dim = tar_vocab_size + 1, output_dim = embedding_dim, mask_zero=True,\n",
    "                                   input_length = input_length, weights=[embedding_matrix], trainable=False)\n",
    "        self.attention = Attention(score_fun, att_units)\n",
    "        self.lstm = LSTM(units = dec_units, return_sequences = True,\n",
    "                        return_state = True)\n",
    "        self.dense = Dense(units = tar_vocab_size, activation = 'softmax')\n",
    "        \n",
    "\n",
    "    def call(self, input_to_decoder, encoder_output, state_h, state_c):\n",
    "        '''\n",
    "        One step decoder mechanisim step by step:\n",
    "      A. Pass the input_to_decoder to the embedding layer and then get the output(batch_size,1,embedding_dim)\n",
    "      B. Using the encoder_output and decoder hidden state, compute the context vector.\n",
    "      C. Concat the context vector with the step A output\n",
    "      D. Pass the Step-C output to LSTM/GRU and get the decoder output and states(hidden and cell state)\n",
    "      E. Pass the decoder output to dense layer(vocab size) and store the result into output.\n",
    "      F. Return the states from step D, output from Step E, attention weights from Step -B\n",
    "        '''\n",
    "        # A\n",
    "        #print('Decoder === I/p shape before Embedding : ', input_to_decoder.shape)\n",
    "        embedded = self.embedding(input_to_decoder)\n",
    "        #print('Emb', embedded.shape)\n",
    "        #print('Decoder === I/p shape after Embedding : ', embedded.shape)\n",
    "        \n",
    "        # B\n",
    "        context_vector, attention_weights = self.attention(state_h, encoder_output)\n",
    "        temp = tf.expand_dims(context_vector, axis = 1)\n",
    "        #print('Cont', context_vector.shape, 'Att_w', attention_weights.shape)\n",
    "        \n",
    "        # C\n",
    "        temp = tf.concat([embedded, temp], axis=-1)\n",
    "        #print('Concat', temp.shape)\n",
    "        \n",
    "        # D\n",
    "        decoded_op, decoded_h, decoded_c = self.lstm(temp)\n",
    "        #print('dec_out', decoded_op.shape, 'h', decoded_h.shape, 'c', decoded_c.shape)\n",
    "        decoded_op = tf.squeeze(decoded_op, axis = 1)\n",
    "        #decoded_op = tf.reshape(decoded_op, (-1, decoded_op.shape[2]))\n",
    "        #print('dec_out', decoded_op.shape)\n",
    "        \n",
    "        # E\n",
    "        output = self.dense(decoded_op)\n",
    "        #print('Out', output.shape)\n",
    "        \n",
    "        # F\n",
    "        return output, decoded_h, decoded_c, attention_weights, context_vector\n",
    "        \n",
    "        \n"
   ]
  },
  {
   "cell_type": "code",
   "execution_count": null,
   "metadata": {
    "id": "12rRfvK1thjE"
   },
   "outputs": [],
   "source": [
    "class Decoder(tf.keras.Model):\n",
    "    def __init__(self, out_vocab_size, embedding_dim, input_length, dec_units ,score_fun ,att_units, emb_matrix):\n",
    "      #Intialize necessary variables and create an object from the class onestepdecoder\n",
    "        super(Decoder, self).__init__()\n",
    "        self.onestepdecoder = One_Step_Decoder(out_vocab_size, embedding_dim, input_length, dec_units ,score_fun ,att_units, emb_matrix)\n",
    "        self.max_len = input_length\n",
    "    def call(self, input_to_decoder, encoder_output, decoder_h, decoder_c):\n",
    "\n",
    "        #Initialize an empty Tensor array, that will store the outputs at each and every time step\n",
    "        #Create a tensor array as shown in the reference notebook\n",
    "        \n",
    "        #Iterate till the length of the decoder input\n",
    "            # Call onestepdecoder for each token in decoder_input\n",
    "            # Store the output in tensorarray\n",
    "        # Return the tensor array\n",
    "        #print(input_to_decoder.shape)\n",
    "        Output = tf.TensorArray(tf.float32, size = self.max_len)\n",
    "        \n",
    "        for step in range(self.max_len):\n",
    "            \n",
    "            output, decoder_h, decoder_c, att_weights, _ = self.onestepdecoder(input_to_decoder[:, step:step+1], encoder_output, \n",
    "                                                              decoder_h, decoder_c)\n",
    "            \n",
    "            Output = Output.write(step, output)\n",
    "            \n",
    "        Output = tf.transpose(Output.stack(), [1, 0, 2])\n",
    "        #print('Final_Out', Output.shape)\n",
    "        \n",
    "        return Output, att_weights              "
   ]
  },
  {
   "cell_type": "code",
   "execution_count": null,
   "metadata": {
    "id": "YPwEvy2ythjK"
   },
   "outputs": [],
   "source": [
    "# Creating the overall model architecture\n",
    "class Encoder_Decoder(Model):\n",
    "    def __init__(self, ip_vocab_size, ip_embed_size, input_len, units, op_vocab_size, op_embed_size, output_len, score_func, batch_size, emb_matrix):\n",
    "        super(Encoder_Decoder, self).__init__() \n",
    "        self.batch_size = batch_size\n",
    "        self.encoder = Encoder(ip_vocab_size, ip_embed_size, units, input_len)\n",
    "        self.decoder = Decoder(op_vocab_size, op_embed_size, output_len, units ,score_func, \n",
    "                               units, emb_matrix)\n",
    "        #self.dense = Dense(units = op_vocab_size, activation = 'softmax')\n",
    "    \n",
    "    def call(self, data):\n",
    "        initial_state = self.encoder.initialize_states(self.batch_size)\n",
    "        lang1, lang2 = data[0], data[1]\n",
    "        #print(\"=\"*20, \"ENCODER\", \"=\"*20)\n",
    "        encoder_output, encoder_h, encoder_c = self.encoder(lang1, initial_state) # Encoder\n",
    "        #print(\"-\"*27)\n",
    "        #print(\"ENCODER ==> OUTPUT SHAPE\",encoder_output.shape)\n",
    "        #print(\"ENCODER ==> HIDDEN STATE SHAPE\",encoder_h.shape)\n",
    "        #print(\"ENCODER ==> CELL STATE SHAPE\", encoder_c.shape)\n",
    "        #print(\"=\"*20, \"DECODER\", \"=\"*20)\n",
    "        decoder_output, _  = self.decoder(lang2, encoder_output, encoder_h, encoder_c) # Decoder\n",
    "        #op = tf.reshape(decoder_output, (-1, decoder_output.shape[2]))\n",
    "        #output = self.dense(op)\n",
    "        #print(\"-\"*27)\n",
    "        #print(\"FINAL OUTPUT SHAPE\",decoder_output.shape)\n",
    "        #print(\"=\"*50)\n",
    "        return decoder_output"
   ]
  },
  {
   "cell_type": "code",
   "execution_count": null,
   "metadata": {
    "id": "1mQyTVsqwNnd"
   },
   "outputs": [],
   "source": [
    "# Ref: https://www.tensorflow.org/tutorials/text/nmt_with_attention\n",
    "loss_object = tf.keras.losses.SparseCategoricalCrossentropy(reduction='none')\n",
    "\n",
    "def loss_function(y_true, y_pred):\n",
    "  mask = tf.math.logical_not(tf.math.equal(y_true, 0))\n",
    "  loss_ = loss_object(y_true, y_pred)\n",
    "\n",
    "  mask = tf.cast(mask, dtype=loss_.dtype)\n",
    "  loss_ *= mask\n",
    "\n",
    "  return tf.reduce_mean(loss_)"
   ]
  },
  {
   "cell_type": "markdown",
   "metadata": {
    "id": "7EtGS-Dj9b9Y"
   },
   "source": [
    "# Prediction\n",
    "\n",
    "> Custom functions for prediction, displaying the context and plotting of attention weights.\n",
    "\n"
   ]
  },
  {
   "cell_type": "code",
   "execution_count": null,
   "metadata": {
    "id": "QHi7Ynvq9fyw"
   },
   "outputs": [],
   "source": [
    "def predict(text, md):\n",
    "  print(\"=\" * 30, \"Inference\", \"=\" * 30)\n",
    "  test = ita_token.texts_to_sequences([text])\n",
    "  test = pad_sequences([test[0]], maxlen=20, dtype='int32', padding='post')\n",
    "  test = tf.convert_to_tensor(test)\n",
    "  initial_state = md.layers[0].initialize_states(1)\n",
    "  enc_output, enc_state_h, enc_state_c = md.layers[0](test, initial_state)\n",
    "  state_h, state_c = enc_state_h, enc_state_c\n",
    "  pred = []\n",
    "  cur_vec = tf.expand_dims([eng_token.word_index['<start>']], 0)\n",
    "  print('-'*20,\"started predition\",\"-\"*20)\n",
    "  print(\"at time step 0 the word is 0\")\n",
    "  ATT = np.zeros((20, 20))\n",
    "  for i in range(20):\n",
    "      infe_output, state_h, state_c, att_weights, _ = md.layers[1].onestepdecoder(cur_vec, enc_output, state_h, state_c)\n",
    "      # np.argmax(infe_output) will be a single value, which represents the the index of predicted word\n",
    "      # but to pass this data into next time step embedding layer, we are reshaping it into (1,1) shape\n",
    "      att_weights = tf.reshape(att_weights, (-1, ))\n",
    "      cur_vec1 = np.argmax(infe_output)\n",
    "      cur_vec = np.reshape(np.argmax(infe_output), (1, 1))\n",
    "      ATT[i] = att_weights.numpy()\n",
    "      print(\"at time step\", i, \"the word is \", cur_vec)\n",
    "      pred.append(cur_vec1)\n",
    "      if cur_vec1 == 3:\n",
    "        break\n",
    "  return pred, ATT"
   ]
  },
  {
   "cell_type": "code",
   "execution_count": null,
   "metadata": {
    "id": "WF2-JC8Z9fy5"
   },
   "outputs": [],
   "source": [
    "def display(ita, eng_ref, pred):\n",
    "  print('Italian: ', ita)\n",
    "  print('Eng_ref: ', eng_ref)\n",
    "  result = ''\n",
    "  for i in pred:\n",
    "    if i != 0:\n",
    "      result += eng_token.index_word[i] + ' '\n",
    "  print('Predicted: ', result)\n",
    "  reference = [eng_ref.split()] # the original\n",
    "  translation = result.split() # translated using model\n",
    "  print()\n",
    "  print('BLEU score: {}'.format(bleu.sentence_bleu(reference, translation[:-1])))\n",
    "  return result"
   ]
  },
  {
   "cell_type": "code",
   "execution_count": null,
   "metadata": {
    "id": "-Q6F6qUh9fzA"
   },
   "outputs": [],
   "source": [
    "def plot(att, ita, pred):\n",
    "  attention_plot = att[:len(pred.split(' ')), :len(ita.split(' '))]\n",
    "  fig = plt.figure(figsize=(10,10))\n",
    "  ax = fig.add_subplot(1, 1, 1)\n",
    "  ax.matshow(attention_plot, cmap = 'viridis')\n",
    "\n",
    "  fontdict = {'fontsize': 14}\n",
    "\n",
    "  ax.set_xticklabels([''] + ita.split(), fontdict=fontdict, rotation=90)\n",
    "  ax.set_yticklabels([''] + pred.split(), fontdict=fontdict)\n",
    "\n",
    "  ax.xaxis.set_major_locator(ticker.MultipleLocator(1))\n",
    "  ax.yaxis.set_major_locator(ticker.MultipleLocator(1))\n",
    "\n",
    "  plt.show()"
   ]
  },
  {
   "cell_type": "code",
   "execution_count": null,
   "metadata": {
    "id": "m2VzC4ItYKQV"
   },
   "outputs": [],
   "source": []
  },
  {
   "cell_type": "markdown",
   "metadata": {
    "id": "MYM1yGC9qakO"
   },
   "source": [
    "# Concat\n",
    "\n",
    "> Using Concat function\n",
    "\n"
   ]
  },
  {
   "cell_type": "code",
   "execution_count": null,
   "metadata": {
    "id": "ySuS3vUpqdYc"
   },
   "outputs": [],
   "source": [
    "tf.keras.backend.clear_session()\n",
    "model  = Encoder_Decoder(ip_vocab_size = ita_vocab_size, ip_embed_size = 100, \n",
    "                 input_len = 20, units = 64, op_vocab_size = eng_vocab_size, op_embed_size = 100, output_len = 20, \n",
    "                 score_func = 'concat', batch_size = 1024, emb_matrix = embedding_matrix)"
   ]
  },
  {
   "cell_type": "code",
   "execution_count": null,
   "metadata": {
    "colab": {
     "base_uri": "https://localhost:8080/",
     "height": 1000
    },
    "id": "To9Bd4qDqdYi",
    "outputId": "53d8abcb-077b-44aa-e3f7-a77f0d1c0f97"
   },
   "outputs": [
    {
     "name": "stdout",
     "output_type": "stream",
     "text": [
      "WARNING:tensorflow:From <ipython-input-37-372d7aa9579b>:19: Model.fit_generator (from tensorflow.python.keras.engine.training) is deprecated and will be removed in a future version.\n",
      "Instructions for updating:\n",
      "Please use Model.fit, which supports generators.\n",
      "Epoch 1/50\n",
      "266/266 [==============================] - 119s 446ms/step - loss: 2.0781 - val_loss: 1.8531\n",
      "Epoch 2/50\n",
      "266/266 [==============================] - 117s 438ms/step - loss: 1.8406 - val_loss: 1.8233\n",
      "Epoch 3/50\n",
      "266/266 [==============================] - 120s 450ms/step - loss: 1.7897 - val_loss: 1.7369\n",
      "Epoch 4/50\n",
      "266/266 [==============================] - 116s 438ms/step - loss: 1.6886 - val_loss: 1.6316\n",
      "Epoch 5/50\n",
      "266/266 [==============================] - 119s 448ms/step - loss: 1.5572 - val_loss: 1.4800\n",
      "Epoch 6/50\n",
      "266/266 [==============================] - 117s 439ms/step - loss: 1.4197 - val_loss: 1.3633\n",
      "Epoch 7/50\n",
      "266/266 [==============================] - 119s 449ms/step - loss: 1.3021 - val_loss: 1.2522\n",
      "Epoch 8/50\n",
      "266/266 [==============================] - 117s 440ms/step - loss: 1.1982 - val_loss: 1.1587\n",
      "Epoch 9/50\n",
      "266/266 [==============================] - 120s 450ms/step - loss: 1.1029 - val_loss: 1.0672\n",
      "Epoch 10/50\n",
      "266/266 [==============================] - 117s 440ms/step - loss: 1.0073 - val_loss: 0.9768\n",
      "Epoch 11/50\n",
      "266/266 [==============================] - 120s 451ms/step - loss: 0.9156 - val_loss: 0.8956\n",
      "Epoch 12/50\n",
      "266/266 [==============================] - 117s 439ms/step - loss: 0.8340 - val_loss: 0.8228\n",
      "Epoch 13/50\n",
      "266/266 [==============================] - 120s 451ms/step - loss: 0.7610 - val_loss: 0.7607\n",
      "Epoch 14/50\n",
      "266/266 [==============================] - 117s 441ms/step - loss: 0.6978 - val_loss: 0.7080\n",
      "Epoch 15/50\n",
      "266/266 [==============================] - 121s 455ms/step - loss: 0.6417 - val_loss: 0.6604\n",
      "Epoch 16/50\n",
      "266/266 [==============================] - 118s 442ms/step - loss: 0.5928 - val_loss: 0.6223\n",
      "Epoch 17/50\n",
      "266/266 [==============================] - 121s 454ms/step - loss: 0.5501 - val_loss: 0.5840\n",
      "Epoch 18/50\n",
      "266/266 [==============================] - 118s 443ms/step - loss: 0.5125 - val_loss: 0.5536\n",
      "Epoch 19/50\n",
      "266/266 [==============================] - 121s 455ms/step - loss: 0.4805 - val_loss: 0.5280\n",
      "Epoch 20/50\n",
      "266/266 [==============================] - 118s 442ms/step - loss: 0.4526 - val_loss: 0.5065\n",
      "Epoch 21/50\n",
      "266/266 [==============================] - 121s 453ms/step - loss: 0.4271 - val_loss: 0.4865\n",
      "Epoch 22/50\n",
      "266/266 [==============================] - 118s 445ms/step - loss: 0.4038 - val_loss: 0.4696\n",
      "Epoch 23/50\n",
      "266/266 [==============================] - 121s 454ms/step - loss: 0.3854 - val_loss: 0.4554\n",
      "Epoch 24/50\n",
      "266/266 [==============================] - 118s 445ms/step - loss: 0.3664 - val_loss: 0.4419\n",
      "Epoch 25/50\n",
      "266/266 [==============================] - 118s 445ms/step - loss: 0.3505 - val_loss: 0.4298\n",
      "Epoch 26/50\n",
      "266/266 [==============================] - 119s 449ms/step - loss: 0.3356 - val_loss: 0.4201\n",
      "Epoch 27/50\n",
      "266/266 [==============================] - 118s 445ms/step - loss: 0.3260 - val_loss: 0.4111\n",
      "Epoch 28/50\n",
      "266/266 [==============================] - 121s 455ms/step - loss: 0.3106 - val_loss: 0.4019\n",
      "Epoch 29/50\n",
      "266/266 [==============================] - 118s 443ms/step - loss: 0.2991 - val_loss: 0.3936\n",
      "Epoch 30/50\n",
      "266/266 [==============================] - 121s 456ms/step - loss: 0.2895 - val_loss: 0.3881\n",
      "Epoch 31/50\n",
      "266/266 [==============================] - 118s 444ms/step - loss: 0.2813 - val_loss: 0.3805\n",
      "Epoch 32/50\n",
      "266/266 [==============================] - 118s 445ms/step - loss: 0.2717 - val_loss: 0.3764\n",
      "Epoch 33/50\n",
      "266/266 [==============================] - 122s 457ms/step - loss: 0.2639 - val_loss: 0.3710\n",
      "Epoch 34/50\n",
      "266/266 [==============================] - 118s 445ms/step - loss: 0.2568 - val_loss: 0.3677\n",
      "Epoch 35/50\n",
      "266/266 [==============================] - 121s 455ms/step - loss: 0.2522 - val_loss: 0.3622\n",
      "Epoch 36/50\n",
      "266/266 [==============================] - 118s 444ms/step - loss: 0.2441 - val_loss: 0.3566\n",
      "Epoch 37/50\n",
      "266/266 [==============================] - 120s 450ms/step - loss: 0.2366 - val_loss: 0.3532\n",
      "Epoch 38/50\n",
      "266/266 [==============================] - 118s 445ms/step - loss: 0.2330 - val_loss: 0.3508\n",
      "Epoch 39/50\n",
      "266/266 [==============================] - 122s 457ms/step - loss: 0.2259 - val_loss: 0.3471\n",
      "Epoch 40/50\n",
      "266/266 [==============================] - 119s 446ms/step - loss: 0.2200 - val_loss: 0.3439\n",
      "Epoch 41/50\n",
      "266/266 [==============================] - 119s 446ms/step - loss: 0.2154 - val_loss: 0.3429\n",
      "Epoch 42/50\n",
      "266/266 [==============================] - 122s 459ms/step - loss: 0.2139 - val_loss: 0.3439\n",
      "Epoch 43/50\n",
      "266/266 [==============================] - 118s 444ms/step - loss: 0.2081 - val_loss: 0.3364\n",
      "Epoch 44/50\n",
      "266/266 [==============================] - 121s 455ms/step - loss: 0.2060 - val_loss: 0.3347\n",
      "Epoch 45/50\n",
      "266/266 [==============================] - 117s 441ms/step - loss: 0.1990 - val_loss: 0.3335\n",
      "Epoch 46/50\n",
      "266/266 [==============================] - 120s 452ms/step - loss: 0.1951 - val_loss: 0.3309\n",
      "Epoch 47/50\n",
      "266/266 [==============================] - 117s 441ms/step - loss: 0.1913 - val_loss: 0.3303\n",
      "Epoch 48/50\n",
      "266/266 [==============================] - 120s 451ms/step - loss: 0.1887 - val_loss: 0.3271\n",
      "Epoch 49/50\n",
      "266/266 [==============================] - 117s 441ms/step - loss: 0.1857 - val_loss: 0.3263\n",
      "Epoch 50/50\n",
      "266/266 [==============================] - 120s 452ms/step - loss: 0.1852 - val_loss: 0.3286\n",
      "Model: \"encoder__decoder\"\n",
      "_________________________________________________________________\n",
      "Layer (type)                 Output Shape              Param #   \n",
      "=================================================================\n",
      "encoder (Encoder)            multiple                  2654040   \n",
      "_________________________________________________________________\n",
      "decoder (Decoder)            multiple                  2182610   \n",
      "=================================================================\n",
      "Total params: 4,836,650\n",
      "Trainable params: 3,554,350\n",
      "Non-trainable params: 1,282,300\n",
      "_________________________________________________________________\n"
     ]
    }
   ],
   "source": [
    "optimizer = tf.keras.optimizers.Adam()\n",
    "model.compile(optimizer = optimizer,loss = [loss_function])\n",
    "\n",
    "train_steps = train.shape[0]//1024\n",
    "valid_steps = validation.shape[0]//1024\n",
    "model.fit_generator(train_dataloader, steps_per_epoch=train_steps, epochs=50, validation_data=test_dataloader, validation_steps=valid_steps)\n",
    "model.summary()"
   ]
  },
  {
   "cell_type": "code",
   "execution_count": null,
   "metadata": {
    "colab": {
     "base_uri": "https://localhost:8080/",
     "height": 410
    },
    "id": "zAmra2TOC7JM",
    "outputId": "391c2877-59b3-46e9-f4ed-36bfce43fb8b"
   },
   "outputs": [
    {
     "data": {
      "text/html": [
       "<div>\n",
       "<style scoped>\n",
       "    .dataframe tbody tr th:only-of-type {\n",
       "        vertical-align: middle;\n",
       "    }\n",
       "\n",
       "    .dataframe tbody tr th {\n",
       "        vertical-align: top;\n",
       "    }\n",
       "\n",
       "    .dataframe thead th {\n",
       "        text-align: right;\n",
       "    }\n",
       "</style>\n",
       "<table border=\"1\" class=\"dataframe\">\n",
       "  <thead>\n",
       "    <tr style=\"text-align: right;\">\n",
       "      <th></th>\n",
       "      <th>Italian</th>\n",
       "      <th>English</th>\n",
       "      <th>Italian_len</th>\n",
       "      <th>Eng_len</th>\n",
       "      <th>Decoder_in</th>\n",
       "      <th>Decoder_out</th>\n",
       "    </tr>\n",
       "  </thead>\n",
       "  <tbody>\n",
       "    <tr>\n",
       "      <th>8943</th>\n",
       "      <td>&lt;start&gt; non ho tempo &lt;eos&gt;</td>\n",
       "      <td>i am out of time</td>\n",
       "      <td>3</td>\n",
       "      <td>5</td>\n",
       "      <td>&lt;start&gt; i am out of time &lt;eos&gt;</td>\n",
       "      <td>i am out of time &lt;eos&gt;</td>\n",
       "    </tr>\n",
       "    <tr>\n",
       "      <th>36236</th>\n",
       "      <td>&lt;start&gt; io non devo indossare una cravatta dov...</td>\n",
       "      <td>i do not need to wear a tie where i work</td>\n",
       "      <td>8</td>\n",
       "      <td>11</td>\n",
       "      <td>&lt;start&gt; i do not need to wear a tie where i wo...</td>\n",
       "      <td>i do not need to wear a tie where i work &lt;eos&gt;</td>\n",
       "    </tr>\n",
       "    <tr>\n",
       "      <th>4718</th>\n",
       "      <td>&lt;start&gt; sarà la benvenuta in qualsiasi momento...</td>\n",
       "      <td>you will be welcome at any time</td>\n",
       "      <td>6</td>\n",
       "      <td>7</td>\n",
       "      <td>&lt;start&gt; you will be welcome at any time &lt;eos&gt;</td>\n",
       "      <td>you will be welcome at any time &lt;eos&gt;</td>\n",
       "    </tr>\n",
       "    <tr>\n",
       "      <th>67813</th>\n",
       "      <td>&lt;start&gt; sono veramente obesi &lt;eos&gt;</td>\n",
       "      <td>they are really obese</td>\n",
       "      <td>3</td>\n",
       "      <td>4</td>\n",
       "      <td>&lt;start&gt; they are really obese &lt;eos&gt;</td>\n",
       "      <td>they are really obese &lt;eos&gt;</td>\n",
       "    </tr>\n",
       "    <tr>\n",
       "      <th>20109</th>\n",
       "      <td>&lt;start&gt; tom era alticcio &lt;eos&gt;</td>\n",
       "      <td>tom was tipsy</td>\n",
       "      <td>3</td>\n",
       "      <td>3</td>\n",
       "      <td>&lt;start&gt; tom was tipsy &lt;eos&gt;</td>\n",
       "      <td>tom was tipsy &lt;eos&gt;</td>\n",
       "    </tr>\n",
       "    <tr>\n",
       "      <th>33950</th>\n",
       "      <td>&lt;start&gt; fai attenzione tom &lt;eos&gt;</td>\n",
       "      <td>be careful tom</td>\n",
       "      <td>3</td>\n",
       "      <td>3</td>\n",
       "      <td>&lt;start&gt; be careful tom &lt;eos&gt;</td>\n",
       "      <td>be careful tom &lt;eos&gt;</td>\n",
       "    </tr>\n",
       "    <tr>\n",
       "      <th>15566</th>\n",
       "      <td>&lt;start&gt; tom era vestito di blu &lt;eos&gt;</td>\n",
       "      <td>tom was dressed in blue</td>\n",
       "      <td>5</td>\n",
       "      <td>5</td>\n",
       "      <td>&lt;start&gt; tom was dressed in blue &lt;eos&gt;</td>\n",
       "      <td>tom was dressed in blue &lt;eos&gt;</td>\n",
       "    </tr>\n",
       "    <tr>\n",
       "      <th>32446</th>\n",
       "      <td>&lt;start&gt; pioverà per tutto il fine settimana &lt;eos&gt;</td>\n",
       "      <td>it is going to rain all weekend</td>\n",
       "      <td>6</td>\n",
       "      <td>7</td>\n",
       "      <td>&lt;start&gt; it is going to rain all weekend &lt;eos&gt;</td>\n",
       "      <td>it is going to rain all weekend &lt;eos&gt;</td>\n",
       "    </tr>\n",
       "    <tr>\n",
       "      <th>60272</th>\n",
       "      <td>&lt;start&gt; non correrò &lt;eos&gt;</td>\n",
       "      <td>i will not run</td>\n",
       "      <td>2</td>\n",
       "      <td>4</td>\n",
       "      <td>&lt;start&gt; i will not run &lt;eos&gt;</td>\n",
       "      <td>i will not run &lt;eos&gt;</td>\n",
       "    </tr>\n",
       "    <tr>\n",
       "      <th>33492</th>\n",
       "      <td>&lt;start&gt; lei è insistente &lt;eos&gt;</td>\n",
       "      <td>you are persistent</td>\n",
       "      <td>3</td>\n",
       "      <td>3</td>\n",
       "      <td>&lt;start&gt; you are persistent &lt;eos&gt;</td>\n",
       "      <td>you are persistent &lt;eos&gt;</td>\n",
       "    </tr>\n",
       "  </tbody>\n",
       "</table>\n",
       "</div>"
      ],
      "text/plain": [
       "                                                 Italian  ...                                     Decoder_out\n",
       "8943                          <start> non ho tempo <eos>  ...                          i am out of time <eos>\n",
       "36236  <start> io non devo indossare una cravatta dov...  ...  i do not need to wear a tie where i work <eos>\n",
       "4718   <start> sarà la benvenuta in qualsiasi momento...  ...           you will be welcome at any time <eos>\n",
       "67813                 <start> sono veramente obesi <eos>  ...                     they are really obese <eos>\n",
       "20109                     <start> tom era alticcio <eos>  ...                             tom was tipsy <eos>\n",
       "33950                   <start> fai attenzione tom <eos>  ...                            be careful tom <eos>\n",
       "15566               <start> tom era vestito di blu <eos>  ...                   tom was dressed in blue <eos>\n",
       "32446  <start> pioverà per tutto il fine settimana <eos>  ...           it is going to rain all weekend <eos>\n",
       "60272                          <start> non correrò <eos>  ...                            i will not run <eos>\n",
       "33492                     <start> lei è insistente <eos>  ...                        you are persistent <eos>\n",
       "\n",
       "[10 rows x 6 columns]"
      ]
     },
     "execution_count": 42,
     "metadata": {
      "tags": []
     },
     "output_type": "execute_result"
    }
   ],
   "source": [
    "validation.sample(10)"
   ]
  },
  {
   "cell_type": "markdown",
   "metadata": {
    "id": "MDlyqKE97lna"
   },
   "source": [
    "Sample Outputs"
   ]
  },
  {
   "cell_type": "code",
   "execution_count": null,
   "metadata": {
    "id": "52Y5CR68C7JU"
   },
   "outputs": [],
   "source": [
    "num = 23713\n",
    "Ita = validation['Italian'][num]\n",
    "Eng = validation['English'][num]"
   ]
  },
  {
   "cell_type": "code",
   "execution_count": null,
   "metadata": {
    "colab": {
     "base_uri": "https://localhost:8080/",
     "height": 859
    },
    "id": "sDchS-0rC7JZ",
    "outputId": "19fa4e71-6db7-4d14-c041-36c13e38b42e"
   },
   "outputs": [
    {
     "name": "stdout",
     "output_type": "stream",
     "text": [
      "============================== Inference ==============================\n",
      "-------------------- started predition --------------------\n",
      "at time step 0 the word is 0\n",
      "at time step 0 the word is  [[148]]\n",
      "at time step 1 the word is  [[1469]]\n",
      "at time step 2 the word is  [[3]]\n",
      "\n",
      "Italian:  <start> tutto cambia <eos>\n",
      "Eng_ref:  everything changes\n",
      "Predicted:  everything changes <eos> \n",
      "\n",
      "BLEU score: 1.0\n",
      "\n"
     ]
    },
    {
     "data": {
      "image/png": "[encoded data removed]",
      "text/plain": [
       "<Figure size 720x720 with 1 Axes>"
      ]
     },
     "metadata": {
      "needs_background": "light",
      "tags": []
     },
     "output_type": "display_data"
    }
   ],
   "source": [
    "pred, att = predict(Ita, model)\n",
    "print()\n",
    "result = display(Ita, Eng, pred)\n",
    "print()\n",
    "plot(att, Ita, result)"
   ]
  },
  {
   "cell_type": "code",
   "execution_count": null,
   "metadata": {
    "id": "R9h_FJzeDwER"
   },
   "outputs": [],
   "source": [
    "num = 10000\n",
    "Ita = validation['Italian'][num]\n",
    "Eng = validation['English'][num]"
   ]
  },
  {
   "cell_type": "code",
   "execution_count": null,
   "metadata": {
    "colab": {
     "base_uri": "https://localhost:8080/",
     "height": 896
    },
    "id": "SzE0n1v7DwEc",
    "outputId": "985b8be4-051a-431f-b29a-c47c333207ae"
   },
   "outputs": [
    {
     "name": "stdout",
     "output_type": "stream",
     "text": [
      "============================== Inference ==============================\n",
      "-------------------- started predition --------------------\n",
      "at time step 0 the word is 0\n",
      "at time step 0 the word is  [[362]]\n",
      "at time step 1 the word is  [[50]]\n",
      "at time step 2 the word is  [[2688]]\n",
      "at time step 3 the word is  [[663]]\n",
      "at time step 4 the word is  [[3]]\n",
      "\n",
      "Italian:  <start> nessuno ha preso peso <eos>\n",
      "Eng_ref:  nobody gained weight\n",
      "Predicted:  nobody has gained weight <eos> \n",
      "\n",
      "BLEU score: 0.7071067811865475\n",
      "\n"
     ]
    },
    {
     "data": {
      "image/png": "[encoded data removed]",
      "text/plain": [
       "<Figure size 720x720 with 1 Axes>"
      ]
     },
     "metadata": {
      "needs_background": "light",
      "tags": []
     },
     "output_type": "display_data"
    }
   ],
   "source": [
    "pred, att = predict(Ita, model)\n",
    "print()\n",
    "result = display(Ita, Eng, pred)\n",
    "print()\n",
    "plot(att, Ita, result)"
   ]
  },
  {
   "cell_type": "code",
   "execution_count": null,
   "metadata": {
    "id": "Qy6hBxnDD4Yx"
   },
   "outputs": [],
   "source": [
    "num = 256\n",
    "Ita = validation['Italian'][num]\n",
    "Eng = validation['English'][num]"
   ]
  },
  {
   "cell_type": "code",
   "execution_count": null,
   "metadata": {
    "colab": {
     "base_uri": "https://localhost:8080/",
     "height": 913
    },
    "id": "MhBl2opRD4Y6",
    "outputId": "02cf9be0-7373-43f9-b53f-2baa20c3cd3d"
   },
   "outputs": [
    {
     "name": "stdout",
     "output_type": "stream",
     "text": [
      "============================== Inference ==============================\n",
      "-------------------- started predition --------------------\n",
      "at time step 0 the word is 0\n",
      "at time step 0 the word is  [[10]]\n",
      "at time step 1 the word is  [[619]]\n",
      "at time step 2 the word is  [[50]]\n",
      "at time step 3 the word is  [[244]]\n",
      "at time step 4 the word is  [[3]]\n",
      "\n",
      "Italian:  <start> finalmente è capitato <eos>\n",
      "Eng_ref:  it finally happened\n",
      "Predicted:  the weather has happened <eos> \n",
      "\n",
      "BLEU score: 0.7071067811865476\n",
      "\n"
     ]
    },
    {
     "data": {
      "image/png": "[encoded data removed]",
      "text/plain": [
       "<Figure size 720x720 with 1 Axes>"
      ]
     },
     "metadata": {
      "needs_background": "light",
      "tags": []
     },
     "output_type": "display_data"
    }
   ],
   "source": [
    "pred, att = predict(Ita, model)\n",
    "print()\n",
    "result = display(Ita, Eng, pred)\n",
    "print()\n",
    "plot(att, Ita, result)"
   ]
  },
  {
   "cell_type": "code",
   "execution_count": null,
   "metadata": {
    "id": "nbP5yQkPD--T"
   },
   "outputs": [],
   "source": [
    "num = 1454\n",
    "Ita = validation['Italian'][num]\n",
    "Eng = validation['English'][num]"
   ]
  },
  {
   "cell_type": "code",
   "execution_count": null,
   "metadata": {
    "colab": {
     "base_uri": "https://localhost:8080/",
     "height": 910
    },
    "id": "VWAbCMeaD--g",
    "outputId": "dedb46df-8dab-426c-cf0a-06e6300125ad"
   },
   "outputs": [
    {
     "name": "stdout",
     "output_type": "stream",
     "text": [
      "============================== Inference ==============================\n",
      "-------------------- started predition --------------------\n",
      "at time step 0 the word is 0\n",
      "at time step 0 the word is  [[417]]\n",
      "at time step 1 the word is  [[6]]\n",
      "at time step 2 the word is  [[23]]\n",
      "at time step 3 the word is  [[9]]\n",
      "at time step 4 the word is  [[325]]\n",
      "at time step 5 the word is  [[3]]\n",
      "\n",
      "Italian:  <start> forse tom non vincerà <eos>\n",
      "Eng_ref:  maybe tom will not win\n",
      "Predicted:  maybe tom will not win <eos> \n",
      "\n",
      "BLEU score: 1.0\n",
      "\n"
     ]
    },
    {
     "data": {
      "image/png": "[encoded data removed]",
      "text/plain": [
       "<Figure size 720x720 with 1 Axes>"
      ]
     },
     "metadata": {
      "needs_background": "light",
      "tags": []
     },
     "output_type": "display_data"
    }
   ],
   "source": [
    "pred, att = predict(Ita, model)\n",
    "print()\n",
    "result = display(Ita, Eng, pred)\n",
    "print()\n",
    "plot(att, Ita, result)"
   ]
  },
  {
   "cell_type": "code",
   "execution_count": null,
   "metadata": {
    "id": "WhI8ImWqEGd3"
   },
   "outputs": [],
   "source": [
    "num = 100\n",
    "Ita = validation['Italian'][num]\n",
    "Eng = validation['English'][num]"
   ]
  },
  {
   "cell_type": "code",
   "execution_count": null,
   "metadata": {
    "colab": {
     "base_uri": "https://localhost:8080/",
     "height": 922
    },
    "id": "Qq1gt5HaEGeD",
    "outputId": "0fab725c-0b7f-4153-e35d-a4fa6dc78fe4"
   },
   "outputs": [
    {
     "name": "stdout",
     "output_type": "stream",
     "text": [
      "============================== Inference ==============================\n",
      "-------------------- started predition --------------------\n",
      "at time step 0 the word is 0\n",
      "at time step 0 the word is  [[4]]\n",
      "at time step 1 the word is  [[843]]\n",
      "at time step 2 the word is  [[843]]\n",
      "at time step 3 the word is  [[12]]\n",
      "at time step 4 the word is  [[2175]]\n",
      "at time step 5 the word is  [[3]]\n",
      "\n",
      "Italian:  <start> io suono anche il trombone <eos>\n",
      "Eng_ref:  i also play the trombone\n",
      "Predicted:  i also also a trombone <eos> \n",
      "\n",
      "BLEU score: 0.6223329772884784\n",
      "\n"
     ]
    },
    {
     "data": {
      "image/png": "[encoded data removed]",
      "text/plain": [
       "<Figure size 720x720 with 1 Axes>"
      ]
     },
     "metadata": {
      "needs_background": "light",
      "tags": []
     },
     "output_type": "display_data"
    }
   ],
   "source": [
    "pred, att = predict(Ita, model)\n",
    "print()\n",
    "result = display(Ita, Eng, pred)\n",
    "print()\n",
    "plot(att, Ita, result)"
   ]
  },
  {
   "cell_type": "code",
   "execution_count": null,
   "metadata": {
    "id": "rirSaFYPELeZ"
   },
   "outputs": [],
   "source": [
    "num = 4589\n",
    "Ita = validation['Italian'][num]\n",
    "Eng = validation['English'][num]"
   ]
  },
  {
   "cell_type": "code",
   "execution_count": null,
   "metadata": {
    "colab": {
     "base_uri": "https://localhost:8080/",
     "height": 926
    },
    "id": "tn4OIINzELej",
    "outputId": "20e38abf-3568-4de1-ac72-360d3c05a1fb"
   },
   "outputs": [
    {
     "name": "stdout",
     "output_type": "stream",
     "text": [
      "============================== Inference ==============================\n",
      "-------------------- started predition --------------------\n",
      "at time step 0 the word is 0\n",
      "at time step 0 the word is  [[6]]\n",
      "at time step 1 the word is  [[19]]\n",
      "at time step 2 the word is  [[200]]\n",
      "at time step 3 the word is  [[44]]\n",
      "at time step 4 the word is  [[10]]\n",
      "at time step 5 the word is  [[232]]\n",
      "at time step 6 the word is  [[3]]\n",
      "\n",
      "Italian:  <start> tom era in ritardo alla festa <eos>\n",
      "Eng_ref:  tom was late to the party\n",
      "Predicted:  tom was late at the party <eos> \n",
      "\n",
      "BLEU score: 0.5946035575013605\n",
      "\n"
     ]
    },
    {
     "data": {
      "image/png": "[encoded data removed]",
      "text/plain": [
       "<Figure size 720x720 with 1 Axes>"
      ]
     },
     "metadata": {
      "needs_background": "light",
      "tags": []
     },
     "output_type": "display_data"
    }
   ],
   "source": [
    "pred, att = predict(Ita, model)\n",
    "print()\n",
    "result = display(Ita, Eng, pred)\n",
    "print()\n",
    "plot(att, Ita, result)"
   ]
  },
  {
   "cell_type": "code",
   "execution_count": null,
   "metadata": {
    "id": "TY-Igs95Enh3"
   },
   "outputs": [],
   "source": [
    "num = 29441\n",
    "Ita = validation['Italian'][num]\n",
    "Eng = validation['English'][num]"
   ]
  },
  {
   "cell_type": "code",
   "execution_count": null,
   "metadata": {
    "colab": {
     "base_uri": "https://localhost:8080/",
     "height": 946
    },
    "id": "jCP1EJPXEnh7",
    "outputId": "4a730df0-321c-4068-bd4f-77943f93d515"
   },
   "outputs": [
    {
     "name": "stdout",
     "output_type": "stream",
     "text": [
      "============================== Inference ==============================\n",
      "-------------------- started predition --------------------\n",
      "at time step 0 the word is 0\n",
      "at time step 0 the word is  [[4]]\n",
      "at time step 1 the word is  [[1310]]\n",
      "at time step 2 the word is  [[5]]\n",
      "at time step 3 the word is  [[41]]\n",
      "at time step 4 the word is  [[7]]\n",
      "at time step 5 the word is  [[64]]\n",
      "at time step 6 the word is  [[3]]\n",
      "\n",
      "Italian:  <start> vi suggerisco di andare a boston <eos>\n",
      "Eng_ref:  i suggest you go to boston\n",
      "Predicted:  i suggest you go to boston <eos> \n",
      "\n",
      "BLEU score: 1.0\n",
      "\n"
     ]
    },
    {
     "data": {
      "image/png": "[encoded data removed]",
      "text/plain": [
       "<Figure size 720x720 with 1 Axes>"
      ]
     },
     "metadata": {
      "needs_background": "light",
      "tags": []
     },
     "output_type": "display_data"
    }
   ],
   "source": [
    "pred, att = predict(Ita, model)\n",
    "print()\n",
    "result = display(Ita, Eng, pred)\n",
    "print()\n",
    "plot(att, Ita, result)"
   ]
  },
  {
   "cell_type": "code",
   "execution_count": null,
   "metadata": {
    "id": "xIMyW03KFVKI"
   },
   "outputs": [],
   "source": [
    "num = 27814\n",
    "Ita = validation['Italian'][num]\n",
    "Eng = validation['English'][num]"
   ]
  },
  {
   "cell_type": "code",
   "execution_count": null,
   "metadata": {
    "colab": {
     "base_uri": "https://localhost:8080/",
     "height": 958
    },
    "id": "q5f43TxsFVKY",
    "outputId": "78b7cfab-ddc5-4e7d-a559-a3429c0630a1"
   },
   "outputs": [
    {
     "name": "stdout",
     "output_type": "stream",
     "text": [
      "============================== Inference ==============================\n",
      "-------------------- started predition --------------------\n",
      "at time step 0 the word is 0\n",
      "at time step 0 the word is  [[4]]\n",
      "at time step 1 the word is  [[19]]\n",
      "at time step 2 the word is  [[59]]\n",
      "at time step 3 the word is  [[258]]\n",
      "at time step 4 the word is  [[53]]\n",
      "at time step 5 the word is  [[5]]\n",
      "at time step 6 the word is  [[3]]\n",
      "\n",
      "Italian:  <start> ero così preoccupato per te <eos>\n",
      "Eng_ref:  i was so worried about you\n",
      "Predicted:  i was so worried about you <eos> \n",
      "\n",
      "BLEU score: 1.0\n",
      "\n"
     ]
    },
    {
     "data": {
      "image/png": "[encoded data removed]",
      "text/plain": [
       "<Figure size 720x720 with 1 Axes>"
      ]
     },
     "metadata": {
      "needs_background": "light",
      "tags": []
     },
     "output_type": "display_data"
    }
   ],
   "source": [
    "pred, att = predict(Ita, model)\n",
    "print()\n",
    "result = display(Ita, Eng, pred)\n",
    "print()\n",
    "plot(att, Ita, result)"
   ]
  },
  {
   "cell_type": "code",
   "execution_count": null,
   "metadata": {
    "id": "PG0v8AclFXoQ"
   },
   "outputs": [],
   "source": [
    "# Calculating average bleu score on 100 val data.\n",
    "REF = []\n",
    "PRED = []\n",
    "BLEU = []\n",
    "for i in range(1,101):\n",
    "  Ita = validation['Italian'][i]\n",
    "  Eng = validation['English'][i]\n",
    "  test = ita_token.texts_to_sequences([Ita])\n",
    "  test = pad_sequences([test[0]], maxlen=20, dtype='int32', padding='post')\n",
    "  test = tf.convert_to_tensor(test)\n",
    "  initial_state = model.layers[0].initialize_states(1)\n",
    "  enc_output, enc_state_h, enc_state_c = model.layers[0](test, initial_state)\n",
    "  state_h, state_c = enc_state_h, enc_state_c\n",
    "  pred = []\n",
    "  cur_vec = tf.expand_dims([eng_token.word_index['<start>']], 0)\n",
    "  for j in range(20):\n",
    "      infe_output, state_h, state_c, att_weights, _ = model.layers[1].onestepdecoder(cur_vec, enc_output, state_h, state_c)\n",
    "      att_weights = tf.reshape(att_weights, (-1, ))\n",
    "      cur_vec1 = np.argmax(infe_output)\n",
    "      cur_vec = np.reshape(np.argmax(infe_output), (1, 1))\n",
    "      pred.append(cur_vec1)\n",
    "      if cur_vec1 == 3:\n",
    "        break\n",
    "  result = ''\n",
    "  for p in pred:\n",
    "    if p != 0:\n",
    "      result += eng_token.index_word[p] + ' '\n",
    "    \n",
    "  reference = [Eng.split()]\n",
    "  translation = result.split()\n",
    "  b = bleu.sentence_bleu(reference, translation[:-1])\n",
    "  REF.append(Eng)\n",
    "  PRED.append(result)\n",
    "  BLEU.append(b)"
   ]
  },
  {
   "cell_type": "code",
   "execution_count": null,
   "metadata": {
    "colab": {
     "base_uri": "https://localhost:8080/",
     "height": 343
    },
    "id": "_jEBwiurTi_B",
    "outputId": "ee7d07dc-9b40-4179-cb72-811cb5462a88"
   },
   "outputs": [
    {
     "data": {
      "text/html": [
       "<div>\n",
       "<style scoped>\n",
       "    .dataframe tbody tr th:only-of-type {\n",
       "        vertical-align: middle;\n",
       "    }\n",
       "\n",
       "    .dataframe tbody tr th {\n",
       "        vertical-align: top;\n",
       "    }\n",
       "\n",
       "    .dataframe thead th {\n",
       "        text-align: right;\n",
       "    }\n",
       "</style>\n",
       "<table border=\"1\" class=\"dataframe\">\n",
       "  <thead>\n",
       "    <tr style=\"text-align: right;\">\n",
       "      <th></th>\n",
       "      <th>Reference</th>\n",
       "      <th>Predicited</th>\n",
       "      <th>BLEU_Score</th>\n",
       "    </tr>\n",
       "  </thead>\n",
       "  <tbody>\n",
       "    <tr>\n",
       "      <th>0</th>\n",
       "      <td>what does tom want to know</td>\n",
       "      <td>what do you want to know tom &lt;eos&gt;</td>\n",
       "      <td>0.467138</td>\n",
       "    </tr>\n",
       "    <tr>\n",
       "      <th>1</th>\n",
       "      <td>i felt sick</td>\n",
       "      <td>i felt bad &lt;eos&gt;</td>\n",
       "      <td>0.759836</td>\n",
       "    </tr>\n",
       "    <tr>\n",
       "      <th>2</th>\n",
       "      <td>where did you find it</td>\n",
       "      <td>where did you find it &lt;eos&gt;</td>\n",
       "      <td>1.000000</td>\n",
       "    </tr>\n",
       "    <tr>\n",
       "      <th>3</th>\n",
       "      <td>tom asked mary to go out to have dinner with him</td>\n",
       "      <td>tom asked mary to take dinner with him &lt;eos&gt;</td>\n",
       "      <td>0.343645</td>\n",
       "    </tr>\n",
       "    <tr>\n",
       "      <th>4</th>\n",
       "      <td>tom told me nothing</td>\n",
       "      <td>tom did not tell me anything &lt;eos&gt;</td>\n",
       "      <td>0.759836</td>\n",
       "    </tr>\n",
       "    <tr>\n",
       "      <th>5</th>\n",
       "      <td>do you really think that that would work</td>\n",
       "      <td>do you really think that that would work &lt;eos&gt;</td>\n",
       "      <td>1.000000</td>\n",
       "    </tr>\n",
       "    <tr>\n",
       "      <th>6</th>\n",
       "      <td>i do not think she would understand it</td>\n",
       "      <td>i do not think you would understand it &lt;eos&gt;</td>\n",
       "      <td>0.500000</td>\n",
       "    </tr>\n",
       "    <tr>\n",
       "      <th>7</th>\n",
       "      <td>they do not always obey their parents</td>\n",
       "      <td>they always get them their parents &lt;eos&gt;</td>\n",
       "      <td>0.511508</td>\n",
       "    </tr>\n",
       "    <tr>\n",
       "      <th>8</th>\n",
       "      <td>we are not enemies</td>\n",
       "      <td>we are not enemies &lt;eos&gt;</td>\n",
       "      <td>1.000000</td>\n",
       "    </tr>\n",
       "    <tr>\n",
       "      <th>9</th>\n",
       "      <td>the soldier gave his name</td>\n",
       "      <td>the soldier made his name &lt;eos&gt;</td>\n",
       "      <td>0.795271</td>\n",
       "    </tr>\n",
       "  </tbody>\n",
       "</table>\n",
       "</div>"
      ],
      "text/plain": [
       "                                          Reference  ... BLEU_Score\n",
       "0                        what does tom want to know  ...   0.467138\n",
       "1                                       i felt sick  ...   0.759836\n",
       "2                             where did you find it  ...   1.000000\n",
       "3  tom asked mary to go out to have dinner with him  ...   0.343645\n",
       "4                               tom told me nothing  ...   0.759836\n",
       "5          do you really think that that would work  ...   1.000000\n",
       "6            i do not think she would understand it  ...   0.500000\n",
       "7             they do not always obey their parents  ...   0.511508\n",
       "8                                we are not enemies  ...   1.000000\n",
       "9                         the soldier gave his name  ...   0.795271\n",
       "\n",
       "[10 rows x 3 columns]"
      ]
     },
     "execution_count": 109,
     "metadata": {
      "tags": []
     },
     "output_type": "execute_result"
    }
   ],
   "source": [
    "OUTPUT = pd.DataFrame(list(zip(REF, PRED, BLEU)), columns = ['Reference', 'Predicited', 'BLEU_Score'])\n",
    "OUTPUT.head(10)"
   ]
  },
  {
   "cell_type": "code",
   "execution_count": null,
   "metadata": {
    "colab": {
     "base_uri": "https://localhost:8080/",
     "height": 34
    },
    "id": "t1tsu9o1Ripm",
    "outputId": "536098cc-6ff9-44d2-e5a0-5772b7d869f7"
   },
   "outputs": [
    {
     "name": "stdout",
     "output_type": "stream",
     "text": [
      "Average bleu score on 100 validation data: 0.7623\n"
     ]
    }
   ],
   "source": [
    "print(\"Average bleu score on 100 validation data: {:.4f}\".format(np.mean(BLEU)))"
   ]
  },
  {
   "cell_type": "markdown",
   "metadata": {
    "id": "kzHzztl-FpKf"
   },
   "source": [
    "# General\n",
    "\n",
    "> Using General function\n",
    "\n"
   ]
  },
  {
   "cell_type": "code",
   "execution_count": null,
   "metadata": {
    "id": "wMtGTrsYFpKj"
   },
   "outputs": [],
   "source": [
    "tf.keras.backend.clear_session()\n",
    "model_gen  = Encoder_Decoder(ip_vocab_size = ita_vocab_size, ip_embed_size = 100, \n",
    "                 input_len = 20, units = 64, op_vocab_size = eng_vocab_size, op_embed_size = 100, output_len = 20, \n",
    "                 score_func = 'general', batch_size = 1024, emb_matrix = embedding_matrix)"
   ]
  },
  {
   "cell_type": "code",
   "execution_count": null,
   "metadata": {
    "colab": {
     "base_uri": "https://localhost:8080/",
     "height": 1000
    },
    "id": "h7wh0hkmFpKs",
    "outputId": "aa67634f-d5f9-40c1-cb40-ff861dd46309"
   },
   "outputs": [
    {
     "name": "stdout",
     "output_type": "stream",
     "text": [
      "Epoch 1/50\n",
      "266/266 [==============================] - 116s 436ms/step - loss: 2.0779 - val_loss: 1.8606\n",
      "Epoch 2/50\n",
      "266/266 [==============================] - 115s 433ms/step - loss: 1.8610 - val_loss: 1.8474\n",
      "Epoch 3/50\n",
      "266/266 [==============================] - 119s 446ms/step - loss: 1.8289 - val_loss: 1.8036\n",
      "Epoch 4/50\n",
      "266/266 [==============================] - 115s 432ms/step - loss: 1.7720 - val_loss: 1.7289\n",
      "Epoch 5/50\n",
      "266/266 [==============================] - 118s 444ms/step - loss: 1.6854 - val_loss: 1.6341\n",
      "Epoch 6/50\n",
      "266/266 [==============================] - 115s 432ms/step - loss: 1.5801 - val_loss: 1.5142\n",
      "Epoch 7/50\n",
      "266/266 [==============================] - 119s 448ms/step - loss: 1.4332 - val_loss: 1.3577\n",
      "Epoch 8/50\n",
      "266/266 [==============================] - 116s 435ms/step - loss: 1.2860 - val_loss: 1.2247\n",
      "Epoch 9/50\n",
      "266/266 [==============================] - 119s 448ms/step - loss: 1.1645 - val_loss: 1.1210\n",
      "Epoch 10/50\n",
      "266/266 [==============================] - 116s 436ms/step - loss: 1.0659 - val_loss: 1.0347\n",
      "Epoch 11/50\n",
      "266/266 [==============================] - 119s 449ms/step - loss: 0.9791 - val_loss: 0.9562\n",
      "Epoch 12/50\n",
      "266/266 [==============================] - 117s 438ms/step - loss: 0.8993 - val_loss: 0.8841\n",
      "Epoch 13/50\n",
      "266/266 [==============================] - 120s 452ms/step - loss: 0.8261 - val_loss: 0.8248\n",
      "Epoch 14/50\n",
      "266/266 [==============================] - 116s 437ms/step - loss: 0.7632 - val_loss: 0.7704\n",
      "Epoch 15/50\n",
      "266/266 [==============================] - 117s 440ms/step - loss: 0.7056 - val_loss: 0.7195\n",
      "Epoch 16/50\n",
      "266/266 [==============================] - 117s 441ms/step - loss: 0.6541 - val_loss: 0.6806\n",
      "Epoch 17/50\n",
      "266/266 [==============================] - 116s 435ms/step - loss: 0.6078 - val_loss: 0.6370\n",
      "Epoch 18/50\n",
      "266/266 [==============================] - 118s 443ms/step - loss: 0.5660 - val_loss: 0.6020\n",
      "Epoch 19/50\n",
      "266/266 [==============================] - 116s 435ms/step - loss: 0.5298 - val_loss: 0.5730\n",
      "Epoch 20/50\n",
      "266/266 [==============================] - 119s 447ms/step - loss: 0.4975 - val_loss: 0.5488\n",
      "Epoch 21/50\n",
      "266/266 [==============================] - 116s 435ms/step - loss: 0.4686 - val_loss: 0.5253\n",
      "Epoch 22/50\n",
      "266/266 [==============================] - 116s 435ms/step - loss: 0.4434 - val_loss: 0.5067\n",
      "Epoch 23/50\n",
      "266/266 [==============================] - 118s 442ms/step - loss: 0.4229 - val_loss: 0.4893\n",
      "Epoch 24/50\n",
      "266/266 [==============================] - 115s 434ms/step - loss: 0.4079 - val_loss: 0.4758\n",
      "Epoch 25/50\n",
      "266/266 [==============================] - 117s 441ms/step - loss: 0.3850 - val_loss: 0.4626\n",
      "Epoch 26/50\n",
      "266/266 [==============================] - 116s 436ms/step - loss: 0.3710 - val_loss: 0.4504\n",
      "Epoch 27/50\n",
      "266/266 [==============================] - 117s 441ms/step - loss: 0.3539 - val_loss: 0.4398\n",
      "Epoch 28/50\n",
      "266/266 [==============================] - 116s 437ms/step - loss: 0.3420 - val_loss: 0.4317\n",
      "Epoch 29/50\n",
      "266/266 [==============================] - 117s 441ms/step - loss: 0.3296 - val_loss: 0.4225\n",
      "Epoch 30/50\n",
      "266/266 [==============================] - 116s 436ms/step - loss: 0.3205 - val_loss: 0.4140\n",
      "Epoch 31/50\n",
      "266/266 [==============================] - 118s 443ms/step - loss: 0.3087 - val_loss: 0.4065\n",
      "Epoch 32/50\n",
      "266/266 [==============================] - 116s 438ms/step - loss: 0.3014 - val_loss: 0.3998\n",
      "Epoch 33/50\n",
      "266/266 [==============================] - 118s 445ms/step - loss: 0.2914 - val_loss: 0.3943\n",
      "Epoch 34/50\n",
      "266/266 [==============================] - 116s 437ms/step - loss: 0.2817 - val_loss: 0.3914\n",
      "Epoch 35/50\n",
      "266/266 [==============================] - 118s 442ms/step - loss: 0.2756 - val_loss: 0.3837\n",
      "Epoch 36/50\n",
      "266/266 [==============================] - 117s 438ms/step - loss: 0.2712 - val_loss: 0.3808\n",
      "Epoch 37/50\n",
      "266/266 [==============================] - 118s 444ms/step - loss: 0.2608 - val_loss: 0.3755\n",
      "Epoch 38/50\n",
      "266/266 [==============================] - 117s 439ms/step - loss: 0.2543 - val_loss: 0.3739\n",
      "Epoch 39/50\n",
      "266/266 [==============================] - 118s 445ms/step - loss: 0.2488 - val_loss: 0.3690\n",
      "Epoch 40/50\n",
      "266/266 [==============================] - 116s 437ms/step - loss: 0.2442 - val_loss: 0.3659\n",
      "Epoch 41/50\n",
      "266/266 [==============================] - 121s 454ms/step - loss: 0.2398 - val_loss: 0.3622\n",
      "Epoch 42/50\n",
      "266/266 [==============================] - 116s 438ms/step - loss: 0.2352 - val_loss: 0.3588\n",
      "Epoch 43/50\n",
      "266/266 [==============================] - 120s 453ms/step - loss: 0.2293 - val_loss: 0.3566\n",
      "Epoch 44/50\n",
      "266/266 [==============================] - 117s 439ms/step - loss: 0.2244 - val_loss: 0.3529\n",
      "Epoch 45/50\n",
      "266/266 [==============================] - 116s 438ms/step - loss: 0.2211 - val_loss: 0.3520\n",
      "Epoch 46/50\n",
      "266/266 [==============================] - 117s 440ms/step - loss: 0.2206 - val_loss: 0.3506\n",
      "Epoch 47/50\n",
      "266/266 [==============================] - 116s 436ms/step - loss: 0.2144 - val_loss: 0.3470\n",
      "Epoch 48/50\n",
      "266/266 [==============================] - 117s 440ms/step - loss: 0.2087 - val_loss: 0.3460\n",
      "Epoch 49/50\n",
      "266/266 [==============================] - 116s 436ms/step - loss: 0.2050 - val_loss: 0.3475\n",
      "Epoch 50/50\n",
      "266/266 [==============================] - 116s 438ms/step - loss: 0.2027 - val_loss: 0.3417\n",
      "Model: \"encoder__decoder\"\n",
      "_________________________________________________________________\n",
      "Layer (type)                 Output Shape              Param #   \n",
      "=================================================================\n",
      "encoder (Encoder)            multiple                  2654040   \n",
      "_________________________________________________________________\n",
      "decoder (Decoder)            multiple                  2178450   \n",
      "=================================================================\n",
      "Total params: 4,832,490\n",
      "Trainable params: 3,550,190\n",
      "Non-trainable params: 1,282,300\n",
      "_________________________________________________________________\n"
     ]
    }
   ],
   "source": [
    "optimizer = tf.keras.optimizers.Adam()\n",
    "model_gen.compile(optimizer = optimizer, loss= [loss_function])\n",
    "\n",
    "train_steps = train.shape[0]//1024\n",
    "valid_steps = validation.shape[0]//1024\n",
    "model_gen.fit_generator(train_dataloader, steps_per_epoch=train_steps, epochs=50, validation_data=test_dataloader, validation_steps=valid_steps)\n",
    "model_gen.summary()"
   ]
  },
  {
   "cell_type": "markdown",
   "metadata": {
    "id": "M_GvrTkt8O2A"
   },
   "source": [
    "Sample Outputs"
   ]
  },
  {
   "cell_type": "code",
   "execution_count": null,
   "metadata": {
    "id": "uhc6KOnaFpK7"
   },
   "outputs": [],
   "source": [
    "num = 23713\n",
    "Ita = validation['Italian'][num]\n",
    "Eng = validation['English'][num]"
   ]
  },
  {
   "cell_type": "code",
   "execution_count": null,
   "metadata": {
    "colab": {
     "base_uri": "https://localhost:8080/",
     "height": 876
    },
    "id": "43bg5sO4FpLA",
    "outputId": "3607604a-4aad-473b-b31f-745f5dc5b7f1"
   },
   "outputs": [
    {
     "name": "stdout",
     "output_type": "stream",
     "text": [
      "============================== Inference ==============================\n",
      "-------------------- started predition --------------------\n",
      "at time step 0 the word is 0\n",
      "at time step 0 the word is  [[16]]\n",
      "at time step 1 the word is  [[8]]\n",
      "at time step 2 the word is  [[1469]]\n",
      "at time step 3 the word is  [[3]]\n",
      "\n",
      "Italian:  <start> tutto cambia <eos>\n",
      "Eng_ref:  everything changes\n",
      "Predicted:  that is changes <eos> \n",
      "\n",
      "BLEU score: 0.7598356856515925\n",
      "\n"
     ]
    },
    {
     "data": {
      "image/png": "[encoded data removed]",
      "text/plain": [
       "<Figure size 720x720 with 1 Axes>"
      ]
     },
     "metadata": {
      "needs_background": "light",
      "tags": []
     },
     "output_type": "display_data"
    }
   ],
   "source": [
    "pred, att = predict(Ita, model_gen)\n",
    "print()\n",
    "result = display(Ita, Eng, pred)\n",
    "print()\n",
    "plot(att, Ita, result)"
   ]
  },
  {
   "cell_type": "code",
   "execution_count": null,
   "metadata": {
    "id": "MrzOci6hFpLF"
   },
   "outputs": [],
   "source": [
    "num = 10000\n",
    "Ita = validation['Italian'][num]\n",
    "Eng = validation['English'][num]"
   ]
  },
  {
   "cell_type": "code",
   "execution_count": null,
   "metadata": {
    "colab": {
     "base_uri": "https://localhost:8080/",
     "height": 913
    },
    "id": "ITy_7FnqFpLO",
    "outputId": "b945b713-042a-4e12-b071-c6f3ec679795"
   },
   "outputs": [
    {
     "name": "stdout",
     "output_type": "stream",
     "text": [
      "============================== Inference ==============================\n",
      "-------------------- started predition --------------------\n",
      "at time step 0 the word is 0\n",
      "at time step 0 the word is  [[86]]\n",
      "at time step 1 the word is  [[73]]\n",
      "at time step 2 the word is  [[241]]\n",
      "at time step 3 the word is  [[12]]\n",
      "at time step 4 the word is  [[171]]\n",
      "at time step 5 the word is  [[3]]\n",
      "\n",
      "Italian:  <start> nessuno ha preso peso <eos>\n",
      "Eng_ref:  nobody gained weight\n",
      "Predicted:  no one took a little <eos> \n",
      "\n",
      "BLEU score: 0\n",
      "\n"
     ]
    },
    {
     "data": {
      "image/png": "[encoded data removed]",
      "text/plain": [
       "<Figure size 720x720 with 1 Axes>"
      ]
     },
     "metadata": {
      "needs_background": "light",
      "tags": []
     },
     "output_type": "display_data"
    }
   ],
   "source": [
    "pred, att = predict(Ita, model_gen)\n",
    "print()\n",
    "result = display(Ita, Eng, pred)\n",
    "print()\n",
    "plot(att, Ita, result)"
   ]
  },
  {
   "cell_type": "code",
   "execution_count": null,
   "metadata": {
    "id": "iQxrrkKpFpLV"
   },
   "outputs": [],
   "source": [
    "num = 256\n",
    "Ita = validation['Italian'][num]\n",
    "Eng = validation['English'][num]"
   ]
  },
  {
   "cell_type": "code",
   "execution_count": null,
   "metadata": {
    "colab": {
     "base_uri": "https://localhost:8080/",
     "height": 896
    },
    "id": "GSVVbXe-FpLb",
    "outputId": "c18e6ef0-0a47-481a-89c0-e5936f43b6f2"
   },
   "outputs": [
    {
     "name": "stdout",
     "output_type": "stream",
     "text": [
      "============================== Inference ==============================\n",
      "-------------------- started predition --------------------\n",
      "at time step 0 the word is 0\n",
      "at time step 0 the word is  [[320]]\n",
      "at time step 1 the word is  [[50]]\n",
      "at time step 2 the word is  [[244]]\n",
      "at time step 3 the word is  [[3]]\n",
      "\n",
      "Italian:  <start> finalmente è capitato <eos>\n",
      "Eng_ref:  it finally happened\n",
      "Predicted:  someone has happened <eos> \n",
      "\n",
      "BLEU score: 0.7598356856515925\n",
      "\n"
     ]
    },
    {
     "data": {
      "image/png": "[encoded data removed]",
      "text/plain": [
       "<Figure size 720x720 with 1 Axes>"
      ]
     },
     "metadata": {
      "needs_background": "light",
      "tags": []
     },
     "output_type": "display_data"
    }
   ],
   "source": [
    "pred, att = predict(Ita, model_gen)\n",
    "print()\n",
    "result = display(Ita, Eng, pred)\n",
    "print()\n",
    "plot(att, Ita, result)"
   ]
  },
  {
   "cell_type": "code",
   "execution_count": null,
   "metadata": {
    "id": "UF1-aq18FpLg"
   },
   "outputs": [],
   "source": [
    "num = 1454\n",
    "Ita = validation['Italian'][num]\n",
    "Eng = validation['English'][num]"
   ]
  },
  {
   "cell_type": "code",
   "execution_count": null,
   "metadata": {
    "colab": {
     "base_uri": "https://localhost:8080/",
     "height": 910
    },
    "id": "NZ9vx4X0FpLj",
    "outputId": "4a6654fa-d671-4f13-f992-af7af0836a5c"
   },
   "outputs": [
    {
     "name": "stdout",
     "output_type": "stream",
     "text": [
      "============================== Inference ==============================\n",
      "-------------------- started predition --------------------\n",
      "at time step 0 the word is 0\n",
      "at time step 0 the word is  [[417]]\n",
      "at time step 1 the word is  [[6]]\n",
      "at time step 2 the word is  [[23]]\n",
      "at time step 3 the word is  [[9]]\n",
      "at time step 4 the word is  [[325]]\n",
      "at time step 5 the word is  [[3]]\n",
      "\n",
      "Italian:  <start> forse tom non vincerà <eos>\n",
      "Eng_ref:  maybe tom will not win\n",
      "Predicted:  maybe tom will not win <eos> \n",
      "\n",
      "BLEU score: 1.0\n",
      "\n"
     ]
    },
    {
     "data": {
      "image/png": "[encoded data removed]",
      "text/plain": [
       "<Figure size 720x720 with 1 Axes>"
      ]
     },
     "metadata": {
      "needs_background": "light",
      "tags": []
     },
     "output_type": "display_data"
    }
   ],
   "source": [
    "pred, att = predict(Ita, model_gen)\n",
    "print()\n",
    "result = display(Ita, Eng, pred)\n",
    "print()\n",
    "plot(att, Ita, result)"
   ]
  },
  {
   "cell_type": "code",
   "execution_count": null,
   "metadata": {
    "id": "QinbqI1gFpLn"
   },
   "outputs": [],
   "source": [
    "num = 100\n",
    "Ita = validation['Italian'][num]\n",
    "Eng = validation['English'][num]"
   ]
  },
  {
   "cell_type": "code",
   "execution_count": null,
   "metadata": {
    "colab": {
     "base_uri": "https://localhost:8080/",
     "height": 922
    },
    "id": "ZaUGfJYOFpLs",
    "outputId": "2ea3df4b-2449-4515-ad3e-2396fbc7e99f"
   },
   "outputs": [
    {
     "name": "stdout",
     "output_type": "stream",
     "text": [
      "============================== Inference ==============================\n",
      "-------------------- started predition --------------------\n",
      "at time step 0 the word is 0\n",
      "at time step 0 the word is  [[4]]\n",
      "at time step 1 the word is  [[843]]\n",
      "at time step 2 the word is  [[843]]\n",
      "at time step 3 the word is  [[12]]\n",
      "at time step 4 the word is  [[2175]]\n",
      "at time step 5 the word is  [[3]]\n",
      "\n",
      "Italian:  <start> io suono anche il trombone <eos>\n",
      "Eng_ref:  i also play the trombone\n",
      "Predicted:  i also also a trombone <eos> \n",
      "\n",
      "BLEU score: 0.6223329772884784\n",
      "\n"
     ]
    },
    {
     "data": {
      "image/png": "[encoded data removed]",
      "text/plain": [
       "<Figure size 720x720 with 1 Axes>"
      ]
     },
     "metadata": {
      "needs_background": "light",
      "tags": []
     },
     "output_type": "display_data"
    }
   ],
   "source": [
    "pred, att = predict(Ita, model_gen)\n",
    "print()\n",
    "result = display(Ita, Eng, pred)\n",
    "print()\n",
    "plot(att, Ita, result)"
   ]
  },
  {
   "cell_type": "code",
   "execution_count": null,
   "metadata": {
    "id": "S4RNmMXrFpLv"
   },
   "outputs": [],
   "source": [
    "num = 4589\n",
    "Ita = validation['Italian'][num]\n",
    "Eng = validation['English'][num]"
   ]
  },
  {
   "cell_type": "code",
   "execution_count": null,
   "metadata": {
    "colab": {
     "base_uri": "https://localhost:8080/",
     "height": 926
    },
    "id": "OiPXPldjFpL0",
    "outputId": "c933645f-9a3c-4b37-8d5d-4e1c2e74313d"
   },
   "outputs": [
    {
     "name": "stdout",
     "output_type": "stream",
     "text": [
      "============================== Inference ==============================\n",
      "-------------------- started predition --------------------\n",
      "at time step 0 the word is 0\n",
      "at time step 0 the word is  [[6]]\n",
      "at time step 1 the word is  [[19]]\n",
      "at time step 2 the word is  [[200]]\n",
      "at time step 3 the word is  [[7]]\n",
      "at time step 4 the word is  [[10]]\n",
      "at time step 5 the word is  [[232]]\n",
      "at time step 6 the word is  [[3]]\n",
      "\n",
      "Italian:  <start> tom era in ritardo alla festa <eos>\n",
      "Eng_ref:  tom was late to the party\n",
      "Predicted:  tom was late to the party <eos> \n",
      "\n",
      "BLEU score: 1.0\n",
      "\n"
     ]
    },
    {
     "data": {
      "image/png": "[encoded data removed]",
      "text/plain": [
       "<Figure size 720x720 with 1 Axes>"
      ]
     },
     "metadata": {
      "needs_background": "light",
      "tags": []
     },
     "output_type": "display_data"
    }
   ],
   "source": [
    "pred, att = predict(Ita, model_gen)\n",
    "print()\n",
    "result = display(Ita, Eng, pred)\n",
    "print()\n",
    "plot(att, Ita, result)"
   ]
  },
  {
   "cell_type": "code",
   "execution_count": null,
   "metadata": {
    "id": "xWCSQRJzFpL3"
   },
   "outputs": [],
   "source": [
    "num = 29441\n",
    "Ita = validation['Italian'][num]\n",
    "Eng = validation['English'][num]"
   ]
  },
  {
   "cell_type": "code",
   "execution_count": null,
   "metadata": {
    "colab": {
     "base_uri": "https://localhost:8080/",
     "height": 946
    },
    "id": "i80FR_MHFpL7",
    "outputId": "e2f17f34-ea3b-4491-a177-37461dea9774"
   },
   "outputs": [
    {
     "name": "stdout",
     "output_type": "stream",
     "text": [
      "============================== Inference ==============================\n",
      "-------------------- started predition --------------------\n",
      "at time step 0 the word is 0\n",
      "at time step 0 the word is  [[4]]\n",
      "at time step 1 the word is  [[1310]]\n",
      "at time step 2 the word is  [[5]]\n",
      "at time step 3 the word is  [[41]]\n",
      "at time step 4 the word is  [[7]]\n",
      "at time step 5 the word is  [[64]]\n",
      "at time step 6 the word is  [[3]]\n",
      "\n",
      "Italian:  <start> vi suggerisco di andare a boston <eos>\n",
      "Eng_ref:  i suggest you go to boston\n",
      "Predicted:  i suggest you go to boston <eos> \n",
      "\n",
      "BLEU score: 1.0\n",
      "\n"
     ]
    },
    {
     "data": {
      "image/png": "[encoded data removed]",
      "text/plain": [
       "<Figure size 720x720 with 1 Axes>"
      ]
     },
     "metadata": {
      "needs_background": "light",
      "tags": []
     },
     "output_type": "display_data"
    }
   ],
   "source": [
    "pred, att = predict(Ita, model_gen)\n",
    "print()\n",
    "result = display(Ita, Eng, pred)\n",
    "print()\n",
    "plot(att, Ita, result)"
   ]
  },
  {
   "cell_type": "code",
   "execution_count": null,
   "metadata": {
    "id": "b3ckJBQSFpL9"
   },
   "outputs": [],
   "source": [
    "num = 27814\n",
    "Ita = validation['Italian'][num]\n",
    "Eng = validation['English'][num]"
   ]
  },
  {
   "cell_type": "code",
   "execution_count": null,
   "metadata": {
    "colab": {
     "base_uri": "https://localhost:8080/",
     "height": 958
    },
    "id": "1xLiTnFIFpMA",
    "outputId": "f8f35800-7427-43ad-9c86-e1d429f0f925"
   },
   "outputs": [
    {
     "name": "stdout",
     "output_type": "stream",
     "text": [
      "============================== Inference ==============================\n",
      "-------------------- started predition --------------------\n",
      "at time step 0 the word is 0\n",
      "at time step 0 the word is  [[4]]\n",
      "at time step 1 the word is  [[19]]\n",
      "at time step 2 the word is  [[59]]\n",
      "at time step 3 the word is  [[258]]\n",
      "at time step 4 the word is  [[53]]\n",
      "at time step 5 the word is  [[5]]\n",
      "at time step 6 the word is  [[3]]\n",
      "\n",
      "Italian:  <start> ero così preoccupato per te <eos>\n",
      "Eng_ref:  i was so worried about you\n",
      "Predicted:  i was so worried about you <eos> \n",
      "\n",
      "BLEU score: 1.0\n",
      "\n"
     ]
    },
    {
     "data": {
      "image/png": "[encoded data removed]",
      "text/plain": [
       "<Figure size 720x720 with 1 Axes>"
      ]
     },
     "metadata": {
      "needs_background": "light",
      "tags": []
     },
     "output_type": "display_data"
    }
   ],
   "source": [
    "pred, att = predict(Ita, model_gen)\n",
    "print()\n",
    "result = display(Ita, Eng, pred)\n",
    "print()\n",
    "plot(att, Ita, result)"
   ]
  },
  {
   "cell_type": "code",
   "execution_count": null,
   "metadata": {
    "id": "OBTsflaBUp4e"
   },
   "outputs": [],
   "source": [
    "# Calculating average bleu scores on 100 val data.\n",
    "REF = []\n",
    "PRED = []\n",
    "BLEU = []\n",
    "for i in range(1,101):\n",
    "  Ita = validation['Italian'][i]\n",
    "  Eng = validation['English'][i]\n",
    "  test = ita_token.texts_to_sequences([Ita])\n",
    "  test = pad_sequences([test[0]], maxlen=20, dtype='int32', padding='post')\n",
    "  test = tf.convert_to_tensor(test)\n",
    "  initial_state = model_gen.layers[0].initialize_states(1)\n",
    "  enc_output, enc_state_h, enc_state_c = model_gen.layers[0](test, initial_state)\n",
    "  state_h, state_c = enc_state_h, enc_state_c\n",
    "  pred = []\n",
    "  cur_vec = tf.expand_dims([eng_token.word_index['<start>']], 0)\n",
    "  for j in range(20):\n",
    "      infe_output, state_h, state_c, att_weights, _ = model_gen.layers[1].onestepdecoder(cur_vec, enc_output, state_h, state_c)\n",
    "      att_weights = tf.reshape(att_weights, (-1, ))\n",
    "      cur_vec1 = np.argmax(infe_output)\n",
    "      cur_vec = np.reshape(np.argmax(infe_output), (1, 1))\n",
    "      pred.append(cur_vec1)\n",
    "      if cur_vec1 == 3:\n",
    "        break\n",
    "  result = ''\n",
    "  for p in pred:\n",
    "    if p != 0:\n",
    "      result += eng_token.index_word[p] + ' '\n",
    "    \n",
    "  reference = [Eng.split()]\n",
    "  translation = result.split()\n",
    "  b = bleu.sentence_bleu(reference, translation[:-1])\n",
    "  REF.append(Eng)\n",
    "  PRED.append(result)\n",
    "  BLEU.append(b)"
   ]
  },
  {
   "cell_type": "code",
   "execution_count": null,
   "metadata": {
    "colab": {
     "base_uri": "https://localhost:8080/",
     "height": 343
    },
    "id": "N3x78I6hUp4l",
    "outputId": "782951d9-65c0-4baf-bbfa-5af86870d66e"
   },
   "outputs": [
    {
     "data": {
      "text/html": [
       "<div>\n",
       "<style scoped>\n",
       "    .dataframe tbody tr th:only-of-type {\n",
       "        vertical-align: middle;\n",
       "    }\n",
       "\n",
       "    .dataframe tbody tr th {\n",
       "        vertical-align: top;\n",
       "    }\n",
       "\n",
       "    .dataframe thead th {\n",
       "        text-align: right;\n",
       "    }\n",
       "</style>\n",
       "<table border=\"1\" class=\"dataframe\">\n",
       "  <thead>\n",
       "    <tr style=\"text-align: right;\">\n",
       "      <th></th>\n",
       "      <th>Reference</th>\n",
       "      <th>Predicited</th>\n",
       "      <th>BLEU_Score</th>\n",
       "    </tr>\n",
       "  </thead>\n",
       "  <tbody>\n",
       "    <tr>\n",
       "      <th>0</th>\n",
       "      <td>what does tom want to know</td>\n",
       "      <td>what do you want to know tom &lt;eos&gt;</td>\n",
       "      <td>0.467138</td>\n",
       "    </tr>\n",
       "    <tr>\n",
       "      <th>1</th>\n",
       "      <td>i felt sick</td>\n",
       "      <td>i felt bad &lt;eos&gt;</td>\n",
       "      <td>0.759836</td>\n",
       "    </tr>\n",
       "    <tr>\n",
       "      <th>2</th>\n",
       "      <td>where did you find it</td>\n",
       "      <td>where did you find it &lt;eos&gt;</td>\n",
       "      <td>1.000000</td>\n",
       "    </tr>\n",
       "    <tr>\n",
       "      <th>3</th>\n",
       "      <td>tom asked mary to go out to have dinner with him</td>\n",
       "      <td>tom asked mary go out dinner with him &lt;eos&gt;</td>\n",
       "      <td>0.480095</td>\n",
       "    </tr>\n",
       "    <tr>\n",
       "      <th>4</th>\n",
       "      <td>tom told me nothing</td>\n",
       "      <td>tom did not tell me anything &lt;eos&gt;</td>\n",
       "      <td>0.759836</td>\n",
       "    </tr>\n",
       "    <tr>\n",
       "      <th>5</th>\n",
       "      <td>do you really think that that would work</td>\n",
       "      <td>do you really think that that would work &lt;eos&gt;</td>\n",
       "      <td>1.000000</td>\n",
       "    </tr>\n",
       "    <tr>\n",
       "      <th>6</th>\n",
       "      <td>i do not think she would understand it</td>\n",
       "      <td>i do not think she would understand it &lt;eos&gt;</td>\n",
       "      <td>1.000000</td>\n",
       "    </tr>\n",
       "    <tr>\n",
       "      <th>7</th>\n",
       "      <td>they do not always obey their parents</td>\n",
       "      <td>they not always obey their parents &lt;eos&gt;</td>\n",
       "      <td>0.673182</td>\n",
       "    </tr>\n",
       "    <tr>\n",
       "      <th>8</th>\n",
       "      <td>we are not enemies</td>\n",
       "      <td>we are not enemies &lt;eos&gt;</td>\n",
       "      <td>1.000000</td>\n",
       "    </tr>\n",
       "    <tr>\n",
       "      <th>9</th>\n",
       "      <td>the soldier gave his name</td>\n",
       "      <td>the soldier has his name &lt;eos&gt;</td>\n",
       "      <td>0.795271</td>\n",
       "    </tr>\n",
       "  </tbody>\n",
       "</table>\n",
       "</div>"
      ],
      "text/plain": [
       "                                          Reference  ... BLEU_Score\n",
       "0                        what does tom want to know  ...   0.467138\n",
       "1                                       i felt sick  ...   0.759836\n",
       "2                             where did you find it  ...   1.000000\n",
       "3  tom asked mary to go out to have dinner with him  ...   0.480095\n",
       "4                               tom told me nothing  ...   0.759836\n",
       "5          do you really think that that would work  ...   1.000000\n",
       "6            i do not think she would understand it  ...   1.000000\n",
       "7             they do not always obey their parents  ...   0.673182\n",
       "8                                we are not enemies  ...   1.000000\n",
       "9                         the soldier gave his name  ...   0.795271\n",
       "\n",
       "[10 rows x 3 columns]"
      ]
     },
     "execution_count": 131,
     "metadata": {
      "tags": []
     },
     "output_type": "execute_result"
    }
   ],
   "source": [
    "OUTPUT = pd.DataFrame(list(zip(REF, PRED, BLEU)), columns = ['Reference', 'Predicited', 'BLEU_Score'])\n",
    "OUTPUT.head(10)"
   ]
  },
  {
   "cell_type": "code",
   "execution_count": null,
   "metadata": {
    "colab": {
     "base_uri": "https://localhost:8080/",
     "height": 34
    },
    "id": "NEjazkJnUp4t",
    "outputId": "aabc15a4-4862-4a06-a781-80ae774f7699"
   },
   "outputs": [
    {
     "name": "stdout",
     "output_type": "stream",
     "text": [
      "Average bleu score on 100 validation data: 0.7678\n"
     ]
    }
   ],
   "source": [
    "print(\"Average bleu score on 100 validation data: {:.4f}\".format(np.mean(BLEU)))"
   ]
  },
  {
   "cell_type": "code",
   "execution_count": null,
   "metadata": {
    "id": "weDbAU6qrvW5"
   },
   "outputs": [],
   "source": []
  },
  {
   "cell_type": "markdown",
   "metadata": {
    "id": "kFoGM2zK8w0c"
   },
   "source": [
    "# Summary"
   ]
  },
  {
   "cell_type": "markdown",
   "metadata": {
    "id": "4PWcBzRP805o"
   },
   "source": [
    "\n",
    "\n",
    "> 100 dim embedding is used in Encoder embeddding layer and pre-trained embeddings are used for Decoder embedding layer.\n",
    "\n",
    "> 64 LSTM units are used.\n",
    "\n",
    "\n",
    "\n"
   ]
  },
  {
   "cell_type": "markdown",
   "metadata": {
    "id": "6Qtu71oW-L-9"
   },
   "source": [
    "| model | Avg.BLEU score |\n",
    "| ------| ---------------| \n",
    "|Simple Encoder-Decoder |0.6605|\n",
    "|Encoder-Decoder (Attention -Concat) |0.7623|\n",
    "|Encoder-Decoder (Attention -General) |0.7678|"
   ]
  },
  {
   "cell_type": "code",
   "execution_count": null,
   "metadata": {
    "id": "Xq1pWDoH-URV"
   },
   "outputs": [],
   "source": []
  }
 ],
 "metadata": {
  "colab": {
   "collapsed_sections": [
    "iAwy3n2JwcRF",
    "KxHWTRCxthis",
    "7EtGS-Dj9b9Y",
    "MYM1yGC9qakO",
    "kzHzztl-FpKf"
   ],
   "name": "Seq_2_Seq.ipynb",
   "provenance": [],
   "toc_visible": true
  },
  "kernelspec": {
   "display_name": "Python 3",
   "language": "python",
   "name": "python3"
  },
  "language_info": {
   "codemirror_mode": {
    "name": "ipython",
    "version": 3
   },
   "file_extension": ".py",
   "mimetype": "text/x-python",
   "name": "python",
   "nbconvert_exporter": "python",
   "pygments_lexer": "ipython3",
   "version": "3.7.6"
  }
 },
 "nbformat": 4,
 "nbformat_minor": 1
}
